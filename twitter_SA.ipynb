{
  "nbformat": 4,
  "nbformat_minor": 0,
  "metadata": {
    "colab": {
      "name": "twitter_SA.ipynb",
      "provenance": [],
      "collapsed_sections": [],
      "include_colab_link": true
    },
    "kernelspec": {
      "display_name": "Python 3",
      "name": "python3"
    },
    "language_info": {
      "name": "python"
    }
  },
  "cells": [
    {
      "cell_type": "markdown",
      "metadata": {
        "id": "view-in-github",
        "colab_type": "text"
      },
      "source": [
        "<a href=\"https://colab.research.google.com/github/nidhivanjare/Twitter_SA/blob/main/twitter_SA.ipynb\" target=\"_parent\"><img src=\"https://colab.research.google.com/assets/colab-badge.svg\" alt=\"Open In Colab\"/></a>"
      ]
    },
    {
      "cell_type": "code",
      "metadata": {
        "colab": {
          "base_uri": "https://localhost:8080/"
        },
        "id": "fitvsvxR_NlA",
        "outputId": "4fa2a7c8-cb4e-4016-e9b1-d96b02fe03d2"
      },
      "source": [
        "!pip install flair \n",
        "import pandas as pd \n",
        "import flair"
      ],
      "execution_count": null,
      "outputs": [
        {
          "output_type": "stream",
          "name": "stdout",
          "text": [
            "Collecting flair\n",
            "  Downloading flair-0.9-py3-none-any.whl (319 kB)\n",
            "\u001b[K     |████████████████████████████████| 319 kB 5.9 MB/s \n",
            "\u001b[?25hCollecting ftfy\n",
            "  Downloading ftfy-6.0.3.tar.gz (64 kB)\n",
            "\u001b[K     |████████████████████████████████| 64 kB 1.3 MB/s \n",
            "\u001b[?25hCollecting sentencepiece==0.1.95\n",
            "  Downloading sentencepiece-0.1.95-cp37-cp37m-manylinux2014_x86_64.whl (1.2 MB)\n",
            "\u001b[K     |████████████████████████████████| 1.2 MB 38.9 MB/s \n",
            "\u001b[?25hCollecting janome\n",
            "  Downloading Janome-0.4.1-py2.py3-none-any.whl (19.7 MB)\n",
            "\u001b[K     |████████████████████████████████| 19.7 MB 5.6 MB/s \n",
            "\u001b[?25hCollecting sqlitedict>=1.6.0\n",
            "  Downloading sqlitedict-1.7.0.tar.gz (28 kB)\n",
            "Collecting transformers>=4.0.0\n",
            "  Downloading transformers-4.11.2-py3-none-any.whl (2.9 MB)\n",
            "\u001b[K     |████████████████████████████████| 2.9 MB 29.7 MB/s \n",
            "\u001b[?25hCollecting conllu>=4.0\n",
            "  Downloading conllu-4.4.1-py2.py3-none-any.whl (15 kB)\n",
            "Requirement already satisfied: tabulate in /usr/local/lib/python3.7/dist-packages (from flair) (0.8.9)\n",
            "Collecting konoha<5.0.0,>=4.0.0\n",
            "  Downloading konoha-4.6.5-py3-none-any.whl (20 kB)\n",
            "Collecting langdetect\n",
            "  Downloading langdetect-1.0.9.tar.gz (981 kB)\n",
            "\u001b[K     |████████████████████████████████| 981 kB 51.9 MB/s \n",
            "\u001b[?25hRequirement already satisfied: torch!=1.8,>=1.5.0 in /usr/local/lib/python3.7/dist-packages (from flair) (1.9.0+cu102)\n",
            "Requirement already satisfied: lxml in /usr/local/lib/python3.7/dist-packages (from flair) (4.2.6)\n",
            "Requirement already satisfied: scikit-learn>=0.21.3 in /usr/local/lib/python3.7/dist-packages (from flair) (0.22.2.post1)\n",
            "Requirement already satisfied: python-dateutil>=2.6.1 in /usr/local/lib/python3.7/dist-packages (from flair) (2.8.2)\n",
            "Requirement already satisfied: regex in /usr/local/lib/python3.7/dist-packages (from flair) (2019.12.20)\n",
            "Requirement already satisfied: hyperopt>=0.1.1 in /usr/local/lib/python3.7/dist-packages (from flair) (0.1.2)\n",
            "Collecting mpld3==0.3\n",
            "  Downloading mpld3-0.3.tar.gz (788 kB)\n",
            "\u001b[K     |████████████████████████████████| 788 kB 55.8 MB/s \n",
            "\u001b[?25hCollecting segtok>=1.5.7\n",
            "  Downloading segtok-1.5.10.tar.gz (25 kB)\n",
            "Requirement already satisfied: gensim<=3.8.3,>=3.4.0 in /usr/local/lib/python3.7/dist-packages (from flair) (3.6.0)\n",
            "Collecting deprecated>=1.2.4\n",
            "  Downloading Deprecated-1.2.13-py2.py3-none-any.whl (9.6 kB)\n",
            "Requirement already satisfied: matplotlib>=2.2.3 in /usr/local/lib/python3.7/dist-packages (from flair) (3.2.2)\n",
            "Collecting huggingface-hub\n",
            "  Downloading huggingface_hub-0.0.17-py3-none-any.whl (52 kB)\n",
            "\u001b[K     |████████████████████████████████| 52 kB 1.4 MB/s \n",
            "\u001b[?25hCollecting more-itertools~=8.8.0\n",
            "  Downloading more_itertools-8.8.0-py3-none-any.whl (48 kB)\n",
            "\u001b[K     |████████████████████████████████| 48 kB 4.6 MB/s \n",
            "\u001b[?25hCollecting bpemb>=0.3.2\n",
            "  Downloading bpemb-0.3.3-py3-none-any.whl (19 kB)\n",
            "Collecting gdown==3.12.2\n",
            "  Downloading gdown-3.12.2.tar.gz (8.2 kB)\n",
            "  Installing build dependencies ... \u001b[?25l\u001b[?25hdone\n",
            "  Getting requirements to build wheel ... \u001b[?25l\u001b[?25hdone\n",
            "    Preparing wheel metadata ... \u001b[?25l\u001b[?25hdone\n",
            "Requirement already satisfied: tqdm>=4.26.0 in /usr/local/lib/python3.7/dist-packages (from flair) (4.62.3)\n",
            "Collecting wikipedia-api\n",
            "  Downloading Wikipedia-API-0.5.4.tar.gz (18 kB)\n",
            "Requirement already satisfied: filelock in /usr/local/lib/python3.7/dist-packages (from gdown==3.12.2->flair) (3.0.12)\n",
            "Requirement already satisfied: six in /usr/local/lib/python3.7/dist-packages (from gdown==3.12.2->flair) (1.15.0)\n",
            "Requirement already satisfied: requests[socks] in /usr/local/lib/python3.7/dist-packages (from gdown==3.12.2->flair) (2.23.0)\n",
            "Requirement already satisfied: numpy in /usr/local/lib/python3.7/dist-packages (from bpemb>=0.3.2->flair) (1.19.5)\n",
            "Requirement already satisfied: wrapt<2,>=1.10 in /usr/local/lib/python3.7/dist-packages (from deprecated>=1.2.4->flair) (1.12.1)\n",
            "Requirement already satisfied: scipy>=0.18.1 in /usr/local/lib/python3.7/dist-packages (from gensim<=3.8.3,>=3.4.0->flair) (1.4.1)\n",
            "Requirement already satisfied: smart-open>=1.2.1 in /usr/local/lib/python3.7/dist-packages (from gensim<=3.8.3,>=3.4.0->flair) (5.2.1)\n",
            "Requirement already satisfied: pymongo in /usr/local/lib/python3.7/dist-packages (from hyperopt>=0.1.1->flair) (3.12.0)\n",
            "Requirement already satisfied: future in /usr/local/lib/python3.7/dist-packages (from hyperopt>=0.1.1->flair) (0.16.0)\n",
            "Requirement already satisfied: networkx in /usr/local/lib/python3.7/dist-packages (from hyperopt>=0.1.1->flair) (2.6.3)\n",
            "Collecting importlib-metadata<4.0.0,>=3.7.0\n",
            "  Downloading importlib_metadata-3.10.1-py3-none-any.whl (14 kB)\n",
            "Collecting requests\n",
            "  Downloading requests-2.26.0-py2.py3-none-any.whl (62 kB)\n",
            "\u001b[K     |████████████████████████████████| 62 kB 679 kB/s \n",
            "\u001b[?25hCollecting overrides<4.0.0,>=3.0.0\n",
            "  Downloading overrides-3.1.0.tar.gz (11 kB)\n",
            "Requirement already satisfied: typing-extensions>=3.6.4 in /usr/local/lib/python3.7/dist-packages (from importlib-metadata<4.0.0,>=3.7.0->konoha<5.0.0,>=4.0.0->flair) (3.7.4.3)\n",
            "Requirement already satisfied: zipp>=0.5 in /usr/local/lib/python3.7/dist-packages (from importlib-metadata<4.0.0,>=3.7.0->konoha<5.0.0,>=4.0.0->flair) (3.5.0)\n",
            "Requirement already satisfied: kiwisolver>=1.0.1 in /usr/local/lib/python3.7/dist-packages (from matplotlib>=2.2.3->flair) (1.3.2)\n",
            "Requirement already satisfied: cycler>=0.10 in /usr/local/lib/python3.7/dist-packages (from matplotlib>=2.2.3->flair) (0.10.0)\n",
            "Requirement already satisfied: pyparsing!=2.0.4,!=2.1.2,!=2.1.6,>=2.0.1 in /usr/local/lib/python3.7/dist-packages (from matplotlib>=2.2.3->flair) (2.4.7)\n",
            "Requirement already satisfied: certifi>=2017.4.17 in /usr/local/lib/python3.7/dist-packages (from requests->bpemb>=0.3.2->flair) (2021.5.30)\n",
            "Requirement already satisfied: idna<4,>=2.5 in /usr/local/lib/python3.7/dist-packages (from requests->bpemb>=0.3.2->flair) (2.10)\n",
            "Requirement already satisfied: charset-normalizer~=2.0.0 in /usr/local/lib/python3.7/dist-packages (from requests->bpemb>=0.3.2->flair) (2.0.6)\n",
            "Requirement already satisfied: urllib3<1.27,>=1.21.1 in /usr/local/lib/python3.7/dist-packages (from requests->bpemb>=0.3.2->flair) (1.24.3)\n",
            "Requirement already satisfied: joblib>=0.11 in /usr/local/lib/python3.7/dist-packages (from scikit-learn>=0.21.3->flair) (1.0.1)\n",
            "Collecting sacremoses\n",
            "  Downloading sacremoses-0.0.46-py3-none-any.whl (895 kB)\n",
            "\u001b[K     |████████████████████████████████| 895 kB 46.9 MB/s \n",
            "\u001b[?25hCollecting tokenizers<0.11,>=0.10.1\n",
            "  Downloading tokenizers-0.10.3-cp37-cp37m-manylinux_2_5_x86_64.manylinux1_x86_64.manylinux_2_12_x86_64.manylinux2010_x86_64.whl (3.3 MB)\n",
            "\u001b[K     |████████████████████████████████| 3.3 MB 34.4 MB/s \n",
            "\u001b[?25hCollecting pyyaml>=5.1\n",
            "  Downloading PyYAML-5.4.1-cp37-cp37m-manylinux1_x86_64.whl (636 kB)\n",
            "\u001b[K     |████████████████████████████████| 636 kB 60.2 MB/s \n",
            "\u001b[?25hRequirement already satisfied: packaging>=20.0 in /usr/local/lib/python3.7/dist-packages (from transformers>=4.0.0->flair) (21.0)\n",
            "Requirement already satisfied: wcwidth in /usr/local/lib/python3.7/dist-packages (from ftfy->flair) (0.2.5)\n",
            "Requirement already satisfied: PySocks!=1.5.7,>=1.5.6 in /usr/local/lib/python3.7/dist-packages (from requests->bpemb>=0.3.2->flair) (1.7.1)\n",
            "Requirement already satisfied: click in /usr/local/lib/python3.7/dist-packages (from sacremoses->transformers>=4.0.0->flair) (7.1.2)\n",
            "Building wheels for collected packages: gdown, mpld3, overrides, segtok, sqlitedict, ftfy, langdetect, wikipedia-api\n",
            "  Building wheel for gdown (PEP 517) ... \u001b[?25l\u001b[?25hdone\n",
            "  Created wheel for gdown: filename=gdown-3.12.2-py3-none-any.whl size=9704 sha256=1ad7b4528b5e6c9ca38e16d06393d4fc7e8d463d8c0bcadae297fe3ef3fa6ea1\n",
            "  Stored in directory: /root/.cache/pip/wheels/ba/e0/7e/726e872a53f7358b4b96a9975b04e98113b005cd8609a63abc\n",
            "  Building wheel for mpld3 (setup.py) ... \u001b[?25l\u001b[?25hdone\n",
            "  Created wheel for mpld3: filename=mpld3-0.3-py3-none-any.whl size=116702 sha256=11f14447581fc0b8d0935577768179619e8c7f3cb719499f569b9cb86a387dba\n",
            "  Stored in directory: /root/.cache/pip/wheels/26/70/6a/1c79e59951a41b4045497da187b2724f5659ca64033cf4548e\n",
            "  Building wheel for overrides (setup.py) ... \u001b[?25l\u001b[?25hdone\n",
            "  Created wheel for overrides: filename=overrides-3.1.0-py3-none-any.whl size=10186 sha256=cf4d7909dc16c459fc9e5340e3f24cdf631d7c1d3a8f5513ce03bcc35c5b1826\n",
            "  Stored in directory: /root/.cache/pip/wheels/3a/0d/38/01a9bc6e20dcfaf0a6a7b552d03137558ba1c38aea47644682\n",
            "  Building wheel for segtok (setup.py) ... \u001b[?25l\u001b[?25hdone\n",
            "  Created wheel for segtok: filename=segtok-1.5.10-py3-none-any.whl size=25030 sha256=493a39021a85f3a47a581bb82472617af9407266ba2486ceee0ff8e1e4978c5c\n",
            "  Stored in directory: /root/.cache/pip/wheels/67/b7/d0/a121106e61339eee5ed083bc230b1c8dc422c49a5a28c2addd\n",
            "  Building wheel for sqlitedict (setup.py) ... \u001b[?25l\u001b[?25hdone\n",
            "  Created wheel for sqlitedict: filename=sqlitedict-1.7.0-py3-none-any.whl size=14392 sha256=995fd6a7aab71ba4fb64fc295f1524dfd285b6646b9e864b53f9bbe8ab9d24a2\n",
            "  Stored in directory: /root/.cache/pip/wheels/af/94/06/18c0e83e9e227da8f3582810b51f319bbfd181e508676a56c8\n",
            "  Building wheel for ftfy (setup.py) ... \u001b[?25l\u001b[?25hdone\n",
            "  Created wheel for ftfy: filename=ftfy-6.0.3-py3-none-any.whl size=41933 sha256=5b952ea08c9b1e002af159b9d75d0955a38b00fb2760d3e24908aba2e7698eeb\n",
            "  Stored in directory: /root/.cache/pip/wheels/19/f5/38/273eb3b5e76dfd850619312f693716ac4518b498f5ffb6f56d\n",
            "  Building wheel for langdetect (setup.py) ... \u001b[?25l\u001b[?25hdone\n",
            "  Created wheel for langdetect: filename=langdetect-1.0.9-py3-none-any.whl size=993242 sha256=e2ef3ef46c50477cde90d5a9379ca9590755cb13b0b99f4e49e995e2f8809682\n",
            "  Stored in directory: /root/.cache/pip/wheels/c5/96/8a/f90c59ed25d75e50a8c10a1b1c2d4c402e4dacfa87f3aff36a\n",
            "  Building wheel for wikipedia-api (setup.py) ... \u001b[?25l\u001b[?25hdone\n",
            "  Created wheel for wikipedia-api: filename=Wikipedia_API-0.5.4-py3-none-any.whl size=13475 sha256=28073189db20dd3128f1a88ba586859907366cf1621831e3a81c55b32885688c\n",
            "  Stored in directory: /root/.cache/pip/wheels/d3/24/56/58ba93cf78be162451144e7a9889603f437976ef1ae7013d04\n",
            "Successfully built gdown mpld3 overrides segtok sqlitedict ftfy langdetect wikipedia-api\n",
            "Installing collected packages: requests, importlib-metadata, tokenizers, sentencepiece, sacremoses, pyyaml, overrides, huggingface-hub, wikipedia-api, transformers, sqlitedict, segtok, mpld3, more-itertools, langdetect, konoha, janome, gdown, ftfy, deprecated, conllu, bpemb, flair\n",
            "  Attempting uninstall: requests\n",
            "    Found existing installation: requests 2.23.0\n",
            "    Uninstalling requests-2.23.0:\n",
            "      Successfully uninstalled requests-2.23.0\n",
            "  Attempting uninstall: importlib-metadata\n",
            "    Found existing installation: importlib-metadata 4.8.1\n",
            "    Uninstalling importlib-metadata-4.8.1:\n",
            "      Successfully uninstalled importlib-metadata-4.8.1\n",
            "  Attempting uninstall: pyyaml\n",
            "    Found existing installation: PyYAML 3.13\n",
            "    Uninstalling PyYAML-3.13:\n",
            "      Successfully uninstalled PyYAML-3.13\n",
            "  Attempting uninstall: more-itertools\n",
            "    Found existing installation: more-itertools 8.10.0\n",
            "    Uninstalling more-itertools-8.10.0:\n",
            "      Successfully uninstalled more-itertools-8.10.0\n",
            "  Attempting uninstall: gdown\n",
            "    Found existing installation: gdown 3.6.4\n",
            "    Uninstalling gdown-3.6.4:\n",
            "      Successfully uninstalled gdown-3.6.4\n",
            "\u001b[31mERROR: pip's dependency resolver does not currently take into account all the packages that are installed. This behaviour is the source of the following dependency conflicts.\n",
            "google-colab 1.0.0 requires requests~=2.23.0, but you have requests 2.26.0 which is incompatible.\n",
            "datascience 0.10.6 requires folium==0.2.1, but you have folium 0.8.3 which is incompatible.\u001b[0m\n",
            "Successfully installed bpemb-0.3.3 conllu-4.4.1 deprecated-1.2.13 flair-0.9 ftfy-6.0.3 gdown-3.12.2 huggingface-hub-0.0.17 importlib-metadata-3.10.1 janome-0.4.1 konoha-4.6.5 langdetect-1.0.9 more-itertools-8.8.0 mpld3-0.3 overrides-3.1.0 pyyaml-5.4.1 requests-2.26.0 sacremoses-0.0.46 segtok-1.5.10 sentencepiece-0.1.95 sqlitedict-1.7.0 tokenizers-0.10.3 transformers-4.11.2 wikipedia-api-0.5.4\n"
          ]
        }
      ]
    },
    {
      "cell_type": "code",
      "metadata": {
        "id": "L26sGwHTtJkP",
        "colab": {
          "base_uri": "https://localhost:8080/"
        },
        "outputId": "04467b4f-380e-406c-eee6-ca5641ffd6dc"
      },
      "source": [
        "from google.colab import drive\n",
        "drive.mount(\"/content/gdrive\")"
      ],
      "execution_count": null,
      "outputs": [
        {
          "output_type": "stream",
          "name": "stdout",
          "text": [
            "Mounted at /content/gdrive\n"
          ]
        }
      ]
    },
    {
      "cell_type": "markdown",
      "metadata": {
        "id": "vJPpjFR8tokt"
      },
      "source": [
        "#Dwyane Jonson "
      ]
    },
    {
      "cell_type": "code",
      "metadata": {
        "colab": {
          "base_uri": "https://localhost:8080/",
          "height": 759
        },
        "id": "jSK_-KB7tJOX",
        "outputId": "1d87607d-3fec-4ea1-bc24-fa626522781b"
      },
      "source": [
        "df = pd.read_csv('/content/gdrive/MyDrive/Twitter_SA/DwayneJonson.csv')\n",
        "df"
      ],
      "execution_count": null,
      "outputs": [
        {
          "output_type": "execute_result",
          "data": {
            "text/html": [
              "<div>\n",
              "<style scoped>\n",
              "    .dataframe tbody tr th:only-of-type {\n",
              "        vertical-align: middle;\n",
              "    }\n",
              "\n",
              "    .dataframe tbody tr th {\n",
              "        vertical-align: top;\n",
              "    }\n",
              "\n",
              "    .dataframe thead th {\n",
              "        text-align: right;\n",
              "    }\n",
              "</style>\n",
              "<table border=\"1\" class=\"dataframe\">\n",
              "  <thead>\n",
              "    <tr style=\"text-align: right;\">\n",
              "      <th></th>\n",
              "      <th>Title</th>\n",
              "      <th>Title_URL</th>\n",
              "      <th>css4rbku5_URL</th>\n",
              "      <th>Date</th>\n",
              "      <th>css901oao1</th>\n",
              "      <th>css4rbku52</th>\n",
              "      <th>Tweet</th>\n",
              "      <th>Replies</th>\n",
              "      <th>Likes</th>\n",
              "    </tr>\n",
              "  </thead>\n",
              "  <tbody>\n",
              "    <tr>\n",
              "      <th>0</th>\n",
              "      <td>Jon Ott</td>\n",
              "      <td>https://twitter.com/OriginalJLP</td>\n",
              "      <td>https://twitter.com/OriginalJLP/status/1310328...</td>\n",
              "      <td>Sep 28, 2020</td>\n",
              "      <td>Replying to \\n@TheRock</td>\n",
              "      <td>@TheRock</td>\n",
              "      <td>Welcome to the crew, glad to have you with us.</td>\n",
              "      <td>3.0</td>\n",
              "      <td>30.0</td>\n",
              "    </tr>\n",
              "    <tr>\n",
              "      <th>1</th>\n",
              "      <td>Sacchidanand Shinde</td>\n",
              "      <td>https://twitter.com/sacchidanand_bs</td>\n",
              "      <td>https://twitter.com/sacchidanand_bs/status/131...</td>\n",
              "      <td>Sep 28, 2020</td>\n",
              "      <td>Replying to \\n@TheRock</td>\n",
              "      <td>@TheRock</td>\n",
              "      <td>Love you rock</td>\n",
              "      <td>11.0</td>\n",
              "      <td>11.0</td>\n",
              "    </tr>\n",
              "    <tr>\n",
              "      <th>2</th>\n",
              "      <td>Jose</td>\n",
              "      <td>https://twitter.com/TripplegcG</td>\n",
              "      <td>https://twitter.com/TripplegcG/status/13103281...</td>\n",
              "      <td>Sep 28, 2020</td>\n",
              "      <td>Replying to \\n@TheRock</td>\n",
              "      <td>@TheRock</td>\n",
              "      <td>All the magatards mad</td>\n",
              "      <td>25.0</td>\n",
              "      <td>129.0</td>\n",
              "    </tr>\n",
              "    <tr>\n",
              "      <th>3</th>\n",
              "      <td>LegRah</td>\n",
              "      <td>https://twitter.com/afpanaccio</td>\n",
              "      <td>https://twitter.com/afpanaccio/status/13103281...</td>\n",
              "      <td>Sep 28, 2020</td>\n",
              "      <td>Replying to \\n@TheRock</td>\n",
              "      <td>@TheRock</td>\n",
              "      <td>NaN</td>\n",
              "      <td>1.0</td>\n",
              "      <td>69.0</td>\n",
              "    </tr>\n",
              "    <tr>\n",
              "      <th>4</th>\n",
              "      <td>Dane Zukes</td>\n",
              "      <td>https://twitter.com/ZRockwellD</td>\n",
              "      <td>https://twitter.com/ZRockwellD/status/13103281...</td>\n",
              "      <td>Sep 28, 2020</td>\n",
              "      <td>Replying to \\n@TheRock</td>\n",
              "      <td>@TheRock</td>\n",
              "      <td>Does the J stand for Jabroni in Donald J Trump</td>\n",
              "      <td>14.0</td>\n",
              "      <td>14.0</td>\n",
              "    </tr>\n",
              "    <tr>\n",
              "      <th>...</th>\n",
              "      <td>...</td>\n",
              "      <td>...</td>\n",
              "      <td>...</td>\n",
              "      <td>...</td>\n",
              "      <td>...</td>\n",
              "      <td>...</td>\n",
              "      <td>...</td>\n",
              "      <td>...</td>\n",
              "      <td>...</td>\n",
              "    </tr>\n",
              "    <tr>\n",
              "      <th>193</th>\n",
              "      <td>Mr.Quagmire</td>\n",
              "      <td>https://twitter.com/Mr_Quagmire_USA</td>\n",
              "      <td>https://twitter.com/Mr_Quagmire_USA/status/131...</td>\n",
              "      <td>Sep 29, 2020</td>\n",
              "      <td>Replying to \\n@TheRock</td>\n",
              "      <td>@TheRock</td>\n",
              "      <td>NaN</td>\n",
              "      <td>NaN</td>\n",
              "      <td>NaN</td>\n",
              "    </tr>\n",
              "    <tr>\n",
              "      <th>194</th>\n",
              "      <td>platypus puppet</td>\n",
              "      <td>https://twitter.com/platypuspuppet</td>\n",
              "      <td>https://twitter.com/platypuspuppet/status/1310...</td>\n",
              "      <td>Sep 29, 2020</td>\n",
              "      <td>Replying to \\n@TheRock</td>\n",
              "      <td>@TheRock</td>\n",
              "      <td>You are the best!</td>\n",
              "      <td>NaN</td>\n",
              "      <td>NaN</td>\n",
              "    </tr>\n",
              "    <tr>\n",
              "      <th>195</th>\n",
              "      <td>Nikki Fourtzialas</td>\n",
              "      <td>https://twitter.com/nFourtzi</td>\n",
              "      <td>https://twitter.com/nFourtzi/status/1310949844...</td>\n",
              "      <td>Sep 29, 2020</td>\n",
              "      <td>Replying to \\n@TheRock</td>\n",
              "      <td>@TheRock</td>\n",
              "      <td>Ugh sorry to see you have fallen for their BS....</td>\n",
              "      <td>3.0</td>\n",
              "      <td>3.0</td>\n",
              "    </tr>\n",
              "    <tr>\n",
              "      <th>196</th>\n",
              "      <td>Jeannie919</td>\n",
              "      <td>https://twitter.com/jeanmc919</td>\n",
              "      <td>https://twitter.com/jeanmc919/status/131095294...</td>\n",
              "      <td>Sep 29, 2020</td>\n",
              "      <td>Replying to \\n@TheRock</td>\n",
              "      <td>@TheRock</td>\n",
              "      <td>NaN</td>\n",
              "      <td>NaN</td>\n",
              "      <td>NaN</td>\n",
              "    </tr>\n",
              "    <tr>\n",
              "      <th>197</th>\n",
              "      <td>Alexsoto</td>\n",
              "      <td>https://twitter.com/Alex634857491</td>\n",
              "      <td>https://twitter.com/Alex634857491/status/13109...</td>\n",
              "      <td>Sep 29, 2020</td>\n",
              "      <td>Replying to \\n@TheRock</td>\n",
              "      <td>@TheRock</td>\n",
              "      <td>I agree with you,vote Biden.</td>\n",
              "      <td>NaN</td>\n",
              "      <td>NaN</td>\n",
              "    </tr>\n",
              "  </tbody>\n",
              "</table>\n",
              "<p>198 rows × 9 columns</p>\n",
              "</div>"
            ],
            "text/plain": [
              "                   Title                            Title_URL  ... Replies  Likes\n",
              "0                Jon Ott      https://twitter.com/OriginalJLP  ...     3.0   30.0\n",
              "1    Sacchidanand Shinde  https://twitter.com/sacchidanand_bs  ...    11.0   11.0\n",
              "2                   Jose       https://twitter.com/TripplegcG  ...    25.0  129.0\n",
              "3                 LegRah       https://twitter.com/afpanaccio  ...     1.0   69.0\n",
              "4             Dane Zukes       https://twitter.com/ZRockwellD  ...    14.0   14.0\n",
              "..                   ...                                  ...  ...     ...    ...\n",
              "193          Mr.Quagmire  https://twitter.com/Mr_Quagmire_USA  ...     NaN    NaN\n",
              "194      platypus puppet   https://twitter.com/platypuspuppet  ...     NaN    NaN\n",
              "195    Nikki Fourtzialas         https://twitter.com/nFourtzi  ...     3.0    3.0\n",
              "196           Jeannie919        https://twitter.com/jeanmc919  ...     NaN    NaN\n",
              "197             Alexsoto    https://twitter.com/Alex634857491  ...     NaN    NaN\n",
              "\n",
              "[198 rows x 9 columns]"
            ]
          },
          "metadata": {},
          "execution_count": 25
        }
      ]
    },
    {
      "cell_type": "code",
      "metadata": {
        "colab": {
          "base_uri": "https://localhost:8080/"
        },
        "id": "APzX-_31ANN3",
        "outputId": "6328db54-906c-467c-b1e3-a8178438d491"
      },
      "source": [
        "# sentiment_model = flair.models.TextClassifier.load('en-sentiment')\n",
        "sentiment_model = flair.models.TextClassifier.load('sentiment-fast')"
      ],
      "execution_count": null,
      "outputs": [
        {
          "output_type": "stream",
          "name": "stdout",
          "text": [
            "2021-10-02 15:58:58,085 https://nlp.informatik.hu-berlin.de/resources/models/sentiment-curated-fasttext-rnn/sentiment-en-mix-ft-rnn_v8.pt not found in cache, downloading to /tmp/tmp0qwc6pwl\n"
          ]
        },
        {
          "output_type": "stream",
          "name": "stderr",
          "text": [
            "100%|██████████| 1241977025/1241977025 [00:53<00:00, 23404960.69B/s]"
          ]
        },
        {
          "output_type": "stream",
          "name": "stdout",
          "text": [
            "2021-10-02 15:59:51,535 copying /tmp/tmp0qwc6pwl to cache at /root/.flair/models/sentiment-en-mix-ft-rnn_v8.pt\n"
          ]
        },
        {
          "output_type": "stream",
          "name": "stderr",
          "text": [
            "\n"
          ]
        },
        {
          "output_type": "stream",
          "name": "stdout",
          "text": [
            "2021-10-02 15:59:56,143 removing temp file /tmp/tmp0qwc6pwl\n",
            "2021-10-02 15:59:56,344 loading file /root/.flair/models/sentiment-en-mix-ft-rnn_v8.pt\n"
          ]
        }
      ]
    },
    {
      "cell_type": "code",
      "metadata": {
        "id": "LhSPJ0GpTG8z"
      },
      "source": [
        "nan_value = float(\"NaN\")\n",
        "# Convert NaN values to empty string\n",
        "df.replace(\"\", nan_value, inplace=True)\n",
        "df.dropna(subset = [\"Tweet\"], inplace=True)"
      ],
      "execution_count": null,
      "outputs": []
    },
    {
      "cell_type": "code",
      "metadata": {
        "colab": {
          "base_uri": "https://localhost:8080/"
        },
        "id": "W03dtXRPb2Ec",
        "outputId": "e0fef95b-e203-41fb-c040-db22f399e566"
      },
      "source": [
        "\n",
        "df1 = df.dropna(subset=['Tweet'])\n",
        "df1 = df\n",
        "df_base = df1\n",
        "\n",
        "index = df_base.index\n",
        "number_of_rows = len(index)\n",
        "print(number_of_rows)"
      ],
      "execution_count": null,
      "outputs": [
        {
          "output_type": "stream",
          "name": "stdout",
          "text": [
            "161\n"
          ]
        }
      ]
    },
    {
      "cell_type": "markdown",
      "metadata": {
        "id": "tbnEo6CHuODK"
      },
      "source": [
        "## 1) Flair\n"
      ]
    },
    {
      "cell_type": "code",
      "metadata": {
        "id": "H2jXsCR0dAwI"
      },
      "source": [
        "\n",
        "sentiment =[]\n",
        "confidence = []\n",
        "\n",
        "for tweet in df1['Tweet']:\n",
        "  if tweet.strip() == '':\n",
        "    sentiment.append(\"\")\n",
        "    confidence.append(\"\")\n",
        "  else:\n",
        "    each_tweet = flair.data.Sentence(tweet)\n",
        "    sentiment_model.predict(each_tweet)\n",
        "\n",
        "    sentiment.append(each_tweet.labels[0].value)\n",
        "    confidence.append(each_tweet.labels[0].score)"
      ],
      "execution_count": null,
      "outputs": []
    },
    {
      "cell_type": "code",
      "metadata": {
        "id": "33BoEoRofjhO"
      },
      "source": [
        "df1['Sent'] = sentiment\n",
        "df1['Score'] = confidence"
      ],
      "execution_count": null,
      "outputs": []
    },
    {
      "cell_type": "code",
      "metadata": {
        "colab": {
          "base_uri": "https://localhost:8080/"
        },
        "id": "PCeqIjIiiDZU",
        "outputId": "b0fff3f8-6a43-4168-aa76-37941a52887e"
      },
      "source": [
        "Positive = 0\n",
        "Negative = 0\n",
        "\n",
        "for c in df1['Sent']:\n",
        "  if c == 'POSITIVE':\n",
        "    Positive += 1\n",
        "  if c == 'NEGATIVE':\n",
        "    Negative += 1\n",
        " \n",
        "\n",
        "print(Positive , Negative)\n",
        "\n",
        "total_likes = 372700\n",
        "\n",
        "Retweet = 75800\n",
        "\n",
        "\n",
        "Influence_DJ = ((161 * (Positive-Negative)) + (total_likes+Retweet))\n",
        "\n",
        "print(Influence_DJ)\n"
      ],
      "execution_count": null,
      "outputs": [
        {
          "output_type": "stream",
          "name": "stdout",
          "text": [
            "91 70\n",
            "451881\n"
          ]
        }
      ]
    },
    {
      "cell_type": "code",
      "metadata": {
        "id": "FVUXlZTEi1UF"
      },
      "source": [
        "df2 = df_base"
      ],
      "execution_count": null,
      "outputs": []
    },
    {
      "cell_type": "markdown",
      "metadata": {
        "id": "dZjDdFt6rO5w"
      },
      "source": [
        "\n",
        "## 2) NLTK"
      ]
    },
    {
      "cell_type": "code",
      "metadata": {
        "colab": {
          "base_uri": "https://localhost:8080/",
          "height": 298
        },
        "id": "uJPkGp26l5Qc",
        "outputId": "451ff596-2631-4c1d-ddd2-181f4ba2684d"
      },
      "source": [
        "\n",
        "# import libraries\n",
        "import pandas as pd\n",
        "import seaborn as sns\n",
        "import nltk\n",
        "from nltk.sentiment.vader import SentimentIntensityAnalyzer\n",
        "\n",
        "# import model\n",
        "nltk.download('vader_lexicon')\n",
        "\n",
        "# configure size of heatmap\n",
        "sns.set(rc={'figure.figsize':(35,3)})\n",
        "\n",
        "# function to visualize \n",
        "def visualize_sentiments(data):\n",
        "  sns.heatmap(pd.DataFrame(data).set_index(\"Sentence\").T,center=0, annot=True, cmap = \"PiYG\")\n",
        "\n",
        "# text\n",
        "sentence = \"To inspire and guide entrepreneurs is where I get my joy of contribution\"\n",
        "\n",
        "# sentiment analysis\n",
        "sid = SentimentIntensityAnalyzer()\n",
        "\n",
        "# call method \n",
        "print(sid.polarity_scores(sentence))\n",
        "\n",
        "# heatmap \n",
        "visualize_sentiments({\n",
        "    \"Sentence\":[\"SENTENCE\"] + sentence.split(),\n",
        "    \"Sentiment\":[sid.polarity_scores(sentence)[\"compound\"]] + [sid.polarity_scores(word)[\"compound\"] for word in sentence.split()]\n",
        "})"
      ],
      "execution_count": null,
      "outputs": [
        {
          "output_type": "stream",
          "name": "stderr",
          "text": [
            "/usr/local/lib/python3.7/dist-packages/nltk/twitter/__init__.py:20: UserWarning: The twython library has not been installed. Some functionality from the twitter package will not be available.\n",
            "  warnings.warn(\"The twython library has not been installed. \"\n"
          ]
        },
        {
          "output_type": "stream",
          "name": "stdout",
          "text": [
            "[nltk_data] Downloading package vader_lexicon to /root/nltk_data...\n",
            "{'neg': 0.0, 'neu': 0.571, 'pos': 0.429, 'compound': 0.8176}\n"
          ]
        },
        {
          "output_type": "display_data",
          "data": {
            "image/png": "[encoded data removed]",
            "text/plain": [
              "<Figure size 2520x216 with 2 Axes>"
            ]
          },
          "metadata": {}
        }
      ]
    },
    {
      "cell_type": "code",
      "metadata": {
        "colab": {
          "base_uri": "https://localhost:8080/",
          "height": 1000
        },
        "id": "VQJ1uEAbmd0b",
        "outputId": "a76ba6cb-101c-4a01-d0c1-86f0f05427a3"
      },
      "source": [
        "df3 = df_base\n",
        "negative = 0\n",
        "positive = 0\n",
        "neutral = 0\n",
        "\n",
        "\n",
        "\n",
        "for tweet in df3['Tweet']:\n",
        "  lst = []\n",
        "  visualize_sentiments({\n",
        "    \"Sentence\":[\"SENTENCE\"] + tweet.split(),\n",
        "    \"Sentiment\":[sid.polarity_scores(tweet)[\"compound\"]] + [sid.polarity_scores(word)[\"compound\"] for word in tweet.split()]\n",
        "})\n",
        "  print(sid.polarity_scores(tweet))\n",
        "  name = sid.polarity_scores(tweet)\n",
        "  lst.append(name['neg'])\n",
        "  lst.append(name['neu'])\n",
        "  lst.append(name['pos'])\n",
        "  var = max(lst)\n",
        "  if(var == name['neu'] ):\n",
        "    neutral += 1\n",
        "  if(var == name['pos'] ):\n",
        "    positive += 1\n",
        "  if(var == name['neg'] ):\n",
        "    negative += 1\n",
        "\n",
        "\n",
        "print(positive , negative ,neutral)\n",
        "Influence_DJ = ((161 * (positive-negative)) + (total_likes+Retweet)) \n",
        "\n",
        "print(Influence_DJ)"
      ],
      "execution_count": null,
      "outputs": [
        {
          "output_type": "stream",
          "name": "stdout",
          "text": [
            "{'neg': 0.0, 'neu': 0.571, 'pos': 0.429, 'compound': 0.7184}\n",
            "{'neg': 0.0, 'neu': 0.323, 'pos': 0.677, 'compound': 0.6369}\n",
            "{'neg': 0.516, 'neu': 0.484, 'pos': 0.0, 'compound': -0.4939}\n",
            "{'neg': 0.0, 'neu': 1.0, 'pos': 0.0, 'compound': 0.0}\n",
            "{'neg': 0.0, 'neu': 1.0, 'pos': 0.0, 'compound': 0.0}\n",
            "{'neg': 0.0, 'neu': 1.0, 'pos': 0.0, 'compound': 0.0}\n",
            "{'neg': 0.0, 'neu': 0.645, 'pos': 0.355, 'compound': 0.296}\n",
            "{'neg': 0.246, 'neu': 0.754, 'pos': 0.0, 'compound': -0.5994}\n",
            "{'neg': 0.205, 'neu': 0.4, 'pos': 0.395, 'compound': 0.2263}\n",
            "{'neg': 0.0, 'neu': 0.494, 'pos': 0.506, 'compound': 0.6249}\n",
            "{'neg': 0.0, 'neu': 0.828, 'pos': 0.172, 'compound': 0.3612}\n",
            "{'neg': 0.235, 'neu': 0.698, 'pos': 0.067, 'compound': -0.7003}\n",
            "{'neg': 0.0, 'neu': 0.818, 'pos': 0.182, 'compound': 0.4404}\n",
            "{'neg': 0.069, 'neu': 0.554, 'pos': 0.377, 'compound': 0.8979}\n",
            "{'neg': 0.118, 'neu': 0.7, 'pos': 0.182, 'compound': 0.5411}\n",
            "{'neg': 0.133, 'neu': 0.696, 'pos': 0.171, 'compound': 0.1531}\n",
            "{'neg': 0.0, 'neu': 1.0, 'pos': 0.0, 'compound': 0.0}\n",
            "{'neg': 0.0, 'neu': 1.0, 'pos': 0.0, 'compound': 0.0}\n",
            "{'neg': 0.065, 'neu': 0.8, 'pos': 0.135, 'compound': 0.4176}\n",
            "{'neg': 0.076, 'neu': 0.845, 'pos': 0.079, 'compound': 0.0258}\n",
            "{'neg': 0.0, 'neu': 1.0, 'pos': 0.0, 'compound': 0.0}\n",
            "{'neg': 0.116, 'neu': 0.58, 'pos': 0.304, 'compound': 0.5487}\n",
            "{'neg': 0.0, 'neu': 0.286, 'pos': 0.714, 'compound': 0.3612}\n",
            "{'neg': 0.076, 'neu': 0.845, 'pos': 0.079, 'compound': 0.0258}\n",
            "{'neg': 0.0, 'neu': 1.0, 'pos': 0.0, 'compound': 0.0}\n",
            "{'neg': 0.0, 'neu': 0.286, 'pos': 0.714, 'compound': 0.3612}\n",
            "{'neg': 0.134, 'neu': 0.682, 'pos': 0.184, 'compound': 0.5574}\n",
            "{'neg': 0.0, 'neu': 0.781, 'pos': 0.219, 'compound': 0.8957}\n",
            "{'neg': 0.0, 'neu': 0.815, 'pos': 0.185, 'compound': 0.3612}\n",
            "{'neg': 0.161, 'neu': 0.593, 'pos': 0.246, 'compound': 0.6115}\n",
            "{'neg': 0.0, 'neu': 0.781, 'pos': 0.219, 'compound': 0.8957}\n",
            "{'neg': 0.0, 'neu': 0.815, 'pos': 0.185, 'compound': 0.3612}\n",
            "{'neg': 0.161, 'neu': 0.593, 'pos': 0.246, 'compound': 0.6115}\n",
            "{'neg': 0.087, 'neu': 0.636, 'pos': 0.277, 'compound': 0.8979}\n",
            "{'neg': 0.0, 'neu': 1.0, 'pos': 0.0, 'compound': 0.0}\n",
            "{'neg': 0.0, 'neu': 0.649, 'pos': 0.351, 'compound': 0.4019}\n",
            "{'neg': 0.286, 'neu': 0.714, 'pos': 0.0, 'compound': -0.5574}\n",
            "{'neg': 0.153, 'neu': 0.787, 'pos': 0.06, 'compound': -0.6597}\n",
            "{'neg': 0.0, 'neu': 1.0, 'pos': 0.0, 'compound': 0.0}\n",
            "{'neg': 0.162, 'neu': 0.554, 'pos': 0.284, 'compound': 0.3182}\n",
            "{'neg': 0.03, 'neu': 0.76, 'pos': 0.209, 'compound': 0.9115}\n",
            "{'neg': 0.0, 'neu': 1.0, 'pos': 0.0, 'compound': 0.0}\n",
            "{'neg': 0.14, 'neu': 0.727, 'pos': 0.133, 'compound': -0.0804}\n",
            "{'neg': 0.29, 'neu': 0.581, 'pos': 0.13, 'compound': -0.5562}\n",
            "{'neg': 0.0, 'neu': 0.745, 'pos': 0.255, 'compound': 0.8499}\n",
            "{'neg': 0.0, 'neu': 1.0, 'pos': 0.0, 'compound': 0.0}\n",
            "{'neg': 0.0, 'neu': 0.635, 'pos': 0.365, 'compound': 0.959}\n",
            "{'neg': 0.0, 'neu': 0.75, 'pos': 0.25, 'compound': 0.4588}\n",
            "{'neg': 0.0, 'neu': 1.0, 'pos': 0.0, 'compound': 0.0}\n",
            "{'neg': 0.0, 'neu': 0.53, 'pos': 0.47, 'compound': 0.7269}\n",
            "{'neg': 0.0, 'neu': 0.488, 'pos': 0.512, 'compound': 0.8126}\n",
            "{'neg': 0.0, 'neu': 1.0, 'pos': 0.0, 'compound': 0.0}\n",
            "{'neg': 0.133, 'neu': 0.792, 'pos': 0.075, 'compound': -0.5859}\n",
            "{'neg': 0.0, 'neu': 1.0, 'pos': 0.0, 'compound': 0.0}\n",
            "{'neg': 0.0, 'neu': 1.0, 'pos': 0.0, 'compound': 0.0}\n",
            "{'neg': 0.203, 'neu': 0.463, 'pos': 0.335, 'compound': 0.4019}\n",
            "{'neg': 0.293, 'neu': 0.602, 'pos': 0.105, 'compound': -0.8809}\n",
            "{'neg': 0.508, 'neu': 0.492, 'pos': 0.0, 'compound': -0.4767}\n",
            "{'neg': 0.0, 'neu': 1.0, 'pos': 0.0, 'compound': 0.0}\n",
            "{'neg': 0.0, 'neu': 1.0, 'pos': 0.0, 'compound': 0.0}\n",
            "{'neg': 0.12, 'neu': 0.729, 'pos': 0.151, 'compound': 0.4215}\n",
            "{'neg': 0.281, 'neu': 0.563, 'pos': 0.155, 'compound': -0.5005}\n",
            "{'neg': 0.209, 'neu': 0.674, 'pos': 0.117, 'compound': -0.7868}\n",
            "{'neg': 0.0, 'neu': 0.864, 'pos': 0.136, 'compound': 0.2846}\n",
            "{'neg': 0.092, 'neu': 0.719, 'pos': 0.19, 'compound': 0.3612}\n",
            "{'neg': 0.255, 'neu': 0.745, 'pos': 0.0, 'compound': -0.3384}\n",
            "{'neg': 0.0, 'neu': 0.765, 'pos': 0.235, 'compound': 0.8225}\n",
            "{'neg': 0.0, 'neu': 1.0, 'pos': 0.0, 'compound': 0.0}\n",
            "{'neg': 0.0, 'neu': 1.0, 'pos': 0.0, 'compound': 0.0}\n",
            "{'neg': 0.054, 'neu': 0.806, 'pos': 0.14, 'compound': 0.5994}\n",
            "{'neg': 0.0, 'neu': 1.0, 'pos': 0.0, 'compound': 0.0}\n",
            "{'neg': 0.0, 'neu': 1.0, 'pos': 0.0, 'compound': 0.0}\n",
            "{'neg': 0.0, 'neu': 0.58, 'pos': 0.42, 'compound': 0.7003}\n",
            "{'neg': 0.057, 'neu': 0.64, 'pos': 0.303, 'compound': 0.9484}\n",
            "{'neg': 0.03, 'neu': 0.791, 'pos': 0.18, 'compound': 0.8225}\n",
            "{'neg': 0.0, 'neu': 1.0, 'pos': 0.0, 'compound': 0.0}\n",
            "{'neg': 0.0, 'neu': 0.898, 'pos': 0.102, 'compound': 0.4767}\n",
            "{'neg': 0.0, 'neu': 1.0, 'pos': 0.0, 'compound': 0.0}\n",
            "{'neg': 0.139, 'neu': 0.723, 'pos': 0.139, 'compound': 0.0}\n",
            "{'neg': 0.0, 'neu': 1.0, 'pos': 0.0, 'compound': 0.0}\n",
            "{'neg': 0.0, 'neu': 1.0, 'pos': 0.0, 'compound': 0.0}\n",
            "{'neg': 0.0, 'neu': 0.898, 'pos': 0.102, 'compound': 0.4767}\n",
            "{'neg': 0.0, 'neu': 1.0, 'pos': 0.0, 'compound': 0.0}\n",
            "{'neg': 0.139, 'neu': 0.723, 'pos': 0.139, 'compound': 0.0}\n",
            "{'neg': 0.0, 'neu': 1.0, 'pos': 0.0, 'compound': 0.0}\n",
            "{'neg': 0.0, 'neu': 0.649, 'pos': 0.351, 'compound': 0.4019}\n",
            "{'neg': 0.0, 'neu': 0.332, 'pos': 0.668, 'compound': 0.8762}\n",
            "{'neg': 0.0, 'neu': 1.0, 'pos': 0.0, 'compound': 0.0}\n",
            "{'neg': 0.0, 'neu': 1.0, 'pos': 0.0, 'compound': 0.0}\n",
            "{'neg': 0.0, 'neu': 0.828, 'pos': 0.172, 'compound': 0.4019}\n",
            "{'neg': 0.099, 'neu': 0.901, 'pos': 0.0, 'compound': -0.1926}\n",
            "{'neg': 0.0, 'neu': 0.0, 'pos': 1.0, 'compound': 0.6369}\n",
            "{'neg': 0.249, 'neu': 0.623, 'pos': 0.129, 'compound': -0.7897}\n",
            "{'neg': 0.158, 'neu': 0.842, 'pos': 0.0, 'compound': -0.8807}\n",
            "{'neg': 0.19, 'neu': 0.665, 'pos': 0.145, 'compound': -0.4478}\n",
            "{'neg': 0.069, 'neu': 0.931, 'pos': 0.0, 'compound': -0.25}\n",
            "{'neg': 0.288, 'neu': 0.56, 'pos': 0.152, 'compound': -0.8806}\n",
            "{'neg': 0.0, 'neu': 0.946, 'pos': 0.054, 'compound': 0.3612}\n",
            "{'neg': 0.0, 'neu': 0.233, 'pos': 0.767, 'compound': 0.5106}\n",
            "{'neg': 0.025, 'neu': 0.826, 'pos': 0.149, 'compound': 0.7964}\n",
            "{'neg': 0.0, 'neu': 0.691, 'pos': 0.309, 'compound': 0.899}\n",
            "{'neg': 0.0, 'neu': 0.403, 'pos': 0.597, 'compound': 0.9238}\n",
            "{'neg': 0.0, 'neu': 1.0, 'pos': 0.0, 'compound': 0.0}\n",
            "{'neg': 0.0, 'neu': 0.873, 'pos': 0.127, 'compound': 0.4404}\n",
            "{'neg': 0.041, 'neu': 0.795, 'pos': 0.164, 'compound': 0.7713}\n",
            "{'neg': 0.0, 'neu': 0.637, 'pos': 0.363, 'compound': 0.7798}\n",
            "{'neg': 0.097, 'neu': 0.597, 'pos': 0.306, 'compound': 0.6808}\n",
            "{'neg': 0.079, 'neu': 0.711, 'pos': 0.211, 'compound': 0.6124}\n",
            "{'neg': 0.0, 'neu': 1.0, 'pos': 0.0, 'compound': 0.0}\n",
            "{'neg': 0.0, 'neu': 0.738, 'pos': 0.262, 'compound': 0.4927}\n",
            "{'neg': 0.0, 'neu': 0.465, 'pos': 0.535, 'compound': 0.3182}\n",
            "{'neg': 0.056, 'neu': 0.911, 'pos': 0.033, 'compound': -0.2732}\n",
            "{'neg': 0.772, 'neu': 0.228, 'pos': 0.0, 'compound': -0.5256}\n",
            "{'neg': 1.0, 'neu': 0.0, 'pos': 0.0, 'compound': -0.4939}\n",
            "{'neg': 0.0, 'neu': 0.646, 'pos': 0.354, 'compound': 0.6588}\n",
            "{'neg': 0.203, 'neu': 0.621, 'pos': 0.176, 'compound': -0.2023}\n",
            "{'neg': 0.0, 'neu': 1.0, 'pos': 0.0, 'compound': 0.0}\n",
            "{'neg': 0.0, 'neu': 0.646, 'pos': 0.354, 'compound': 0.6588}\n",
            "{'neg': 0.203, 'neu': 0.621, 'pos': 0.176, 'compound': -0.2023}\n",
            "{'neg': 0.0, 'neu': 1.0, 'pos': 0.0, 'compound': 0.0}\n",
            "{'neg': 0.0, 'neu': 1.0, 'pos': 0.0, 'compound': 0.0}\n",
            "{'neg': 0.0, 'neu': 1.0, 'pos': 0.0, 'compound': 0.0}\n",
            "{'neg': 0.113, 'neu': 0.804, 'pos': 0.083, 'compound': -0.304}\n",
            "{'neg': 0.399, 'neu': 0.601, 'pos': 0.0, 'compound': -0.6113}\n",
            "{'neg': 0.0, 'neu': 0.814, 'pos': 0.186, 'compound': 0.3134}\n",
            "{'neg': 0.623, 'neu': 0.377, 'pos': 0.0, 'compound': -0.5106}\n",
            "{'neg': 0.044, 'neu': 0.626, 'pos': 0.33, 'compound': 0.9193}\n",
            "{'neg': 0.399, 'neu': 0.601, 'pos': 0.0, 'compound': -0.6113}\n",
            "{'neg': 0.0, 'neu': 0.814, 'pos': 0.186, 'compound': 0.3134}\n",
            "{'neg': 0.623, 'neu': 0.377, 'pos': 0.0, 'compound': -0.5106}\n",
            "{'neg': 0.044, 'neu': 0.626, 'pos': 0.33, 'compound': 0.9193}\n",
            "{'neg': 0.0, 'neu': 1.0, 'pos': 0.0, 'compound': 0.0}\n",
            "{'neg': 0.442, 'neu': 0.558, 'pos': 0.0, 'compound': -0.3343}\n",
            "{'neg': 0.0, 'neu': 1.0, 'pos': 0.0, 'compound': 0.0}\n",
            "{'neg': 0.243, 'neu': 0.661, 'pos': 0.096, 'compound': -0.8092}\n",
            "{'neg': 0.0, 'neu': 1.0, 'pos': 0.0, 'compound': 0.0}\n",
            "{'neg': 0.0, 'neu': 0.859, 'pos': 0.141, 'compound': 0.6808}\n",
            "{'neg': 0.133, 'neu': 0.647, 'pos': 0.219, 'compound': 0.34}\n",
            "{'neg': 0.0, 'neu': 1.0, 'pos': 0.0, 'compound': 0.0}\n",
            "{'neg': 0.442, 'neu': 0.558, 'pos': 0.0, 'compound': -0.3343}\n",
            "{'neg': 0.0, 'neu': 1.0, 'pos': 0.0, 'compound': 0.0}\n",
            "{'neg': 0.243, 'neu': 0.661, 'pos': 0.096, 'compound': -0.8092}\n",
            "{'neg': 0.0, 'neu': 1.0, 'pos': 0.0, 'compound': 0.0}\n",
            "{'neg': 0.0, 'neu': 0.588, 'pos': 0.412, 'compound': 0.6369}\n",
            "{'neg': 0.0, 'neu': 0.855, 'pos': 0.145, 'compound': 0.4374}\n",
            "{'neg': 0.154, 'neu': 0.67, 'pos': 0.176, 'compound': 0.4664}\n",
            "{'neg': 0.0, 'neu': 0.814, 'pos': 0.186, 'compound': 0.8392}\n",
            "{'neg': 0.0, 'neu': 0.286, 'pos': 0.714, 'compound': 0.3612}\n",
            "{'neg': 0.18, 'neu': 0.82, 'pos': 0.0, 'compound': -0.296}\n",
            "{'neg': 0.583, 'neu': 0.417, 'pos': 0.0, 'compound': -0.1027}\n",
            "{'neg': 0.0, 'neu': 1.0, 'pos': 0.0, 'compound': 0.0}\n",
            "{'neg': 0.0, 'neu': 0.533, 'pos': 0.467, 'compound': 0.9055}\n",
            "{'neg': 0.0, 'neu': 0.714, 'pos': 0.286, 'compound': 0.34}\n",
            "{'neg': 0.0, 'neu': 0.864, 'pos': 0.136, 'compound': 0.2617}\n",
            "{'neg': 0.232, 'neu': 0.362, 'pos': 0.406, 'compound': 0.3395}\n",
            "{'neg': 0.0, 'neu': 0.508, 'pos': 0.492, 'compound': 0.4404}\n",
            "{'neg': 0.0, 'neu': 0.8, 'pos': 0.2, 'compound': 0.3612}\n",
            "{'neg': 0.0, 'neu': 0.574, 'pos': 0.426, 'compound': 0.836}\n",
            "{'neg': 0.0, 'neu': 0.4, 'pos': 0.6, 'compound': 0.6696}\n",
            "{'neg': 0.187, 'neu': 0.511, 'pos': 0.301, 'compound': 0.7184}\n",
            "{'neg': 0.0, 'neu': 0.545, 'pos': 0.455, 'compound': 0.3612}\n",
            "13 7 141\n",
            "449466\n"
          ]
        },
        {
          "output_type": "display_data",
          "data": {
            "image/png": "[encoded data removed]",
            "text/plain": [
              "<Figure size 2520x216 with 162 Axes>"
            ]
          },
          "metadata": {}
        }
      ]
    },
    {
      "cell_type": "markdown",
      "metadata": {
        "id": "bExjQYsRrHTE"
      },
      "source": [
        "## 3) TEXTBLOB"
      ]
    },
    {
      "cell_type": "code",
      "metadata": {
        "colab": {
          "base_uri": "https://localhost:8080/",
          "height": 213
        },
        "id": "j8SvF4gkozmt",
        "outputId": "65441a60-6566-47ab-e1e6-51ef41437f02"
      },
      "source": [
        "\n",
        "\n",
        "# import libraries\n",
        "import pandas as pd\n",
        "import seaborn as sns\n",
        "from textblob import TextBlob\n",
        "\n",
        "# configure size of heatmap\n",
        "sns.set(rc={'figure.figsize':(35,3)})\n",
        "\n",
        "# function to visualize\n",
        "def visualise_sentiments(data):\n",
        "  sns.heatmap(pd.DataFrame(data).set_index(\"Sentence\").T,center=0, annot=True, cmap = \"PiYG\")\n",
        "\n",
        "# text\n",
        "sentence = \"To inspire and guide entrepreneurs is where I get my joy of contribution\"\n",
        "\n",
        "# model\n",
        "TextBlob(sentence).sentiment\n",
        "\n",
        "# visualization\n",
        "visualise_sentiments({\n",
        "      \"Sentence\":[\"SENTENCE\"] + sentence.split(),\n",
        "      \"Sentiment\":[TextBlob(sentence).polarity] + [TextBlob(word).polarity for word in sentence.split()],\n",
        "      \"Subjectivity\":[TextBlob(sentence).subjectivity] + [TextBlob(word).subjectivity for word in sentence.split()],\n",
        "})"
      ],
      "execution_count": null,
      "outputs": [
        {
          "output_type": "display_data",
          "data": {
            "image/png": "[encoded data removed]",
            "text/plain": [
              "<Figure size 2520x216 with 2 Axes>"
            ]
          },
          "metadata": {}
        }
      ]
    },
    {
      "cell_type": "markdown",
      "metadata": {
        "id": "Oq3WYit2qyDR"
      },
      "source": [
        "##Polarity > 0 -> Positive \n",
        "##Polarity < 0 -> Negative\n",
        "##Polarity = 0 -> Neutral"
      ]
    },
    {
      "cell_type": "code",
      "metadata": {
        "colab": {
          "base_uri": "https://localhost:8080/",
          "height": 1000
        },
        "id": "xisJN73NpW4r",
        "outputId": "5be10169-be14-4148-a1c7-0a81e43b8635"
      },
      "source": [
        "df4 = df_base\n",
        "negative1 = 0\n",
        "positive1 = 0\n",
        "neutral1 = 0\n",
        "\n",
        "for tweet in df4['Tweet']:\n",
        "  visualise_sentiments({\n",
        "        \"Sentence\":[\"SENTENCE\"] + tweet.split(),\n",
        "        \"Sentiment\":[TextBlob(tweet).polarity] + [TextBlob(word).polarity for word in tweet.split()],\n",
        "        \"Subjectivity\":[TextBlob(tweet).subjectivity] + [TextBlob(word).subjectivity for word in tweet.split()],\n",
        "  })\n",
        "  \n",
        "  print(TextBlob(tweet).sentiment)\n",
        "  name1 = TextBlob(tweet).sentiment\n",
        "  if(name1.polarity > 0.0 ):\n",
        "    positive1 += 1\n",
        "  if(name1.polarity == 0.0 ):\n",
        "    neutral1 += 1\n",
        "  if(name1.polarity < 0.0):\n",
        "    negative1 += 1\n",
        "\n",
        "\n",
        "print(positive1 , negative1 , neutral1)\n",
        "\n",
        "Influence_DJ = ((161 * (positive1-negative1)) + (total_likes+Retweet))\n",
        "\n",
        "print(Influence_DJ)\n"
      ],
      "execution_count": null,
      "outputs": [
        {
          "output_type": "stream",
          "name": "stdout",
          "text": [
            "Sentiment(polarity=0.65, subjectivity=0.95)\n",
            "Sentiment(polarity=0.5, subjectivity=0.6)\n",
            "Sentiment(polarity=-0.625, subjectivity=1.0)\n",
            "Sentiment(polarity=0.0, subjectivity=0.0)\n",
            "Sentiment(polarity=0.0, subjectivity=0.0)\n",
            "Sentiment(polarity=-0.20833333333333331, subjectivity=0.43333333333333335)\n",
            "Sentiment(polarity=0.5, subjectivity=0.5)\n",
            "Sentiment(polarity=0.08750000000000001, subjectivity=0.39999999999999997)\n",
            "Sentiment(polarity=0.08333333333333334, subjectivity=0.5833333333333333)\n",
            "Sentiment(polarity=0.5, subjectivity=0.55)\n",
            "Sentiment(polarity=0.0, subjectivity=0.0)\n",
            "Sentiment(polarity=0.41666666666666663, subjectivity=0.6944444444444444)\n",
            "Sentiment(polarity=0.35, subjectivity=0.30000000000000004)\n",
            "Sentiment(polarity=0.05000000000000001, subjectivity=0.85)\n",
            "Sentiment(polarity=-0.0697916666666667, subjectivity=0.740625)\n",
            "Sentiment(polarity=0.0, subjectivity=0.0)\n",
            "Sentiment(polarity=0.0, subjectivity=0.0)\n",
            "Sentiment(polarity=0.0, subjectivity=0.0)\n",
            "Sentiment(polarity=0.19999999999999998, subjectivity=0.46666666666666673)\n",
            "Sentiment(polarity=0.16999999999999998, subjectivity=0.31)\n",
            "Sentiment(polarity=0.0, subjectivity=0.0)\n",
            "Sentiment(polarity=0.25, subjectivity=0.2)\n",
            "Sentiment(polarity=0.0, subjectivity=0.0)\n",
            "Sentiment(polarity=0.16999999999999998, subjectivity=0.31)\n",
            "Sentiment(polarity=0.0, subjectivity=0.0)\n",
            "Sentiment(polarity=0.0, subjectivity=0.0)\n",
            "Sentiment(polarity=0.13285714285714284, subjectivity=0.5385714285714286)\n",
            "Sentiment(polarity=0.1638888888888889, subjectivity=0.6527777777777778)\n",
            "Sentiment(polarity=0.16, subjectivity=0.5399999999999999)\n",
            "Sentiment(polarity=0.25, subjectivity=0.6)\n",
            "Sentiment(polarity=0.1638888888888889, subjectivity=0.6527777777777778)\n",
            "Sentiment(polarity=0.16, subjectivity=0.5399999999999999)\n",
            "Sentiment(polarity=0.25, subjectivity=0.6)\n",
            "Sentiment(polarity=0.022727272727272717, subjectivity=0.6277777777777778)\n",
            "Sentiment(polarity=0.0, subjectivity=0.0)\n",
            "Sentiment(polarity=0.0, subjectivity=0.5)\n",
            "Sentiment(polarity=0.0, subjectivity=0.0)\n",
            "Sentiment(polarity=-0.5333333333333333, subjectivity=0.7666666666666666)\n",
            "Sentiment(polarity=0.0, subjectivity=0.0)\n",
            "Sentiment(polarity=0.0, subjectivity=0.0)\n",
            "Sentiment(polarity=0.3165584415584416, subjectivity=0.5892857142857142)\n",
            "Sentiment(polarity=0.0, subjectivity=0.0)\n",
            "Sentiment(polarity=0.2, subjectivity=0.39)\n",
            "Sentiment(polarity=-0.041666666666666664, subjectivity=0.8333333333333334)\n",
            "Sentiment(polarity=0.4666666666666667, subjectivity=0.9166666666666667)\n",
            "Sentiment(polarity=0.5063492063492064, subjectivity=0.6896825396825398)\n",
            "Sentiment(polarity=0.35833333333333334, subjectivity=0.37222222222222223)\n",
            "Sentiment(polarity=0.5428571428571429, subjectivity=0.7178571428571429)\n",
            "Sentiment(polarity=0.0, subjectivity=0.0)\n",
            "Sentiment(polarity=0.6083333333333334, subjectivity=0.6)\n",
            "Sentiment(polarity=0.2, subjectivity=0.3)\n",
            "Sentiment(polarity=0.0, subjectivity=0.0)\n",
            "Sentiment(polarity=-0.125, subjectivity=0.375)\n",
            "Sentiment(polarity=0.0, subjectivity=0.0)\n",
            "Sentiment(polarity=0.0, subjectivity=0.0)\n",
            "Sentiment(polarity=-0.6999999999999998, subjectivity=0.6666666666666666)\n",
            "Sentiment(polarity=-0.2729166666666667, subjectivity=0.5283333333333333)\n",
            "Sentiment(polarity=-0.75, subjectivity=0.75)\n",
            "Sentiment(polarity=0.0, subjectivity=0.0)\n",
            "Sentiment(polarity=0.0, subjectivity=0.0)\n",
            "Sentiment(polarity=0.44166666666666665, subjectivity=0.6166666666666667)\n",
            "Sentiment(polarity=0.03351648351648352, subjectivity=0.6189010989010989)\n",
            "Sentiment(polarity=0.12878787878787878, subjectivity=0.31111111111111106)\n",
            "Sentiment(polarity=0.4166666666666667, subjectivity=0.5)\n",
            "Sentiment(polarity=0.25, subjectivity=1.0)\n",
            "Sentiment(polarity=-0.125, subjectivity=1.0)\n",
            "Sentiment(polarity=0.07095238095238095, subjectivity=0.3276190476190476)\n",
            "Sentiment(polarity=-0.20833333333333331, subjectivity=0.16666666666666666)\n",
            "Sentiment(polarity=-0.25, subjectivity=0.25)\n",
            "Sentiment(polarity=0.15396825396825398, subjectivity=0.5706349206349206)\n",
            "Sentiment(polarity=0.0, subjectivity=0.0)\n",
            "Sentiment(polarity=0.1, subjectivity=0.3)\n",
            "Sentiment(polarity=0.7, subjectivity=0.6000000000000001)\n",
            "Sentiment(polarity=0.3684523809523809, subjectivity=0.8023809523809523)\n",
            "Sentiment(polarity=-0.12962962962962962, subjectivity=0.47777777777777786)\n",
            "Sentiment(polarity=0.0, subjectivity=0.0)\n",
            "Sentiment(polarity=0.1369047619047619, subjectivity=0.5)\n",
            "Sentiment(polarity=0.0, subjectivity=0.0)\n",
            "Sentiment(polarity=-0.08888888888888889, subjectivity=0.11666666666666665)\n",
            "Sentiment(polarity=-0.06565656565656565, subjectivity=0.4404040404040404)\n",
            "Sentiment(polarity=0.0, subjectivity=0.0)\n",
            "Sentiment(polarity=0.1369047619047619, subjectivity=0.5)\n",
            "Sentiment(polarity=0.0, subjectivity=0.0)\n",
            "Sentiment(polarity=-0.08888888888888889, subjectivity=0.11666666666666665)\n",
            "Sentiment(polarity=-0.06565656565656565, subjectivity=0.4404040404040404)\n",
            "Sentiment(polarity=0.0, subjectivity=0.5)\n",
            "Sentiment(polarity=0.31666666666666665, subjectivity=0.6666666666666666)\n",
            "Sentiment(polarity=0.0, subjectivity=0.0)\n",
            "Sentiment(polarity=0.0, subjectivity=0.0)\n",
            "Sentiment(polarity=0.0, subjectivity=0.3125)\n",
            "Sentiment(polarity=0.036111111111111115, subjectivity=0.3138888888888889)\n",
            "Sentiment(polarity=0.5, subjectivity=0.6)\n",
            "Sentiment(polarity=-0.16, subjectivity=0.8300000000000001)\n",
            "Sentiment(polarity=-0.25, subjectivity=0.5)\n",
            "Sentiment(polarity=-1.0, subjectivity=1.0)\n",
            "Sentiment(polarity=0.0, subjectivity=0.0)\n",
            "Sentiment(polarity=-0.42499999999999993, subjectivity=0.6666666666666666)\n",
            "Sentiment(polarity=0.08367346938775509, subjectivity=0.6193877551020409)\n",
            "Sentiment(polarity=0.0, subjectivity=0.0)\n",
            "Sentiment(polarity=0.18675595238095238, subjectivity=0.397172619047619)\n",
            "Sentiment(polarity=0.175, subjectivity=0.375)\n",
            "Sentiment(polarity=0.1, subjectivity=0.95)\n",
            "Sentiment(polarity=0.0, subjectivity=0.0)\n",
            "Sentiment(polarity=0.5, subjectivity=0.5)\n",
            "Sentiment(polarity=0.012499999999999997, subjectivity=0.325)\n",
            "Sentiment(polarity=0.075, subjectivity=0.25)\n",
            "Sentiment(polarity=0.35, subjectivity=0.65)\n",
            "Sentiment(polarity=-0.07142857142857144, subjectivity=0.8452380952380952)\n",
            "Sentiment(polarity=0.0, subjectivity=0.0)\n",
            "Sentiment(polarity=0.9100000000000001, subjectivity=1.0)\n",
            "Sentiment(polarity=0.35, subjectivity=0.65)\n",
            "Sentiment(polarity=0.04642857142857143, subjectivity=0.4714285714285714)\n",
            "Sentiment(polarity=-0.75, subjectivity=0.75)\n",
            "Sentiment(polarity=-0.6, subjectivity=0.7)\n",
            "Sentiment(polarity=0.4, subjectivity=0.425)\n",
            "Sentiment(polarity=0.0, subjectivity=0.03333333333333333)\n",
            "Sentiment(polarity=0.0, subjectivity=0.0)\n",
            "Sentiment(polarity=0.4, subjectivity=0.425)\n",
            "Sentiment(polarity=0.0, subjectivity=0.03333333333333333)\n",
            "Sentiment(polarity=0.0, subjectivity=0.0)\n",
            "Sentiment(polarity=0.25, subjectivity=0.5)\n",
            "Sentiment(polarity=0.0, subjectivity=0.0)\n",
            "Sentiment(polarity=0.2472222222222222, subjectivity=0.6916666666666668)\n",
            "Sentiment(polarity=-0.5, subjectivity=0.9)\n",
            "Sentiment(polarity=0.2, subjectivity=0.2)\n",
            "Sentiment(polarity=-0.7142857142857143, subjectivity=0.8571428571428571)\n",
            "Sentiment(polarity=0.5, subjectivity=0.7333333333333334)\n",
            "Sentiment(polarity=-0.5, subjectivity=0.9)\n",
            "Sentiment(polarity=0.2, subjectivity=0.2)\n",
            "Sentiment(polarity=-0.7142857142857143, subjectivity=0.8571428571428571)\n",
            "Sentiment(polarity=0.5, subjectivity=0.7333333333333334)\n",
            "Sentiment(polarity=0.0, subjectivity=0.0)\n",
            "Sentiment(polarity=0.0, subjectivity=0.0)\n",
            "Sentiment(polarity=0.0, subjectivity=0.0)\n",
            "Sentiment(polarity=-0.1925, subjectivity=0.6925)\n",
            "Sentiment(polarity=0.0, subjectivity=0.0)\n",
            "Sentiment(polarity=0.375, subjectivity=0.6666666666666666)\n",
            "Sentiment(polarity=0.1, subjectivity=0.1)\n",
            "Sentiment(polarity=0.0, subjectivity=0.0)\n",
            "Sentiment(polarity=0.0, subjectivity=0.0)\n",
            "Sentiment(polarity=0.0, subjectivity=0.0)\n",
            "Sentiment(polarity=-0.1925, subjectivity=0.6925)\n",
            "Sentiment(polarity=0.0, subjectivity=0.0)\n",
            "Sentiment(polarity=1.0, subjectivity=0.3)\n",
            "Sentiment(polarity=0.78125, subjectivity=0.8888888888888888)\n",
            "Sentiment(polarity=0.20625000000000002, subjectivity=0.7)\n",
            "Sentiment(polarity=0.13095238095238093, subjectivity=0.6392857142857143)\n",
            "Sentiment(polarity=0.0, subjectivity=0.0)\n",
            "Sentiment(polarity=0.0, subjectivity=0.0)\n",
            "Sentiment(polarity=-0.2916666666666667, subjectivity=0.5416666666666666)\n",
            "Sentiment(polarity=0.0, subjectivity=0.0)\n",
            "Sentiment(polarity=1.0, subjectivity=1.0)\n",
            "Sentiment(polarity=0.0, subjectivity=0.0)\n",
            "Sentiment(polarity=0.5, subjectivity=0.5)\n",
            "Sentiment(polarity=0.875, subjectivity=0.6000000000000001)\n",
            "Sentiment(polarity=0.2, subjectivity=0.2)\n",
            "Sentiment(polarity=0.0, subjectivity=0.0)\n",
            "Sentiment(polarity=-0.16666666666666666, subjectivity=0.5)\n",
            "Sentiment(polarity=1.0, subjectivity=0.3)\n",
            "Sentiment(polarity=0.040000000000000015, subjectivity=0.4800000000000001)\n",
            "Sentiment(polarity=0.0, subjectivity=0.0)\n",
            "75 32 54\n",
            "455423\n"
          ]
        },
        {
          "output_type": "display_data",
          "data": {
            "image/png": "[encoded data removed]",
            "text/plain": [
              "<Figure size 2520x216 with 162 Axes>"
            ]
          },
          "metadata": {}
        }
      ]
    },
    {
      "cell_type": "markdown",
      "metadata": {
        "id": "lue6AaS8I7Hn"
      },
      "source": [
        "## 4) XgBoost - Algorithmia\n"
      ]
    },
    {
      "cell_type": "code",
      "metadata": {
        "colab": {
          "base_uri": "https://localhost:8080/",
          "height": 477
        },
        "id": "ZCbHri7trq0j",
        "outputId": "dc4f9654-d5da-4511-92e2-1e9fa77078e5"
      },
      "source": [
        "!pip install algorithmia\n",
        "import Algorithmia\n",
        "\n",
        "input = \"I am glad that I bought this. It works great!\"\n",
        "client = Algorithmia.client('sim0/CA0mCa6Xz3FAkyoHb45G5I1')\n",
        "algo = client.algo('asli/xgboost_basic_sentiment_analysis/0.1.1')\n",
        "algo.set_options(timeout=20) # optional"
      ],
      "execution_count": null,
      "outputs": [
        {
          "output_type": "stream",
          "name": "stdout",
          "text": [
            "Collecting algorithmia\n",
            "  Downloading algorithmia-1.12.1-py2.py3-none-any.whl (23 kB)\n",
            "Requirement already satisfied: six in /usr/local/lib/python3.7/dist-packages (from algorithmia) (1.15.0)\n",
            "Collecting argparse\n",
            "  Downloading argparse-1.4.0-py2.py3-none-any.whl (23 kB)\n",
            "Requirement already satisfied: toml in /usr/local/lib/python3.7/dist-packages (from algorithmia) (0.10.2)\n",
            "Requirement already satisfied: requests in /usr/local/lib/python3.7/dist-packages (from algorithmia) (2.26.0)\n",
            "Collecting algorithmia-adk<1.1,>=1.0.2\n",
            "  Downloading algorithmia_adk-1.0.4-py2.py3-none-any.whl (3.9 kB)\n",
            "Collecting enum-compat\n",
            "  Downloading enum_compat-0.0.3-py3-none-any.whl (1.3 kB)\n",
            "Collecting algorithmia-api-client==1.5.1\n",
            "  Downloading algorithmia_api_client-1.5.1-py2.py3-none-any.whl (150 kB)\n",
            "\u001b[K     |████████████████████████████████| 150 kB 8.3 MB/s \n",
            "\u001b[?25hRequirement already satisfied: python-dateutil in /usr/local/lib/python3.7/dist-packages (from algorithmia-api-client==1.5.1->algorithmia) (2.8.2)\n",
            "Requirement already satisfied: urllib3>=1.15 in /usr/local/lib/python3.7/dist-packages (from algorithmia-api-client==1.5.1->algorithmia) (1.24.3)\n",
            "Requirement already satisfied: certifi in /usr/local/lib/python3.7/dist-packages (from algorithmia-api-client==1.5.1->algorithmia) (2021.5.30)\n",
            "Requirement already satisfied: charset-normalizer~=2.0.0 in /usr/local/lib/python3.7/dist-packages (from requests->algorithmia) (2.0.6)\n",
            "Requirement already satisfied: idna<4,>=2.5 in /usr/local/lib/python3.7/dist-packages (from requests->algorithmia) (2.10)\n",
            "Installing collected packages: enum-compat, argparse, algorithmia-api-client, algorithmia-adk, algorithmia\n",
            "Successfully installed algorithmia-1.12.1 algorithmia-adk-1.0.4 algorithmia-api-client-1.5.1 argparse-1.4.0 enum-compat-0.0.3\n"
          ]
        },
        {
          "output_type": "display_data",
          "data": {
            "application/vnd.colab-display-data+json": {
              "pip_warning": {
                "packages": [
                  "argparse"
                ]
              }
            }
          },
          "metadata": {}
        },
        {
          "output_type": "execute_result",
          "data": {
            "text/plain": [
              "<Algorithmia.algorithm.Algorithm at 0x7f5a09dc21d0>"
            ]
          },
          "metadata": {},
          "execution_count": 6
        }
      ]
    },
    {
      "cell_type": "code",
      "metadata": {
        "colab": {
          "base_uri": "https://localhost:8080/"
        },
        "id": "AVh5FSv054mn",
        "outputId": "b0d44b55-a6cb-4973-e308-2e22fb42131b"
      },
      "source": [
        "\n",
        "df5 = df_base\n",
        "neg = 0\n",
        "pos = 0\n",
        "\n",
        "\n",
        "for tweet in df5['Tweet']:\n",
        "  client = Algorithmia.client('sim0/CA0mCa6Xz3FAkyoHb45G5I1')\n",
        "  algo = client.algo('asli/xgboost_basic_sentiment_analysis/0.1.1')\n",
        "  print(algo.pipe(tweet).result)\n",
        "  var = algo.pipe(tweet).result\n",
        "  if var['sentiment'] == 0:\n",
        "    neg +=1\n",
        "  if var['sentiment'] == 1:\n",
        "    pos +=1\n",
        "\n",
        "print(neg,pos)\n",
        "\n",
        "Influence_DJ = ((161 * (pos-neg)) + (total_likes+Retweet)) \n",
        "\n",
        "print(Influence_DJ)\n",
        "\n",
        "\n",
        "\n",
        "    "
      ],
      "execution_count": null,
      "outputs": [
        {
          "output_type": "stream",
          "name": "stdout",
          "text": [
            "{'sentiment': 1}\n",
            "{'sentiment': 1}\n",
            "{'sentiment': 1}\n",
            "{'sentiment': 1}\n",
            "{'sentiment': 1}\n",
            "{'sentiment': 0}\n",
            "{'sentiment': 0}\n",
            "{'sentiment': 1}\n",
            "{'sentiment': 0}\n",
            "{'sentiment': 1}\n",
            "{'sentiment': 1}\n",
            "{'sentiment': 1}\n",
            "{'sentiment': 1}\n",
            "{'sentiment': 1}\n",
            "{'sentiment': 1}\n",
            "{'sentiment': 1}\n",
            "{'sentiment': 1}\n",
            "{'sentiment': 0}\n",
            "{'sentiment': 1}\n",
            "{'sentiment': 1}\n",
            "{'sentiment': 1}\n",
            "{'sentiment': 1}\n",
            "{'sentiment': 1}\n",
            "{'sentiment': 1}\n",
            "{'sentiment': 1}\n",
            "{'sentiment': 1}\n",
            "{'sentiment': 1}\n",
            "{'sentiment': 1}\n",
            "{'sentiment': 1}\n",
            "{'sentiment': 1}\n",
            "{'sentiment': 1}\n",
            "{'sentiment': 1}\n",
            "{'sentiment': 1}\n",
            "{'sentiment': 1}\n",
            "{'sentiment': 1}\n",
            "{'sentiment': 1}\n",
            "{'sentiment': 1}\n",
            "{'sentiment': 1}\n",
            "{'sentiment': 1}\n",
            "{'sentiment': 1}\n",
            "{'sentiment': 1}\n",
            "{'sentiment': 1}\n",
            "{'sentiment': 1}\n",
            "{'sentiment': 0}\n",
            "{'sentiment': 1}\n",
            "{'sentiment': 1}\n",
            "{'sentiment': 1}\n",
            "{'sentiment': 1}\n",
            "{'sentiment': 1}\n",
            "{'sentiment': 1}\n",
            "{'sentiment': 1}\n",
            "{'sentiment': 1}\n",
            "{'sentiment': 1}\n",
            "{'sentiment': 1}\n",
            "{'sentiment': 1}\n",
            "{'sentiment': 1}\n",
            "{'sentiment': 0}\n",
            "{'sentiment': 0}\n",
            "{'sentiment': 1}\n",
            "{'sentiment': 1}\n",
            "{'sentiment': 1}\n",
            "{'sentiment': 0}\n",
            "{'sentiment': 1}\n",
            "{'sentiment': 0}\n",
            "{'sentiment': 1}\n",
            "{'sentiment': 1}\n",
            "{'sentiment': 1}\n",
            "{'sentiment': 1}\n",
            "{'sentiment': 1}\n",
            "{'sentiment': 0}\n",
            "{'sentiment': 1}\n",
            "{'sentiment': 1}\n",
            "{'sentiment': 1}\n",
            "{'sentiment': 1}\n",
            "{'sentiment': 1}\n",
            "{'sentiment': 1}\n",
            "{'sentiment': 0}\n",
            "{'sentiment': 1}\n",
            "{'sentiment': 1}\n",
            "{'sentiment': 1}\n",
            "{'sentiment': 1}\n",
            "{'sentiment': 0}\n",
            "{'sentiment': 1}\n",
            "{'sentiment': 1}\n",
            "{'sentiment': 1}\n",
            "{'sentiment': 1}\n",
            "{'sentiment': 1}\n",
            "{'sentiment': 1}\n",
            "{'sentiment': 1}\n",
            "{'sentiment': 1}\n",
            "{'sentiment': 1}\n",
            "{'sentiment': 1}\n",
            "{'sentiment': 1}\n",
            "{'sentiment': 1}\n",
            "{'sentiment': 1}\n",
            "{'sentiment': 1}\n",
            "{'sentiment': 1}\n",
            "{'sentiment': 1}\n",
            "{'sentiment': 1}\n",
            "{'sentiment': 1}\n",
            "{'sentiment': 0}\n",
            "{'sentiment': 1}\n",
            "{'sentiment': 1}\n",
            "{'sentiment': 1}\n",
            "{'sentiment': 1}\n",
            "{'sentiment': 1}\n",
            "{'sentiment': 1}\n",
            "{'sentiment': 1}\n",
            "{'sentiment': 1}\n",
            "{'sentiment': 1}\n",
            "{'sentiment': 1}\n",
            "{'sentiment': 1}\n",
            "{'sentiment': 1}\n",
            "{'sentiment': 1}\n",
            "{'sentiment': 1}\n",
            "{'sentiment': 1}\n",
            "{'sentiment': 1}\n",
            "{'sentiment': 1}\n",
            "{'sentiment': 1}\n",
            "{'sentiment': 1}\n",
            "{'sentiment': 1}\n",
            "{'sentiment': 1}\n",
            "{'sentiment': 1}\n",
            "{'sentiment': 1}\n",
            "{'sentiment': 1}\n",
            "{'sentiment': 1}\n",
            "{'sentiment': 1}\n",
            "{'sentiment': 1}\n",
            "{'sentiment': 1}\n",
            "{'sentiment': 1}\n",
            "{'sentiment': 1}\n",
            "{'sentiment': 1}\n",
            "{'sentiment': 1}\n",
            "{'sentiment': 1}\n",
            "{'sentiment': 1}\n",
            "{'sentiment': 1}\n",
            "{'sentiment': 1}\n",
            "{'sentiment': 1}\n",
            "{'sentiment': 1}\n",
            "{'sentiment': 1}\n",
            "{'sentiment': 1}\n",
            "{'sentiment': 1}\n",
            "{'sentiment': 1}\n",
            "{'sentiment': 1}\n",
            "{'sentiment': 1}\n",
            "{'sentiment': 1}\n",
            "{'sentiment': 1}\n",
            "{'sentiment': 1}\n",
            "{'sentiment': 1}\n",
            "{'sentiment': 1}\n",
            "{'sentiment': 1}\n",
            "{'sentiment': 1}\n",
            "{'sentiment': 1}\n",
            "{'sentiment': 1}\n",
            "{'sentiment': 1}\n",
            "{'sentiment': 1}\n",
            "{'sentiment': 1}\n",
            "{'sentiment': 1}\n",
            "{'sentiment': 1}\n",
            "{'sentiment': 1}\n",
            "{'sentiment': 1}\n",
            "13 148\n",
            "470235\n"
          ]
        }
      ]
    },
    {
      "cell_type": "markdown",
      "metadata": {
        "id": "vLghV42vw3Hj"
      },
      "source": [
        "#Taylor Swift"
      ]
    },
    {
      "cell_type": "code",
      "metadata": {
        "id": "a71Yi-yK-RxD"
      },
      "source": [
        "TS = pd.read_csv('/content/gdrive/MyDrive/Twitter_SA/TaylorSwift.csv')\n",
        "TS"
      ],
      "execution_count": null,
      "outputs": []
    },
    {
      "cell_type": "code",
      "metadata": {
        "id": "gdlM7bUD7bpS"
      },
      "source": [
        "ts1 = TS.dropna(subset=['Tweets'])\n",
        "\n",
        "nan_value = float(\"NaN\")\n",
        "# Convert NaN values to empty string\n",
        "ts1.replace(\"\", nan_value, inplace=True)\n",
        "ts1.dropna(subset = [\"Tweets\"], inplace=True)\n",
        "Ts_base = ts1\n",
        "Ts_base\n",
        "\n",
        "index = Ts_base.index\n",
        "number_of_rows = len(index)\n",
        "print(number_of_rows)\n"
      ],
      "execution_count": null,
      "outputs": []
    },
    {
      "cell_type": "code",
      "metadata": {
        "id": "nkI8jBhn71SZ"
      },
      "source": [
        "sentiment =[]\n",
        "confidence = []\n",
        "\n",
        "for tweet in ts1['Tweets']:\n",
        "  if tweet.strip() == '':\n",
        "    sentiment.append(\"\")\n",
        "    confidence.append(\"\")\n",
        "  else:\n",
        "    each_tweet = flair.data.Sentence(tweet)\n",
        "    sentiment_model.predict(each_tweet)\n",
        "\n",
        "    sentiment.append(each_tweet.labels[0].value)\n",
        "    confidence.append(each_tweet.labels[0].score)\n",
        "\n",
        "\n",
        "\n",
        "ts1['Sent'] = sentiment\n",
        "ts1['Score'] = confidence\n",
        "ts1"
      ],
      "execution_count": null,
      "outputs": []
    },
    {
      "cell_type": "markdown",
      "metadata": {
        "id": "xOWdEwhdxGAA"
      },
      "source": [
        "## 1) Flair"
      ]
    },
    {
      "cell_type": "code",
      "metadata": {
        "id": "vyzUYlzr8HQC"
      },
      "source": [
        "Positive = 0\n",
        "Negative = 0\n",
        "\n",
        "for c in ts1['Sent']:\n",
        "  if c == 'POSITIVE':\n",
        "    Positive += 1\n",
        "  if c == 'NEGATIVE':\n",
        "    Negative += 1\n",
        "\n",
        "Retweet = 59700\n",
        "\n",
        "total_likes = 396300\n",
        "\n",
        "print(Positive , Negative)\n",
        "\n",
        "\n",
        "Influence_TS = ((164 * (Positive-Negative)) + (total_likes+Retweet)) \n",
        "\n",
        "print(Influence_TS)"
      ],
      "execution_count": null,
      "outputs": []
    },
    {
      "cell_type": "markdown",
      "metadata": {
        "id": "mBVPXL7YG9si"
      },
      "source": [
        "## 2) NKTL\n"
      ]
    },
    {
      "cell_type": "code",
      "metadata": {
        "id": "o8UAppnI8Ucr"
      },
      "source": [
        "ts3 = Ts_base\n",
        "negative = 0\n",
        "positive = 0\n",
        "neutral = 0\n",
        "\n",
        "for tweet in ts3['Tweets']:\n",
        "  lst = []\n",
        "  visualize_sentiments({\n",
        "    \"Sentence\":[\"SENTENCE\"] + tweet.split(),\n",
        "    \"Sentiment\":[sid.polarity_scores(tweet)[\"compound\"]] + [sid.polarity_scores(word)[\"compound\"] for word in tweet.split()]\n",
        "})\n",
        "  print(sid.polarity_scores(tweet))\n",
        "  name = sid.polarity_scores(tweet)\n",
        "  lst.append(name['neg'])\n",
        "  lst.append(name['neu'])\n",
        "  lst.append(name['pos'])\n",
        "  var = max(lst)\n",
        "  if(var == name['neu'] ):\n",
        "    neutral += 1\n",
        "  if(var == name['pos'] ):\n",
        "    positive += 1\n",
        "  if(var == name['neg'] ):\n",
        "    negative += 1\n",
        "\n",
        "print(positive ,negative ,  neutral)\n",
        "Influence_TS = ((164 * (positive-negative)) + (total_likes+Retweet)) \n",
        "\n",
        "print(Influence_TS)"
      ],
      "execution_count": null,
      "outputs": []
    },
    {
      "cell_type": "markdown",
      "metadata": {
        "id": "-M_1QaQNKfki"
      },
      "source": [
        "## 3) Text Blob "
      ]
    },
    {
      "cell_type": "code",
      "metadata": {
        "id": "cWxTQw8IKQJ8"
      },
      "source": [
        "ts4 = Ts_base\n",
        "negative1 = 0\n",
        "positive1 = 0\n",
        "neutral1 = 0\n",
        "\n",
        "\n",
        "for tweet in ts4['Tweets']:\n",
        "  visualise_sentiments({\n",
        "        \"Sentence\":[\"SENTENCE\"] + tweet.split(),\n",
        "        \"Sentiment\":[TextBlob(tweet).polarity] + [TextBlob(word).polarity for word in tweet.split()],\n",
        "        \"Subjectivity\":[TextBlob(tweet).subjectivity] + [TextBlob(word).subjectivity for word in tweet.split()],\n",
        "  })\n",
        "  \n",
        "  print(TextBlob(tweet).sentiment)\n",
        "  name1 = TextBlob(tweet).sentiment\n",
        "  if(name1.polarity > 0.0 ):\n",
        "    positive1 += 1\n",
        "  if(name1.polarity == 0.0 ):\n",
        "    neutral1 += 1\n",
        "  if(name1.polarity < 0.0):\n",
        "    negative1 += 1\n",
        "\n",
        "\n",
        "print(positive1 ,negative1 , neutral1 )\n",
        "Influence_TS = ((164 * (positive1-negative1)) + (total_likes+Retweet))\n",
        "print(Influence_TS)\n"
      ],
      "execution_count": null,
      "outputs": []
    },
    {
      "cell_type": "markdown",
      "metadata": {
        "id": "UE_i9vovEi74"
      },
      "source": [
        "## 4) XgBoost - Algorithmia\n"
      ]
    },
    {
      "cell_type": "code",
      "metadata": {
        "id": "wG1v4VisNilM"
      },
      "source": [
        "ts5 = Ts_base\n",
        "neg = 0\n",
        "pos = 0\n",
        "\n",
        "for tweet in ts5['Tweets']:\n",
        "  client = Algorithmia.client('sim0/CA0mCa6Xz3FAkyoHb45G5I1')\n",
        "  algo = client.algo('asli/xgboost_basic_sentiment_analysis/0.1.1')\n",
        "  print(algo.pipe(tweet).result)\n",
        "  var = algo.pipe(tweet).result\n",
        "  if var['sentiment'] == 0:\n",
        "    neg +=1\n",
        "  if var['sentiment'] == 1:\n",
        "    pos +=1\n",
        "\n",
        "print(pos , neg)\n",
        "Influence_TS = ((164 * (pos-neg)) + (total_likes+Retweet)) \n",
        "\n",
        "print(Influence_TS)\n",
        "    "
      ],
      "execution_count": null,
      "outputs": []
    },
    {
      "cell_type": "markdown",
      "metadata": {
        "id": "GAgJY181xorM"
      },
      "source": [
        "# Mark Cuban "
      ]
    },
    {
      "cell_type": "code",
      "metadata": {
        "id": "7asv35wNJuBr"
      },
      "source": [
        "MC = pd.read_csv('/content/gdrive/MyDrive/Twitter_SA/MarkCuban.csv')\n",
        "MC"
      ],
      "execution_count": null,
      "outputs": []
    },
    {
      "cell_type": "code",
      "metadata": {
        "id": "jo5yr91sK3s0"
      },
      "source": [
        "mc1 = MC.dropna(subset=['Tweet'])\n",
        "nan_value = float(\"NaN\")\n",
        "# Convert NaN values to empty string\n",
        "mc1.replace(\"\", nan_value, inplace=True)\n",
        "mc1.dropna(subset = [\"Tweet\"], inplace=True)\n",
        "Mc_base = mc1\n",
        "Mc_base\n",
        "\n",
        "\n",
        "index = Mc_base.index\n",
        "number_of_rows = len(index)\n",
        "print(number_of_rows)"
      ],
      "execution_count": null,
      "outputs": []
    },
    {
      "cell_type": "markdown",
      "metadata": {
        "id": "jRzXpVGcxwFL"
      },
      "source": [
        "## 1) FLAIR"
      ]
    },
    {
      "cell_type": "code",
      "metadata": {
        "id": "6_-SCKrhLd_y"
      },
      "source": [
        "sentiment =[]\n",
        "confidence = []\n",
        "\n",
        "for tweet in mc1['Tweet']:\n",
        "  if tweet.strip() == '':\n",
        "    sentiment.append(\"\")\n",
        "    confidence.append(\"\")\n",
        "  else:\n",
        "    each_tweet = flair.data.Sentence(tweet)\n",
        "    sentiment_model.predict(each_tweet)\n",
        "\n",
        "    sentiment.append(each_tweet.labels[0].value)\n",
        "    confidence.append(each_tweet.labels[0].score)\n",
        "\n",
        "\n",
        "mc1['Sent'] = sentiment\n",
        "mc1['Score'] = confidence\n",
        "mc1\n",
        "\n"
      ],
      "execution_count": null,
      "outputs": []
    },
    {
      "cell_type": "code",
      "metadata": {
        "id": "ry6-bo8oL0PT"
      },
      "source": [
        "Positive = 0\n",
        "Negative = 0\n",
        "\n",
        "for c in mc1['Sent']:\n",
        "  if c == 'POSITIVE':\n",
        "    Positive += 1\n",
        "  if c == 'NEGATIVE':\n",
        "    Negative += 1\n",
        "\n",
        "Retweet = 1069\n",
        "\n",
        "total_likes = 9855\n",
        "\n",
        "print(Positive , Negative)\n",
        "\n",
        "Influence_MC = ((125 * (Positive-Negative)) + (total_likes+Retweet))\n",
        "\n",
        "print(Influence_MC)"
      ],
      "execution_count": null,
      "outputs": []
    },
    {
      "cell_type": "markdown",
      "metadata": {
        "id": "gPVQz_iByHzl"
      },
      "source": [
        "## 2) NLTK"
      ]
    },
    {
      "cell_type": "code",
      "metadata": {
        "id": "nr-JaG09MCMH"
      },
      "source": [
        "mc3 = Mc_base\n",
        "negative = 0\n",
        "positive = 0\n",
        "neutral = 0\n",
        "\n",
        "for tweet in mc3['Tweet']:\n",
        "  lst = []\n",
        "  visualize_sentiments({\n",
        "    \"Sentence\":[\"SENTENCE\"] + tweet.split(),\n",
        "    \"Sentiment\":[sid.polarity_scores(tweet)[\"compound\"]] + [sid.polarity_scores(word)[\"compound\"] for word in tweet.split()]\n",
        "})\n",
        "  print(sid.polarity_scores(tweet))\n",
        "  name = sid.polarity_scores(tweet)\n",
        "  lst.append(name['neg'])\n",
        "  lst.append(name['neu'])\n",
        "  lst.append(name['pos'])\n",
        "  var = max(lst)\n",
        "  if(var == name['neu'] ):\n",
        "    neutral += 1\n",
        "  if(var == name['pos'] ):\n",
        "    positive += 1\n",
        "  if(var == name['neg'] ):\n",
        "    negative += 1\n",
        "\n",
        "\n",
        "print(positive ,negative , neutral )\n",
        "\n",
        "Influence_MC = ((125 * (positive-negative)) + (total_likes+Retweet)) \n",
        "\n",
        "print(Influence_MC)"
      ],
      "execution_count": null,
      "outputs": []
    },
    {
      "cell_type": "markdown",
      "metadata": {
        "id": "YsqLEwMDyTvn"
      },
      "source": [
        "## 3) TEXT BLOB"
      ]
    },
    {
      "cell_type": "code",
      "metadata": {
        "id": "GIIrUyiINA-u"
      },
      "source": [
        "mc4 = Mc_base\n",
        "negative1 = 0\n",
        "positive1 = 0\n",
        "neutral1 = 0\n",
        "\n",
        "\n",
        "for tweet in mc4['Tweet']:\n",
        "  visualise_sentiments({\n",
        "        \"Sentence\":[\"SENTENCE\"] + tweet.split(),\n",
        "        \"Sentiment\":[TextBlob(tweet).polarity] + [TextBlob(word).polarity for word in tweet.split()],\n",
        "        \"Subjectivity\":[TextBlob(tweet).subjectivity] + [TextBlob(word).subjectivity for word in tweet.split()],\n",
        "  })\n",
        "  \n",
        "  print(TextBlob(tweet).sentiment)\n",
        "  name1 = TextBlob(tweet).sentiment\n",
        "  if(name1.polarity > 0.0 ):\n",
        "    positive1 += 1\n",
        "  if(name1.polarity == 0.0 ):\n",
        "    neutral1 += 1\n",
        "  if(name1.polarity < 0.0):\n",
        "    negative1 += 1\n",
        "\n",
        "\n",
        "print(positive1 ,negative1 ,neutral1)\n",
        "\n",
        "Influence_MC = ((125 * (positive1-negative1)) + (total_likes+Retweet))\n",
        "\n",
        "print(Influence_MC)\n",
        "\n",
        "\n"
      ],
      "execution_count": null,
      "outputs": []
    },
    {
      "cell_type": "markdown",
      "metadata": {
        "id": "eF2g3-tDzOl5"
      },
      "source": [
        "## 4) XGBOOST - ALOGRITHMA"
      ]
    },
    {
      "cell_type": "code",
      "metadata": {
        "id": "JeLUvV5sOy1E"
      },
      "source": [
        "mc5 = Mc_base\n",
        "neg = 0\n",
        "pos = 0\n",
        "\n",
        "for tweet in mc5['Tweet']:\n",
        "  client = Algorithmia.client('sim0/CA0mCa6Xz3FAkyoHb45G5I1')\n",
        "  algo = client.algo('asli/xgboost_basic_sentiment_analysis/0.1.1')\n",
        "  print(algo.pipe(tweet).result)\n",
        "  var = algo.pipe(tweet).result\n",
        "  if var['sentiment'] == 0:\n",
        "    neg +=1\n",
        "  if var['sentiment'] == 1:\n",
        "    pos +=1\n",
        "\n",
        "print(pos , neg)\n",
        "Influence_MC = ((125 * (pos-neg)) + (total_likes+Retweet)) \n",
        "\n",
        "print(Influence_MC)"
      ],
      "execution_count": null,
      "outputs": []
    },
    {
      "cell_type": "markdown",
      "metadata": {
        "id": "LxUyITwkzwoL"
      },
      "source": [
        "# JOHN LEGEND "
      ]
    },
    {
      "cell_type": "code",
      "metadata": {
        "id": "9q4WB7OEWdSa"
      },
      "source": [
        "JL1 = pd.read_csv('/content/gdrive/MyDrive/Twitter_SA/JohnLegend1.csv')\n",
        "JL1\n"
      ],
      "execution_count": null,
      "outputs": []
    },
    {
      "cell_type": "code",
      "metadata": {
        "id": "b59w4GIWbdho"
      },
      "source": [
        "JL2 = pd.read_csv('/content/gdrive/MyDrive/Twitter_SA/JohnLegend2.csv')\n",
        "JL2"
      ],
      "execution_count": null,
      "outputs": []
    },
    {
      "cell_type": "code",
      "metadata": {
        "id": "oSF-b6FiYCGf"
      },
      "source": [
        "jl11 = JL1.dropna(subset=['Tweet'])\n",
        "nan_value = float(\"NaN\")\n",
        "# Convert NaN values to empty string\n",
        "jl11.replace(\"\", nan_value, inplace=True)\n",
        "\n",
        "jl11.dropna(subset = [\"Tweet\"], inplace=True)\n",
        "\n",
        "Jl1_base = jl11\n",
        "Jl1_base\n",
        "\n",
        "\n",
        "index = Jl1_base.index\n",
        "number_of_rows = len(index)\n",
        "print(number_of_rows)"
      ],
      "execution_count": null,
      "outputs": []
    },
    {
      "cell_type": "code",
      "metadata": {
        "id": "B5dgFm1yd0Ll"
      },
      "source": [
        "jl21 = JL2.dropna(subset=['Tweet'])\n",
        "nan_value = float(\"NaN\")\n",
        "# Convert NaN values to empty string\n",
        "jl21.replace(\"\", nan_value, inplace=True)\n",
        "\n",
        "\n",
        "jl21.dropna(subset = [\"Tweet\"], inplace=True)\\\n",
        "\n",
        "Jl2_base = jl21\n",
        "Jl2_base\n",
        "\n",
        "index = Jl2_base.index\n",
        "number_of_rows = len(index)\n",
        "print(number_of_rows)"
      ],
      "execution_count": null,
      "outputs": []
    },
    {
      "cell_type": "markdown",
      "metadata": {
        "id": "oVjLzEl30JeF"
      },
      "source": [
        "## 1) FLAIR"
      ]
    },
    {
      "cell_type": "code",
      "metadata": {
        "id": "_OmFy99FYkhB"
      },
      "source": [
        "sentiment =[]\n",
        "confidence = []\n",
        "\n",
        "for tweet in jl11['Tweet']:\n",
        "  if tweet.strip() == '':\n",
        "    sentiment.append(\"\")\n",
        "    confidence.append(\"\")\n",
        "  else:\n",
        "    each_tweet = flair.data.Sentence(tweet)\n",
        "    sentiment_model.predict(each_tweet)\n",
        "\n",
        "    sentiment.append(each_tweet.labels[0].value)\n",
        "    confidence.append(each_tweet.labels[0].score)\n",
        "\n",
        "\n",
        "jl11['Sent'] = sentiment\n",
        "jl11['Score'] = confidence\n",
        "jl11\n"
      ],
      "execution_count": null,
      "outputs": []
    },
    {
      "cell_type": "code",
      "metadata": {
        "id": "lkjhiiyue2I5"
      },
      "source": [
        "sentiment =[]\n",
        "confidence = []\n",
        "\n",
        "for tweet in jl21['Tweet']:\n",
        "  if tweet.strip() == '':\n",
        "    sentiment.append(\"\")\n",
        "    confidence.append(\"\")\n",
        "  else:\n",
        "    each_tweet = flair.data.Sentence(tweet)\n",
        "    sentiment_model.predict(each_tweet)\n",
        "\n",
        "    sentiment.append(each_tweet.labels[0].value)\n",
        "    confidence.append(each_tweet.labels[0].score)\n",
        "\n",
        "\n",
        "jl21['Sent'] = sentiment\n",
        "jl21['Score'] = confidence\n",
        "jl21"
      ],
      "execution_count": null,
      "outputs": []
    },
    {
      "cell_type": "code",
      "metadata": {
        "id": "im6Fe18mYtoU"
      },
      "source": [
        "Positive = 0\n",
        "Negative = 0\n",
        "\n",
        "for c in jl11['Sent']:\n",
        "  if c == 'POSITIVE':\n",
        "    Positive += 1\n",
        "  if c == 'NEGATIVE':\n",
        "    Negative += 1\n",
        "\n",
        "\n",
        "for c in jl21['Sent']:\n",
        "  if c == 'POSITIVE':\n",
        "    Positive += 1\n",
        "  if c == 'NEGATIVE':\n",
        "    Negative += 1\n",
        "\n",
        "\n",
        "Retweet =  569 + 1000\n",
        "\n",
        "total_likes = 4800 + 5500\n",
        "\n",
        "print(Positive , Negative)\n",
        "\n",
        "\n",
        "Influence_JL = ((101 * (Positive-Negative)) + (total_likes+Retweet)) \n",
        "\n",
        "print(Influence_JL)"
      ],
      "execution_count": null,
      "outputs": []
    },
    {
      "cell_type": "markdown",
      "metadata": {
        "id": "D0kYHkqO0SKh"
      },
      "source": [
        "## 2) NLTK"
      ]
    },
    {
      "cell_type": "code",
      "metadata": {
        "id": "3k-UsrznY7th"
      },
      "source": [
        "jl13 = Jl1_base\n",
        "jl23 = Jl2_base\n",
        "\n",
        "negative = 0\n",
        "positive = 0\n",
        "neutral = 0\n",
        "\n",
        "\n",
        "for tweet in jl13['Tweet']:\n",
        "  lst = []\n",
        "  visualize_sentiments({\n",
        "    \"Sentence\":[\"SENTENCE\"] + tweet.split(),\n",
        "    \"Sentiment\":[sid.polarity_scores(tweet)[\"compound\"]] + [sid.polarity_scores(word)[\"compound\"] for word in tweet.split()]\n",
        "})\n",
        "  print(sid.polarity_scores(tweet))\n",
        "  name = sid.polarity_scores(tweet)\n",
        "  lst.append(name['neg'])\n",
        "  lst.append(name['neu'])\n",
        "  lst.append(name['pos'])\n",
        "  var = max(lst)\n",
        "  if(var == name['neu'] ):\n",
        "    neutral += 1\n",
        "  if(var == name['pos'] ):\n",
        "    positive += 1\n",
        "  if(var == name['neg'] ):\n",
        "    negative += 1\n",
        "\n",
        "for tweet in jl23['Tweet']:\n",
        "  lst = []\n",
        "  visualize_sentiments({\n",
        "    \"Sentence\":[\"SENTENCE\"] + tweet.split(),\n",
        "    \"Sentiment\":[sid.polarity_scores(tweet)[\"compound\"]] + [sid.polarity_scores(word)[\"compound\"] for word in tweet.split()]\n",
        "})\n",
        "  print(sid.polarity_scores(tweet))\n",
        "  name = sid.polarity_scores(tweet)\n",
        "  lst.append(name['neg'])\n",
        "  lst.append(name['neu'])\n",
        "  lst.append(name['pos'])\n",
        "  var = max(lst)\n",
        "  if(var == name['neu'] ):\n",
        "    neutral += 1\n",
        "  if(var == name['pos'] ):\n",
        "    positive += 1\n",
        "  if(var == name['neg'] ):\n",
        "    negative += 1\n",
        "\n",
        "print(positive , negative,neutral)\n",
        "Influence_JL1 = ((101 * (positive-negative)) + (total_likes+Retweet)) \n",
        "print(Influence_JL1)"
      ],
      "execution_count": null,
      "outputs": []
    },
    {
      "cell_type": "markdown",
      "metadata": {
        "id": "TqEMhFlgjri2"
      },
      "source": [
        "## 3) TEXTBLOB\n"
      ]
    },
    {
      "cell_type": "code",
      "metadata": {
        "id": "8C-QY5ZxgniS"
      },
      "source": [
        "jl24 = Jl2_base\n",
        "jl14 = Jl1_base\n",
        "\n",
        "negative1 = 0\n",
        "positive1 = 0\n",
        "neutral1 = 0\n",
        "\n",
        "\n",
        "for tweet in jl14['Tweet']:\n",
        "  visualise_sentiments({\n",
        "        \"Sentence\":[\"SENTENCE\"] + tweet.split(),\n",
        "        \"Sentiment\":[TextBlob(tweet).polarity] + [TextBlob(word).polarity for word in tweet.split()],\n",
        "        \"Subjectivity\":[TextBlob(tweet).subjectivity] + [TextBlob(word).subjectivity for word in tweet.split()],\n",
        "  })\n",
        "  \n",
        "  print(TextBlob(tweet).sentiment)\n",
        "  name1 = TextBlob(tweet).sentiment\n",
        "  if(name1.polarity > 0.0 ):\n",
        "    positive1 += 1\n",
        "  if(name1.polarity == 0.0 ):\n",
        "    neutral1 += 1\n",
        "  if(name1.polarity < 0.0):\n",
        "    negative1 += 1\n",
        "\n",
        "for tweet in jl24['Tweet']:\n",
        "  visualise_sentiments({\n",
        "        \"Sentence\":[\"SENTENCE\"] + tweet.split(),\n",
        "        \"Sentiment\":[TextBlob(tweet).polarity] + [TextBlob(word).polarity for word in tweet.split()],\n",
        "        \"Subjectivity\":[TextBlob(tweet).subjectivity] + [TextBlob(word).subjectivity for word in tweet.split()],\n",
        "  })\n",
        "  \n",
        "  print(TextBlob(tweet).sentiment)\n",
        "  name1 = TextBlob(tweet).sentiment\n",
        "  if(name1.polarity > 0.0 ):\n",
        "    positive1 += 1\n",
        "  if(name1.polarity == 0.0 ):\n",
        "    neutral1 += 1\n",
        "  if(name1.polarity < 0.0):\n",
        "    negative1 += 1\n",
        "\n",
        "print(positive1 , negative1 , neutral1)\n",
        "\n",
        "Influence_JL = ((101 * (positive1-negative1)) + (total_likes+Retweet))\n",
        "\n",
        "print(Influence_JL) "
      ],
      "execution_count": null,
      "outputs": []
    },
    {
      "cell_type": "markdown",
      "metadata": {
        "id": "7PYXAJ9O0adP"
      },
      "source": [
        "## 4) XGBOOST ALGORITHMA "
      ]
    },
    {
      "cell_type": "code",
      "metadata": {
        "id": "NjfKL4jkardJ"
      },
      "source": [
        "jl15 = Jl1_base\n",
        "jl25 = Jl2_base\n",
        "\n",
        "neg = 0\n",
        "pos = 0\n",
        "\n",
        "\n",
        "\n",
        "\n",
        "for tweet in jl15['Tweet']:\n",
        "  client = Algorithmia.client('sim0/CA0mCa6Xz3FAkyoHb45G5I1')\n",
        "  algo = client.algo('asli/xgboost_basic_sentiment_analysis/0.1.1')\n",
        "  print(algo.pipe(tweet).result)\n",
        "  var = algo.pipe(tweet).result\n",
        "  if var['sentiment'] == 0:\n",
        "    neg +=1\n",
        "  if var['sentiment'] == 1:\n",
        "    pos +=1\n",
        "\n",
        "for tweet in jl25['Tweet']:\n",
        "  client = Algorithmia.client('sim0/CA0mCa6Xz3FAkyoHb45G5I1')\n",
        "  algo = client.algo('asli/xgboost_basic_sentiment_analysis/0.1.1')\n",
        "  print(algo.pipe(tweet).result)\n",
        "  var = algo.pipe(tweet).result\n",
        "  if var['sentiment'] == 0:\n",
        "    neg +=1\n",
        "  if var['sentiment'] == 1:\n",
        "    pos +=1\n",
        "\n",
        "print(pos , neg )\n",
        "Influence_JL = (( 101 * (pos-neg)) + (total_likes+Retweet)) \n",
        "\n",
        "print(Influence_JL)"
      ],
      "execution_count": null,
      "outputs": []
    },
    {
      "cell_type": "markdown",
      "metadata": {
        "id": "0_xOluJmeBvY"
      },
      "source": [
        "#Jennifer Hudson"
      ]
    },
    {
      "cell_type": "code",
      "metadata": {
        "id": "7T9PObgyeBHt"
      },
      "source": [
        "JH = pd.read_csv('/content/gdrive/MyDrive/Twitter_SA/JenniferHudson.csv')\n",
        "JH"
      ],
      "execution_count": null,
      "outputs": []
    },
    {
      "cell_type": "markdown",
      "metadata": {
        "id": "_rCUyDpZus8i"
      },
      "source": [
        ""
      ]
    },
    {
      "cell_type": "code",
      "metadata": {
        "id": "YjEd-NLeurp3"
      },
      "source": [
        "jh1 = JH.dropna(subset=['Tweet'])\n",
        "nan_value = float(\"NaN\")\n",
        "# Convert NaN values to empty string\n",
        "jh1.replace(\"\", nan_value, inplace=True)\n",
        "\n",
        "jh1.dropna(subset = [\"Tweet\"], inplace=True)\n",
        "Jh_base = jh1\n",
        "Jh_base\n",
        "\n",
        "index = Jh_base.index\n",
        "number_of_rows = len(index)\n",
        "print(number_of_rows)"
      ],
      "execution_count": null,
      "outputs": []
    },
    {
      "cell_type": "code",
      "metadata": {
        "id": "swPPKBh_vQGN"
      },
      "source": [
        "sentiment =[]\n",
        "confidence = []\n",
        "\n",
        "for tweet in jh1['Tweet']:\n",
        "  if tweet.strip() == '':\n",
        "    sentiment.append(\"\")\n",
        "    confidence.append(\"\")\n",
        "  else:\n",
        "    each_tweet = flair.data.Sentence(tweet)\n",
        "    sentiment_model.predict(each_tweet)\n",
        "\n",
        "    sentiment.append(each_tweet.labels[0].value)\n",
        "    confidence.append(each_tweet.labels[0].score)\n",
        "\n",
        "\n",
        "\n",
        "jh1['Sent'] = sentiment\n",
        "jh1['Score'] = confidence\n",
        "jh1\n",
        "\n"
      ],
      "execution_count": null,
      "outputs": []
    },
    {
      "cell_type": "markdown",
      "metadata": {
        "id": "8LXSPQx6vbob"
      },
      "source": [
        "##1) flair\n"
      ]
    },
    {
      "cell_type": "code",
      "metadata": {
        "id": "ad8OqR1kvWoZ"
      },
      "source": [
        "Positive = 0\n",
        "Negative = 0\n",
        "\n",
        "for c in jh1['Sent']:\n",
        "  if c == 'POSITIVE':\n",
        "    Positive += 1\n",
        "  if c == 'NEGATIVE':\n",
        "    Negative += 1\n",
        "\n",
        "Retweet = 169\n",
        "\n",
        "total_likes = 2400\n",
        "\n",
        "print(Positive , Negative)\n",
        "\n",
        "\n",
        "Influence_JH = (( 27 * (Positive-Negative)) + (total_likes+Retweet)) \n",
        "\n",
        "print(Influence_JH)"
      ],
      "execution_count": null,
      "outputs": []
    },
    {
      "cell_type": "markdown",
      "metadata": {
        "id": "hpvK96ORvyfS"
      },
      "source": [
        "##2) NKTL"
      ]
    },
    {
      "cell_type": "code",
      "metadata": {
        "id": "0ukK14JHvu-X"
      },
      "source": [
        "jh3 = Jh_base\n",
        "negative = 0\n",
        "positive = 0\n",
        "neutral = 0\n",
        "\n",
        "for tweet in jh3['Tweet']:\n",
        "  lst = []\n",
        "  visualize_sentiments({\n",
        "    \"Sentence\":[\"SENTENCE\"] + tweet.split(),\n",
        "    \"Sentiment\":[sid.polarity_scores(tweet)[\"compound\"]] + [sid.polarity_scores(word)[\"compound\"] for word in tweet.split()]\n",
        "})\n",
        "  print(sid.polarity_scores(tweet))\n",
        "  name = sid.polarity_scores(tweet)\n",
        "  lst.append(name['neg'])\n",
        "  lst.append(name['neu'])\n",
        "  lst.append(name['pos'])\n",
        "  var = max(lst)\n",
        "  if(var == name['neu'] ):\n",
        "    neutral += 1\n",
        "  if(var == name['pos'] ):\n",
        "    positive += 1\n",
        "  if(var == name['neg'] ):\n",
        "    negative += 1\n",
        "\n",
        "print(positive , negative , neutral)\n",
        "Influence_JH = ((27 * (positive-negative)) + (total_likes+Retweet)) \n",
        "print(Influence_JH)"
      ],
      "execution_count": null,
      "outputs": []
    },
    {
      "cell_type": "markdown",
      "metadata": {
        "id": "YqKh6ehcv_LP"
      },
      "source": [
        "##3) Textblob"
      ]
    },
    {
      "cell_type": "code",
      "metadata": {
        "id": "TKCUOKPXv7fa"
      },
      "source": [
        "jh4 = Jh_base\n",
        "negative1 = 0\n",
        "positive1 = 0\n",
        "neutral1 = 0\n",
        "\n",
        "\n",
        "for tweet in jh4['Tweet']:\n",
        "  visualise_sentiments({\n",
        "        \"Sentence\":[\"SENTENCE\"] + tweet.split(),\n",
        "        \"Sentiment\":[TextBlob(tweet).polarity] + [TextBlob(word).polarity for word in tweet.split()],\n",
        "        \"Subjectivity\":[TextBlob(tweet).subjectivity] + [TextBlob(word).subjectivity for word in tweet.split()],\n",
        "  })\n",
        "  \n",
        "  print(TextBlob(tweet).sentiment)\n",
        "  name1 = TextBlob(tweet).sentiment\n",
        "  if(name1.polarity > 0.0 ):\n",
        "    positive1 += 1\n",
        "  if(name1.polarity == 0.0 ):\n",
        "    neutral1 += 1\n",
        "  if(name1.polarity < 0.0):\n",
        "    negative1 += 1\n",
        "\n",
        "print(positive1,negative1,neutral1)\n",
        "\n",
        "Influence_JH = ((27 * (positive1-negative1)) + (total_likes+Retweet)) \n",
        "\n",
        "print(Influence_JH)"
      ],
      "execution_count": null,
      "outputs": []
    },
    {
      "cell_type": "markdown",
      "metadata": {
        "id": "wpv5BrAGwB6g"
      },
      "source": [
        "##4) xg_boost algorithma "
      ]
    },
    {
      "cell_type": "code",
      "metadata": {
        "id": "AnKsPDSJwGFo"
      },
      "source": [
        "jh5 = Jh_base\n",
        "neg = 0\n",
        "pos = 0\n",
        "\n",
        "\n",
        "\n",
        "for tweet in jh5['Tweet']:\n",
        "  client = Algorithmia.client('sim0/CA0mCa6Xz3FAkyoHb45G5I1')\n",
        "  algo = client.algo('asli/xgboost_basic_sentiment_analysis/0.1.1')\n",
        "  print(algo.pipe(tweet).result)\n",
        "  var = algo.pipe(tweet).result\n",
        "  if var['sentiment'] == 0:\n",
        "    neg +=1\n",
        "  if var['sentiment'] == 1:\n",
        "    pos +=1\n",
        "    \n",
        "print(pos,neg)\n",
        "\n",
        "Influence_JH = ((27 * (pos-neg)) + (total_likes+Retweet)) \n",
        "\n",
        "print(Influence_JH)"
      ],
      "execution_count": null,
      "outputs": []
    },
    {
      "cell_type": "markdown",
      "metadata": {
        "id": "i6WDxuqIxwsK"
      },
      "source": [
        "#Conor Mcgregor"
      ]
    },
    {
      "cell_type": "code",
      "metadata": {
        "id": "eH2vqrksyD7D",
        "colab": {
          "base_uri": "https://localhost:8080/",
          "height": 419
        },
        "outputId": "5a608f56-04f6-45a1-e002-1dae2a0c5979"
      },
      "source": [
        "CM = pd.read_csv('/content/gdrive/MyDrive/Twitter_SA/ConorMcgregor.csv')\n",
        "CM"
      ],
      "execution_count": null,
      "outputs": [
        {
          "output_type": "execute_result",
          "data": {
            "text/html": [
              "<div>\n",
              "<style scoped>\n",
              "    .dataframe tbody tr th:only-of-type {\n",
              "        vertical-align: middle;\n",
              "    }\n",
              "\n",
              "    .dataframe tbody tr th {\n",
              "        vertical-align: top;\n",
              "    }\n",
              "\n",
              "    .dataframe thead th {\n",
              "        text-align: right;\n",
              "    }\n",
              "</style>\n",
              "<table border=\"1\" class=\"dataframe\">\n",
              "  <thead>\n",
              "    <tr style=\"text-align: right;\">\n",
              "      <th></th>\n",
              "      <th>Name</th>\n",
              "      <th>Date</th>\n",
              "      <th>ReplyingTo</th>\n",
              "      <th>Replies</th>\n",
              "      <th>Retweets</th>\n",
              "      <th>Likes</th>\n",
              "      <th>Tweet</th>\n",
              "    </tr>\n",
              "  </thead>\n",
              "  <tbody>\n",
              "    <tr>\n",
              "      <th>0</th>\n",
              "      <td>Rosanna Conservative</td>\n",
              "      <td>Jan 21, 2020</td>\n",
              "      <td>NaN</td>\n",
              "      <td>14.0</td>\n",
              "      <td>14.0</td>\n",
              "      <td>236</td>\n",
              "      <td>...and I love it</td>\n",
              "    </tr>\n",
              "    <tr>\n",
              "      <th>1</th>\n",
              "      <td>せいじ Seiji</td>\n",
              "      <td>Jan 21, 2020</td>\n",
              "      <td>Replying to \\n@TheNotoriousMMA\\n and \\n@realDo...</td>\n",
              "      <td>8.0</td>\n",
              "      <td>8.0</td>\n",
              "      <td>419</td>\n",
              "      <td>YES BABY MCGREGOR IS REDPILLED AND ALL IS GOOD</td>\n",
              "    </tr>\n",
              "    <tr>\n",
              "      <th>2</th>\n",
              "      <td>This Tweet is from a suspended account.</td>\n",
              "      <td>NaN</td>\n",
              "      <td>NaN</td>\n",
              "      <td>NaN</td>\n",
              "      <td>NaN</td>\n",
              "      <td>NaN</td>\n",
              "      <td>NaN</td>\n",
              "    </tr>\n",
              "    <tr>\n",
              "      <th>3</th>\n",
              "      <td>Der Dusel</td>\n",
              "      <td>Jan 21, 2020</td>\n",
              "      <td>NaN</td>\n",
              "      <td>28.0</td>\n",
              "      <td>NaN</td>\n",
              "      <td>28</td>\n",
              "      <td>he already gave him all the smoke</td>\n",
              "    </tr>\n",
              "    <tr>\n",
              "      <th>4</th>\n",
              "      <td>Fresh</td>\n",
              "      <td>Jan 21, 2020</td>\n",
              "      <td>Replying to \\n@TheNotoriousMMA\\n and \\n@realDo...</td>\n",
              "      <td>4.0</td>\n",
              "      <td>4.0</td>\n",
              "      <td>3</td>\n",
              "      <td>I pray your account has been hacked</td>\n",
              "    </tr>\n",
              "    <tr>\n",
              "      <th>...</th>\n",
              "      <td>...</td>\n",
              "      <td>...</td>\n",
              "      <td>...</td>\n",
              "      <td>...</td>\n",
              "      <td>...</td>\n",
              "      <td>...</td>\n",
              "      <td>...</td>\n",
              "    </tr>\n",
              "    <tr>\n",
              "      <th>161</th>\n",
              "      <td>NaN</td>\n",
              "      <td>Jan 23, 2020</td>\n",
              "      <td>Replying to \\n@TheNotoriousMMA\\n and \\n@realDo...</td>\n",
              "      <td>1.0</td>\n",
              "      <td>NaN</td>\n",
              "      <td>NaN</td>\n",
              "      <td>NaN</td>\n",
              "    </tr>\n",
              "    <tr>\n",
              "      <th>162</th>\n",
              "      <td>NaN</td>\n",
              "      <td>Jan 22, 2020</td>\n",
              "      <td>Replying to \\n@TheNotoriousMMA\\n and \\n@realDo...</td>\n",
              "      <td>1.0</td>\n",
              "      <td>NaN</td>\n",
              "      <td>2</td>\n",
              "      <td>NaN</td>\n",
              "    </tr>\n",
              "    <tr>\n",
              "      <th>163</th>\n",
              "      <td>PJ</td>\n",
              "      <td>Jan 22, 2020</td>\n",
              "      <td>Replying to \\n@TheNotoriousMMA\\n and \\n@realDo...</td>\n",
              "      <td>2.0</td>\n",
              "      <td>2.0</td>\n",
              "      <td>9</td>\n",
              "      <td>Any chance the Brits could claim him?\\n\\nThe I...</td>\n",
              "    </tr>\n",
              "    <tr>\n",
              "      <th>164</th>\n",
              "      <td>mark schade aka Spanky Dennison</td>\n",
              "      <td>Jan 23, 2020</td>\n",
              "      <td>Replying to \\n@TheNotoriousMMA\\n and \\n@realDo...</td>\n",
              "      <td>1.0</td>\n",
              "      <td>NaN</td>\n",
              "      <td>1</td>\n",
              "      <td>Feet? Really? Like bonespurs?</td>\n",
              "    </tr>\n",
              "    <tr>\n",
              "      <th>165</th>\n",
              "      <td>Joshua Schlunegger</td>\n",
              "      <td>Jan 23, 2020</td>\n",
              "      <td>Replying to \\n@TheNotoriousMMA\\n and \\n@realDo...</td>\n",
              "      <td>1.0</td>\n",
              "      <td>NaN</td>\n",
              "      <td>1</td>\n",
              "      <td>Yes!!</td>\n",
              "    </tr>\n",
              "  </tbody>\n",
              "</table>\n",
              "<p>166 rows × 7 columns</p>\n",
              "</div>"
            ],
            "text/plain": [
              "                                        Name  ...                                              Tweet\n",
              "0                       Rosanna Conservative  ...                                   ...and I love it\n",
              "1                                  せいじ Seiji  ...     YES BABY MCGREGOR IS REDPILLED AND ALL IS GOOD\n",
              "2    This Tweet is from a suspended account.  ...                                                NaN\n",
              "3                                  Der Dusel  ...                  he already gave him all the smoke\n",
              "4                                      Fresh  ...                I pray your account has been hacked\n",
              "..                                       ...  ...                                                ...\n",
              "161                                      NaN  ...                                                NaN\n",
              "162                                      NaN  ...                                                NaN\n",
              "163                                       PJ  ...  Any chance the Brits could claim him?\\n\\nThe I...\n",
              "164          mark schade aka Spanky Dennison  ...                      Feet? Really? Like bonespurs?\n",
              "165                       Joshua Schlunegger  ...                                              Yes!!\n",
              "\n",
              "[166 rows x 7 columns]"
            ]
          },
          "metadata": {},
          "execution_count": 7
        }
      ]
    },
    {
      "cell_type": "code",
      "metadata": {
        "id": "-roqBifmzBjL",
        "colab": {
          "base_uri": "https://localhost:8080/"
        },
        "outputId": "28aa92c2-2767-4bae-9575-3e9d8c884dc9"
      },
      "source": [
        "cm1 = CM.dropna(subset=['Tweet'])\n",
        "nan_value = float(\"NaN\")\n",
        "# Convert NaN values to empty string\n",
        "cm1.replace(\"\", nan_value, inplace=True)\n",
        "cm1.dropna(subset = [\"Tweet\"], inplace=True)\n",
        "\n",
        "Cm_base = cm1\n",
        "Cm_base\n",
        "\n",
        "index = Cm_base.index\n",
        "number_of_rows = len(index)\n",
        "print(number_of_rows)"
      ],
      "execution_count": null,
      "outputs": [
        {
          "output_type": "stream",
          "name": "stdout",
          "text": [
            "140\n"
          ]
        },
        {
          "output_type": "stream",
          "name": "stderr",
          "text": [
            "/usr/local/lib/python3.7/dist-packages/pandas/core/frame.py:4389: SettingWithCopyWarning: \n",
            "A value is trying to be set on a copy of a slice from a DataFrame\n",
            "\n",
            "See the caveats in the documentation: https://pandas.pydata.org/pandas-docs/stable/user_guide/indexing.html#returning-a-view-versus-a-copy\n",
            "  method=method,\n",
            "/usr/local/lib/python3.7/dist-packages/ipykernel_launcher.py:5: SettingWithCopyWarning: \n",
            "A value is trying to be set on a copy of a slice from a DataFrame\n",
            "\n",
            "See the caveats in the documentation: https://pandas.pydata.org/pandas-docs/stable/user_guide/indexing.html#returning-a-view-versus-a-copy\n",
            "  \"\"\"\n"
          ]
        }
      ]
    },
    {
      "cell_type": "code",
      "metadata": {
        "id": "PV4wh0ir0hRe",
        "colab": {
          "base_uri": "https://localhost:8080/",
          "height": 589
        },
        "outputId": "d053deb0-4af2-4514-8e87-1ed5d68b955b"
      },
      "source": [
        "\n",
        "sentiment =[]\n",
        "confidence = []\n",
        "\n",
        "for tweet in cm1['Tweet']:\n",
        "  if tweet.strip() == '':\n",
        "    sentiment.append(\"\")\n",
        "    confidence.append(\"\")\n",
        "  else:\n",
        "    each_tweet = flair.data.Sentence(tweet)\n",
        "    sentiment_model.predict(each_tweet)\n",
        "\n",
        "    sentiment.append(each_tweet.labels[0].value)\n",
        "    confidence.append(each_tweet.labels[0].score)\n",
        "\n",
        "\n",
        "cm1['Sent'] = sentiment\n",
        "cm1['Score'] = confidence\n",
        "cm1"
      ],
      "execution_count": null,
      "outputs": [
        {
          "output_type": "stream",
          "name": "stderr",
          "text": [
            "/usr/local/lib/python3.7/dist-packages/ipykernel_launcher.py:17: SettingWithCopyWarning: \n",
            "A value is trying to be set on a copy of a slice from a DataFrame.\n",
            "Try using .loc[row_indexer,col_indexer] = value instead\n",
            "\n",
            "See the caveats in the documentation: https://pandas.pydata.org/pandas-docs/stable/user_guide/indexing.html#returning-a-view-versus-a-copy\n",
            "/usr/local/lib/python3.7/dist-packages/ipykernel_launcher.py:18: SettingWithCopyWarning: \n",
            "A value is trying to be set on a copy of a slice from a DataFrame.\n",
            "Try using .loc[row_indexer,col_indexer] = value instead\n",
            "\n",
            "See the caveats in the documentation: https://pandas.pydata.org/pandas-docs/stable/user_guide/indexing.html#returning-a-view-versus-a-copy\n"
          ]
        },
        {
          "output_type": "execute_result",
          "data": {
            "text/html": [
              "<div>\n",
              "<style scoped>\n",
              "    .dataframe tbody tr th:only-of-type {\n",
              "        vertical-align: middle;\n",
              "    }\n",
              "\n",
              "    .dataframe tbody tr th {\n",
              "        vertical-align: top;\n",
              "    }\n",
              "\n",
              "    .dataframe thead th {\n",
              "        text-align: right;\n",
              "    }\n",
              "</style>\n",
              "<table border=\"1\" class=\"dataframe\">\n",
              "  <thead>\n",
              "    <tr style=\"text-align: right;\">\n",
              "      <th></th>\n",
              "      <th>Name</th>\n",
              "      <th>Date</th>\n",
              "      <th>ReplyingTo</th>\n",
              "      <th>Replies</th>\n",
              "      <th>Retweets</th>\n",
              "      <th>Likes</th>\n",
              "      <th>Tweet</th>\n",
              "      <th>Sent</th>\n",
              "      <th>Score</th>\n",
              "    </tr>\n",
              "  </thead>\n",
              "  <tbody>\n",
              "    <tr>\n",
              "      <th>0</th>\n",
              "      <td>Rosanna Conservative</td>\n",
              "      <td>Jan 21, 2020</td>\n",
              "      <td>NaN</td>\n",
              "      <td>14.0</td>\n",
              "      <td>14.0</td>\n",
              "      <td>236</td>\n",
              "      <td>...and I love it</td>\n",
              "      <td>POSITIVE</td>\n",
              "      <td>0.998939</td>\n",
              "    </tr>\n",
              "    <tr>\n",
              "      <th>1</th>\n",
              "      <td>せいじ Seiji</td>\n",
              "      <td>Jan 21, 2020</td>\n",
              "      <td>Replying to \\n@TheNotoriousMMA\\n and \\n@realDo...</td>\n",
              "      <td>8.0</td>\n",
              "      <td>8.0</td>\n",
              "      <td>419</td>\n",
              "      <td>YES BABY MCGREGOR IS REDPILLED AND ALL IS GOOD</td>\n",
              "      <td>POSITIVE</td>\n",
              "      <td>0.972151</td>\n",
              "    </tr>\n",
              "    <tr>\n",
              "      <th>3</th>\n",
              "      <td>Der Dusel</td>\n",
              "      <td>Jan 21, 2020</td>\n",
              "      <td>NaN</td>\n",
              "      <td>28.0</td>\n",
              "      <td>NaN</td>\n",
              "      <td>28</td>\n",
              "      <td>he already gave him all the smoke</td>\n",
              "      <td>NEGATIVE</td>\n",
              "      <td>0.854651</td>\n",
              "    </tr>\n",
              "    <tr>\n",
              "      <th>4</th>\n",
              "      <td>Fresh</td>\n",
              "      <td>Jan 21, 2020</td>\n",
              "      <td>Replying to \\n@TheNotoriousMMA\\n and \\n@realDo...</td>\n",
              "      <td>4.0</td>\n",
              "      <td>4.0</td>\n",
              "      <td>3</td>\n",
              "      <td>I pray your account has been hacked</td>\n",
              "      <td>NEGATIVE</td>\n",
              "      <td>0.940701</td>\n",
              "    </tr>\n",
              "    <tr>\n",
              "      <th>5</th>\n",
              "      <td>Nick Smith</td>\n",
              "      <td>Jan 21, 2020</td>\n",
              "      <td>NaN</td>\n",
              "      <td>1.0</td>\n",
              "      <td>1.0</td>\n",
              "      <td>2</td>\n",
              "      <td>Nope sorry liberal accept the reality</td>\n",
              "      <td>NEGATIVE</td>\n",
              "      <td>0.878698</td>\n",
              "    </tr>\n",
              "    <tr>\n",
              "      <th>...</th>\n",
              "      <td>...</td>\n",
              "      <td>...</td>\n",
              "      <td>...</td>\n",
              "      <td>...</td>\n",
              "      <td>...</td>\n",
              "      <td>...</td>\n",
              "      <td>...</td>\n",
              "      <td>...</td>\n",
              "      <td>...</td>\n",
              "    </tr>\n",
              "    <tr>\n",
              "      <th>159</th>\n",
              "      <td>aimee moloney</td>\n",
              "      <td>Jan 23, 2020</td>\n",
              "      <td>Replying to \\n@TheNotoriousMMA\\n and \\n@realDo...</td>\n",
              "      <td>1.0</td>\n",
              "      <td>1.0</td>\n",
              "      <td>5</td>\n",
              "      <td>2 absolute plonkers!</td>\n",
              "      <td>NEGATIVE</td>\n",
              "      <td>0.979702</td>\n",
              "    </tr>\n",
              "    <tr>\n",
              "      <th>160</th>\n",
              "      <td>MartialMind</td>\n",
              "      <td>Jan 23, 2020</td>\n",
              "      <td>NaN</td>\n",
              "      <td>NaN</td>\n",
              "      <td>NaN</td>\n",
              "      <td>NaN</td>\n",
              "      <td>Brain injury. No easy \"feet\" is about right.</td>\n",
              "      <td>NEGATIVE</td>\n",
              "      <td>0.915468</td>\n",
              "    </tr>\n",
              "    <tr>\n",
              "      <th>163</th>\n",
              "      <td>PJ</td>\n",
              "      <td>Jan 22, 2020</td>\n",
              "      <td>Replying to \\n@TheNotoriousMMA\\n and \\n@realDo...</td>\n",
              "      <td>2.0</td>\n",
              "      <td>2.0</td>\n",
              "      <td>9</td>\n",
              "      <td>Any chance the Brits could claim him?\\n\\nThe I...</td>\n",
              "      <td>POSITIVE</td>\n",
              "      <td>0.708717</td>\n",
              "    </tr>\n",
              "    <tr>\n",
              "      <th>164</th>\n",
              "      <td>mark schade aka Spanky Dennison</td>\n",
              "      <td>Jan 23, 2020</td>\n",
              "      <td>Replying to \\n@TheNotoriousMMA\\n and \\n@realDo...</td>\n",
              "      <td>1.0</td>\n",
              "      <td>NaN</td>\n",
              "      <td>1</td>\n",
              "      <td>Feet? Really? Like bonespurs?</td>\n",
              "      <td>NEGATIVE</td>\n",
              "      <td>0.959713</td>\n",
              "    </tr>\n",
              "    <tr>\n",
              "      <th>165</th>\n",
              "      <td>Joshua Schlunegger</td>\n",
              "      <td>Jan 23, 2020</td>\n",
              "      <td>Replying to \\n@TheNotoriousMMA\\n and \\n@realDo...</td>\n",
              "      <td>1.0</td>\n",
              "      <td>NaN</td>\n",
              "      <td>1</td>\n",
              "      <td>Yes!!</td>\n",
              "      <td>POSITIVE</td>\n",
              "      <td>0.989112</td>\n",
              "    </tr>\n",
              "  </tbody>\n",
              "</table>\n",
              "<p>140 rows × 9 columns</p>\n",
              "</div>"
            ],
            "text/plain": [
              "                                Name          Date  ...      Sent     Score\n",
              "0               Rosanna Conservative  Jan 21, 2020  ...  POSITIVE  0.998939\n",
              "1                          せいじ Seiji  Jan 21, 2020  ...  POSITIVE  0.972151\n",
              "3                          Der Dusel  Jan 21, 2020  ...  NEGATIVE  0.854651\n",
              "4                              Fresh  Jan 21, 2020  ...  NEGATIVE  0.940701\n",
              "5                         Nick Smith  Jan 21, 2020  ...  NEGATIVE  0.878698\n",
              "..                               ...           ...  ...       ...       ...\n",
              "159                    aimee moloney  Jan 23, 2020  ...  NEGATIVE  0.979702\n",
              "160                      MartialMind  Jan 23, 2020  ...  NEGATIVE  0.915468\n",
              "163                               PJ  Jan 22, 2020  ...  POSITIVE  0.708717\n",
              "164  mark schade aka Spanky Dennison  Jan 23, 2020  ...  NEGATIVE  0.959713\n",
              "165               Joshua Schlunegger  Jan 23, 2020  ...  POSITIVE  0.989112\n",
              "\n",
              "[140 rows x 9 columns]"
            ]
          },
          "metadata": {},
          "execution_count": 9
        }
      ]
    },
    {
      "cell_type": "markdown",
      "metadata": {
        "id": "o4fXKKqr5Pcs"
      },
      "source": [
        "##1) flair"
      ]
    },
    {
      "cell_type": "code",
      "metadata": {
        "id": "6jw9vuoP5T-0",
        "colab": {
          "base_uri": "https://localhost:8080/"
        },
        "outputId": "b64e5e34-86d9-43f2-91dd-40a88223bd31"
      },
      "source": [
        "Positive = 0\n",
        "Negative = 0\n",
        "\n",
        "for c in cm1['Sent']:\n",
        "  if c == 'POSITIVE':\n",
        "    Positive += 1\n",
        "  if c == 'NEGATIVE':\n",
        "    Negative += 1\n",
        "\n",
        "Retweet = 19000\n",
        "\n",
        "total_likes = 100200\n",
        "\n",
        "print(Positive , Negative)\n",
        "\n",
        "Influence_CM = (( 140 * (Positive-Negative)) + (total_likes+Retweet)) \n",
        "\n",
        "print(Influence_CM)"
      ],
      "execution_count": null,
      "outputs": [
        {
          "output_type": "stream",
          "name": "stdout",
          "text": [
            "55 85\n",
            "115000\n"
          ]
        }
      ]
    },
    {
      "cell_type": "markdown",
      "metadata": {
        "id": "mMe8fQeU5sua"
      },
      "source": [
        "##2) NLTK"
      ]
    },
    {
      "cell_type": "code",
      "metadata": {
        "id": "wLwmqJsg5n8p",
        "colab": {
          "base_uri": "https://localhost:8080/",
          "height": 1000
        },
        "outputId": "20f145de-b98d-48be-c7ea-835ba8c24218"
      },
      "source": [
        " cm3 = Cm_base\n",
        "negative = 0\n",
        "positive = 0\n",
        "neutral = 0\n",
        "\n",
        "for tweet in cm3['Tweet']:\n",
        "  lst = []\n",
        "  visualize_sentiments({\n",
        "    \"Sentence\":[\"SENTENCE\"] + tweet.split(),\n",
        "    \"Sentiment\":[sid.polarity_scores(tweet)[\"compound\"]] + [sid.polarity_scores(word)[\"compound\"] for word in tweet.split()]\n",
        "})\n",
        "  print(sid.polarity_scores(tweet))\n",
        "  name = sid.polarity_scores(tweet)\n",
        "  lst.append(name['neg'])\n",
        "  lst.append(name['neu'])\n",
        "  lst.append(name['pos'])\n",
        "  var = max(lst)\n",
        "  if(var == name['neu'] ):\n",
        "    neutral += 1\n",
        "  if(var == name['pos'] ):\n",
        "    positive += 1\n",
        "  if(var == name['neg'] ):\n",
        "    negative += 1\n",
        "\n",
        "print(positive , negative , neutral)\n",
        "\n",
        "Influence_CM = (( 140 * (positive-negative)) + (total_likes+Retweet)) \n",
        "\n",
        "print(Influence_CM)"
      ],
      "execution_count": null,
      "outputs": [
        {
          "output_type": "stream",
          "name": "stdout",
          "text": [
            "{'neg': 0.0, 'neu': 0.323, 'pos': 0.677, 'compound': 0.6369}\n",
            "{'neg': 0.0, 'neu': 0.556, 'pos': 0.444, 'compound': 0.6808}\n",
            "{'neg': 0.0, 'neu': 1.0, 'pos': 0.0, 'compound': 0.0}\n",
            "{'neg': 0.3, 'neu': 0.444, 'pos': 0.256, 'compound': -0.1027}\n",
            "{'neg': 0.295, 'neu': 0.54, 'pos': 0.165, 'compound': -0.2411}\n",
            "{'neg': 0.27, 'neu': 0.5, 'pos': 0.23, 'compound': -0.1027}\n",
            "{'neg': 0.0, 'neu': 0.656, 'pos': 0.344, 'compound': 0.2732}\n",
            "{'neg': 0.067, 'neu': 0.746, 'pos': 0.187, 'compound': 0.64}\n",
            "{'neg': 0.0, 'neu': 0.519, 'pos': 0.481, 'compound': 0.8805}\n",
            "{'neg': 0.0, 'neu': 0.911, 'pos': 0.089, 'compound': 0.34}\n",
            "{'neg': 0.0, 'neu': 1.0, 'pos': 0.0, 'compound': 0.0}\n",
            "{'neg': 0.0, 'neu': 1.0, 'pos': 0.0, 'compound': 0.0}\n",
            "{'neg': 0.0, 'neu': 1.0, 'pos': 0.0, 'compound': 0.0}\n",
            "{'neg': 0.0, 'neu': 1.0, 'pos': 0.0, 'compound': 0.0}\n",
            "{'neg': 0.0, 'neu': 0.85, 'pos': 0.15, 'compound': 0.8047}\n",
            "{'neg': 0.373, 'neu': 0.627, 'pos': 0.0, 'compound': -0.4549}\n",
            "{'neg': 0.0, 'neu': 1.0, 'pos': 0.0, 'compound': 0.0}\n",
            "{'neg': 0.0, 'neu': 1.0, 'pos': 0.0, 'compound': 0.0}\n",
            "{'neg': 0.0, 'neu': 1.0, 'pos': 0.0, 'compound': 0.0}\n",
            "{'neg': 0.0, 'neu': 1.0, 'pos': 0.0, 'compound': 0.0}\n",
            "{'neg': 0.0, 'neu': 0.642, 'pos': 0.358, 'compound': 0.9261}\n",
            "{'neg': 0.24, 'neu': 0.76, 'pos': 0.0, 'compound': -0.8779}\n",
            "{'neg': 0.0, 'neu': 0.737, 'pos': 0.263, 'compound': 0.3612}\n",
            "{'neg': 0.0, 'neu': 0.107, 'pos': 0.893, 'compound': 0.8111}\n",
            "{'neg': 0.0, 'neu': 1.0, 'pos': 0.0, 'compound': 0.0}\n",
            "{'neg': 0.0, 'neu': 0.625, 'pos': 0.375, 'compound': 0.34}\n",
            "{'neg': 0.0, 'neu': 0.457, 'pos': 0.543, 'compound': 0.8658}\n",
            "{'neg': 0.049, 'neu': 0.751, 'pos': 0.201, 'compound': 0.7579}\n",
            "{'neg': 0.0, 'neu': 1.0, 'pos': 0.0, 'compound': 0.0}\n",
            "{'neg': 0.107, 'neu': 0.805, 'pos': 0.088, 'compound': -0.1179}\n",
            "{'neg': 0.0, 'neu': 0.69, 'pos': 0.31, 'compound': 0.743}\n",
            "{'neg': 0.0, 'neu': 1.0, 'pos': 0.0, 'compound': 0.0}\n",
            "{'neg': 0.0, 'neu': 1.0, 'pos': 0.0, 'compound': 0.0}\n",
            "{'neg': 0.193, 'neu': 0.807, 'pos': 0.0, 'compound': -0.6476}\n",
            "{'neg': 0.0, 'neu': 1.0, 'pos': 0.0, 'compound': 0.0}\n",
            "{'neg': 0.39, 'neu': 0.61, 'pos': 0.0, 'compound': -0.8074}\n",
            "{'neg': 0.15, 'neu': 0.85, 'pos': 0.0, 'compound': -0.4588}\n",
            "{'neg': 0.0, 'neu': 1.0, 'pos': 0.0, 'compound': 0.0}\n",
            "{'neg': 0.265, 'neu': 0.482, 'pos': 0.253, 'compound': -0.0258}\n",
            "{'neg': 0.243, 'neu': 0.624, 'pos': 0.133, 'compound': -0.7425}\n",
            "{'neg': 0.388, 'neu': 0.483, 'pos': 0.129, 'compound': -0.9442}\n",
            "{'neg': 0.341, 'neu': 0.659, 'pos': 0.0, 'compound': -0.7351}\n",
            "{'neg': 0.054, 'neu': 0.856, 'pos': 0.091, 'compound': 0.296}\n",
            "{'neg': 0.0, 'neu': 1.0, 'pos': 0.0, 'compound': 0.0}\n",
            "{'neg': 0.0, 'neu': 1.0, 'pos': 0.0, 'compound': 0.0}\n",
            "{'neg': 0.203, 'neu': 0.797, 'pos': 0.0, 'compound': -0.8555}\n",
            "{'neg': 0.201, 'neu': 0.67, 'pos': 0.129, 'compound': -0.1531}\n",
            "{'neg': 0.256, 'neu': 0.744, 'pos': 0.0, 'compound': -0.4767}\n",
            "{'neg': 0.0, 'neu': 1.0, 'pos': 0.0, 'compound': 0.0}\n",
            "{'neg': 0.0, 'neu': 1.0, 'pos': 0.0, 'compound': 0.0}\n",
            "{'neg': 0.171, 'neu': 0.548, 'pos': 0.28, 'compound': 0.3802}\n",
            "{'neg': 0.0, 'neu': 1.0, 'pos': 0.0, 'compound': 0.0}\n",
            "{'neg': 0.374, 'neu': 0.626, 'pos': 0.0, 'compound': -0.4572}\n",
            "{'neg': 0.0, 'neu': 0.76, 'pos': 0.24, 'compound': 0.7845}\n",
            "{'neg': 0.2, 'neu': 0.595, 'pos': 0.205, 'compound': 0.0258}\n",
            "{'neg': 0.773, 'neu': 0.227, 'pos': 0.0, 'compound': -0.5267}\n",
            "{'neg': 0.0, 'neu': 0.824, 'pos': 0.176, 'compound': 0.4153}\n",
            "{'neg': 0.0, 'neu': 0.182, 'pos': 0.818, 'compound': 0.6696}\n",
            "{'neg': 0.439, 'neu': 0.561, 'pos': 0.0, 'compound': -0.5719}\n",
            "{'neg': 0.0, 'neu': 1.0, 'pos': 0.0, 'compound': 0.0}\n",
            "{'neg': 0.0, 'neu': 0.674, 'pos': 0.326, 'compound': 0.5256}\n",
            "{'neg': 0.0, 'neu': 0.823, 'pos': 0.177, 'compound': 0.4199}\n",
            "{'neg': 0.506, 'neu': 0.494, 'pos': 0.0, 'compound': -0.6249}\n",
            "{'neg': 0.0, 'neu': 0.855, 'pos': 0.145, 'compound': 0.2584}\n",
            "{'neg': 0.0, 'neu': 0.717, 'pos': 0.283, 'compound': 0.3321}\n",
            "{'neg': 0.069, 'neu': 0.841, 'pos': 0.09, 'compound': 0.1779}\n",
            "{'neg': 0.0, 'neu': 0.408, 'pos': 0.592, 'compound': 0.4404}\n",
            "{'neg': 0.0, 'neu': 0.58, 'pos': 0.42, 'compound': 0.4404}\n",
            "{'neg': 0.0, 'neu': 1.0, 'pos': 0.0, 'compound': 0.0}\n",
            "{'neg': 0.0, 'neu': 1.0, 'pos': 0.0, 'compound': 0.0}\n",
            "{'neg': 0.092, 'neu': 0.756, 'pos': 0.151, 'compound': 0.1969}\n",
            "{'neg': 0.533, 'neu': 0.467, 'pos': 0.0, 'compound': -0.6908}\n",
            "{'neg': 0.422, 'neu': 0.39, 'pos': 0.188, 'compound': -0.5574}\n",
            "{'neg': 0.153, 'neu': 0.625, 'pos': 0.222, 'compound': 0.2481}\n",
            "{'neg': 0.0, 'neu': 0.753, 'pos': 0.247, 'compound': 0.504}\n",
            "{'neg': 0.0, 'neu': 1.0, 'pos': 0.0, 'compound': 0.0}\n",
            "{'neg': 0.0, 'neu': 0.208, 'pos': 0.792, 'compound': 0.5859}\n",
            "{'neg': 0.0, 'neu': 1.0, 'pos': 0.0, 'compound': 0.0}\n",
            "{'neg': 0.315, 'neu': 0.685, 'pos': 0.0, 'compound': -0.3182}\n",
            "{'neg': 0.361, 'neu': 0.164, 'pos': 0.475, 'compound': 0.1779}\n",
            "{'neg': 0.0, 'neu': 1.0, 'pos': 0.0, 'compound': 0.0}\n",
            "{'neg': 0.34, 'neu': 0.53, 'pos': 0.13, 'compound': -0.6553}\n",
            "{'neg': 0.171, 'neu': 0.552, 'pos': 0.276, 'compound': 0.4654}\n",
            "{'neg': 0.0, 'neu': 1.0, 'pos': 0.0, 'compound': 0.0}\n",
            "{'neg': 0.228, 'neu': 0.617, 'pos': 0.154, 'compound': -0.296}\n",
            "{'neg': 0.0, 'neu': 0.562, 'pos': 0.438, 'compound': 0.7906}\n",
            "{'neg': 0.373, 'neu': 0.361, 'pos': 0.265, 'compound': -0.2263}\n",
            "{'neg': 0.0, 'neu': 1.0, 'pos': 0.0, 'compound': 0.0}\n",
            "{'neg': 0.0, 'neu': 1.0, 'pos': 0.0, 'compound': 0.0}\n",
            "{'neg': 0.198, 'neu': 0.541, 'pos': 0.261, 'compound': 0.1779}\n",
            "{'neg': 0.088, 'neu': 0.493, 'pos': 0.419, 'compound': 0.9143}\n",
            "{'neg': 0.139, 'neu': 0.523, 'pos': 0.338, 'compound': 0.8781}\n",
            "{'neg': 0.0, 'neu': 1.0, 'pos': 0.0, 'compound': 0.0}\n",
            "{'neg': 0.0, 'neu': 1.0, 'pos': 0.0, 'compound': 0.0}\n",
            "{'neg': 0.208, 'neu': 0.792, 'pos': 0.0, 'compound': -0.6114}\n",
            "{'neg': 1.0, 'neu': 0.0, 'pos': 0.0, 'compound': -0.4588}\n",
            "{'neg': 0.387, 'neu': 0.613, 'pos': 0.0, 'compound': -0.743}\n",
            "{'neg': 0.387, 'neu': 0.613, 'pos': 0.0, 'compound': -0.9313}\n",
            "{'neg': 0.0, 'neu': 1.0, 'pos': 0.0, 'compound': 0.0}\n",
            "{'neg': 0.0, 'neu': 1.0, 'pos': 0.0, 'compound': 0.0}\n",
            "{'neg': 0.0, 'neu': 0.705, 'pos': 0.295, 'compound': 0.8307}\n",
            "{'neg': 0.0, 'neu': 1.0, 'pos': 0.0, 'compound': 0.0}\n",
            "{'neg': 0.0, 'neu': 1.0, 'pos': 0.0, 'compound': 0.0}\n",
            "{'neg': 0.0, 'neu': 0.592, 'pos': 0.408, 'compound': 0.9081}\n",
            "{'neg': 0.0, 'neu': 1.0, 'pos': 0.0, 'compound': 0.0}\n",
            "{'neg': 0.0, 'neu': 1.0, 'pos': 0.0, 'compound': 0.0}\n",
            "{'neg': 0.0, 'neu': 0.722, 'pos': 0.278, 'compound': 0.6597}\n",
            "{'neg': 0.303, 'neu': 0.138, 'pos': 0.56, 'compound': 0.4344}\n",
            "{'neg': 0.41, 'neu': 0.3, 'pos': 0.29, 'compound': -0.296}\n",
            "{'neg': 0.388, 'neu': 0.388, 'pos': 0.225, 'compound': -0.2732}\n",
            "{'neg': 0.0, 'neu': 0.505, 'pos': 0.495, 'compound': 0.7081}\n",
            "{'neg': 0.0, 'neu': 1.0, 'pos': 0.0, 'compound': 0.0}\n",
            "{'neg': 0.216, 'neu': 0.672, 'pos': 0.113, 'compound': -0.6478}\n",
            "{'neg': 0.0, 'neu': 0.315, 'pos': 0.685, 'compound': 0.8974}\n",
            "{'neg': 0.0, 'neu': 0.853, 'pos': 0.147, 'compound': 0.3054}\n",
            "{'neg': 0.171, 'neu': 0.829, 'pos': 0.0, 'compound': -0.5423}\n",
            "{'neg': 0.0, 'neu': 1.0, 'pos': 0.0, 'compound': 0.0}\n",
            "{'neg': 0.0, 'neu': 0.192, 'pos': 0.808, 'compound': 0.6369}\n",
            "{'neg': 0.163, 'neu': 0.837, 'pos': 0.0, 'compound': -0.5106}\n",
            "{'neg': 0.0, 'neu': 1.0, 'pos': 0.0, 'compound': 0.0}\n",
            "{'neg': 0.207, 'neu': 0.793, 'pos': 0.0, 'compound': -0.5255}\n",
            "{'neg': 0.144, 'neu': 0.741, 'pos': 0.116, 'compound': -0.1531}\n",
            "{'neg': 0.0, 'neu': 0.818, 'pos': 0.182, 'compound': 0.4404}\n",
            "{'neg': 0.0, 'neu': 0.674, 'pos': 0.326, 'compound': 0.4404}\n",
            "{'neg': 0.112, 'neu': 0.794, 'pos': 0.094, 'compound': -0.1531}\n",
            "{'neg': 0.0, 'neu': 0.685, 'pos': 0.315, 'compound': 0.3182}\n",
            "{'neg': 0.244, 'neu': 0.364, 'pos': 0.392, 'compound': 0.5904}\n",
            "{'neg': 0.0, 'neu': 1.0, 'pos': 0.0, 'compound': 0.0}\n",
            "{'neg': 0.0, 'neu': 0.868, 'pos': 0.132, 'compound': 0.6249}\n",
            "{'neg': 0.0, 'neu': 1.0, 'pos': 0.0, 'compound': 0.0}\n",
            "{'neg': 0.0, 'neu': 1.0, 'pos': 0.0, 'compound': 0.0}\n",
            "{'neg': 0.393, 'neu': 0.607, 'pos': 0.0, 'compound': -0.6739}\n",
            "{'neg': 0.0, 'neu': 0.5, 'pos': 0.5, 'compound': 0.4588}\n",
            "{'neg': 0.144, 'neu': 0.741, 'pos': 0.116, 'compound': -0.1531}\n",
            "{'neg': 0.0, 'neu': 0.722, 'pos': 0.278, 'compound': 0.6597}\n",
            "{'neg': 0.0, 'neu': 1.0, 'pos': 0.0, 'compound': 0.0}\n",
            "{'neg': 0.388, 'neu': 0.388, 'pos': 0.225, 'compound': -0.2732}\n",
            "{'neg': 0.092, 'neu': 0.756, 'pos': 0.151, 'compound': 0.1969}\n",
            "{'neg': 0.0, 'neu': 0.474, 'pos': 0.526, 'compound': 0.516}\n",
            "{'neg': 0.0, 'neu': 0.0, 'pos': 1.0, 'compound': 0.508}\n",
            "14 9 120\n",
            "119900\n"
          ]
        },
        {
          "output_type": "display_data",
          "data": {
            "image/png": "[encoded data removed]",
            "text/plain": [
              "<Figure size 2520x216 with 141 Axes>"
            ]
          },
          "metadata": {}
        }
      ]
    },
    {
      "cell_type": "markdown",
      "metadata": {
        "id": "FAsEKx6C57Xu"
      },
      "source": [
        "##3) textblob"
      ]
    },
    {
      "cell_type": "code",
      "metadata": {
        "id": "Pk4YDSzY58wd",
        "colab": {
          "base_uri": "https://localhost:8080/",
          "height": 1000
        },
        "outputId": "d1f6d728-0311-4710-f76a-bcfd3b83997b"
      },
      "source": [
        "cm4 = Cm_base\n",
        "negative1 = 0\n",
        "positive1 = 0\n",
        "neutral1 = 0\n",
        "\n",
        "\n",
        "for tweet in cm4['Tweet']:\n",
        "  visualise_sentiments({\n",
        "        \"Sentence\":[\"SENTENCE\"] + tweet.split(),\n",
        "        \"Sentiment\":[TextBlob(tweet).polarity] + [TextBlob(word).polarity for word in tweet.split()],\n",
        "        \"Subjectivity\":[TextBlob(tweet).subjectivity] + [TextBlob(word).subjectivity for word in tweet.split()],\n",
        "  })\n",
        "  \n",
        "  print(TextBlob(tweet).sentiment)\n",
        "  name1 = TextBlob(tweet).sentiment\n",
        "  if(name1.polarity > 0.0 ):\n",
        "    positive1 += 1\n",
        "  if(name1.polarity == 0.0 ):\n",
        "    neutral1 += 1\n",
        "  if(name1.polarity < 0.0):\n",
        "    negative1 += 1\n",
        "\n",
        "print(positive1 , negative1 , neutral1)\n",
        "\n",
        "Influence_CM = (( 140 * (positive1-negative1)) + (total_likes+Retweet)) \n",
        "\n",
        "print(Influence_CM)"
      ],
      "execution_count": null,
      "outputs": [
        {
          "output_type": "stream",
          "name": "stdout",
          "text": [
            "Sentiment(polarity=0.5, subjectivity=0.6)\n",
            "Sentiment(polarity=0.7, subjectivity=0.6000000000000001)\n",
            "Sentiment(polarity=0.0, subjectivity=0.0)\n",
            "Sentiment(polarity=0.0, subjectivity=0.0)\n",
            "Sentiment(polarity=-0.5, subjectivity=1.0)\n",
            "Sentiment(polarity=0.0, subjectivity=0.0)\n",
            "Sentiment(polarity=0.0, subjectivity=0.0)\n",
            "Sentiment(polarity=0.22544642857142858, subjectivity=0.2119047619047619)\n",
            "Sentiment(polarity=0.20625, subjectivity=0.6666666666666666)\n",
            "Sentiment(polarity=0.3, subjectivity=0.3)\n",
            "Sentiment(polarity=0.0, subjectivity=0.0)\n",
            "Sentiment(polarity=0.0, subjectivity=0.0)\n",
            "Sentiment(polarity=0.0, subjectivity=0.0)\n",
            "Sentiment(polarity=0.0, subjectivity=0.0)\n",
            "Sentiment(polarity=0.35, subjectivity=0.65)\n",
            "Sentiment(polarity=-0.2, subjectivity=0.2)\n",
            "Sentiment(polarity=0.0, subjectivity=0.0)\n",
            "Sentiment(polarity=0.45, subjectivity=1.0)\n",
            "Sentiment(polarity=0.15000000000000002, subjectivity=0.25)\n",
            "Sentiment(polarity=0.0, subjectivity=0.0)\n",
            "Sentiment(polarity=0.5333333333333333, subjectivity=0.5083333333333333)\n",
            "Sentiment(polarity=-0.2, subjectivity=0.4)\n",
            "Sentiment(polarity=0.0, subjectivity=0.0)\n",
            "Sentiment(polarity=0.5, subjectivity=0.5)\n",
            "Sentiment(polarity=0.0, subjectivity=0.0)\n",
            "Sentiment(polarity=0.21428571428571427, subjectivity=0.5714285714285714)\n",
            "Sentiment(polarity=0.8000000000000002, subjectivity=0.6999999999999998)\n",
            "Sentiment(polarity=0.15833333333333335, subjectivity=0.19166666666666668)\n",
            "Sentiment(polarity=0.0, subjectivity=0.0)\n",
            "Sentiment(polarity=0.0, subjectivity=0.0)\n",
            "Sentiment(polarity=0.05113636363636363, subjectivity=0.4602272727272727)\n",
            "Sentiment(polarity=0.0, subjectivity=0.0)\n",
            "Sentiment(polarity=0.0, subjectivity=0.0)\n",
            "Sentiment(polarity=-0.0625, subjectivity=0.0)\n",
            "Sentiment(polarity=0.0, subjectivity=0.0)\n",
            "Sentiment(polarity=-0.5, subjectivity=0.9)\n",
            "Sentiment(polarity=0.0, subjectivity=0.0)\n",
            "Sentiment(polarity=0.0, subjectivity=0.0)\n",
            "Sentiment(polarity=0.0, subjectivity=0.0)\n",
            "Sentiment(polarity=-0.6638888888888889, subjectivity=0.736111111111111)\n",
            "Sentiment(polarity=0.21875, subjectivity=0.5416666666666667)\n",
            "Sentiment(polarity=-0.5, subjectivity=1.0)\n",
            "Sentiment(polarity=0.0, subjectivity=0.0)\n",
            "Sentiment(polarity=0.0, subjectivity=0.0)\n",
            "Sentiment(polarity=0.0, subjectivity=0.0)\n",
            "Sentiment(polarity=0.030612244897959183, subjectivity=0.11479591836734694)\n",
            "Sentiment(polarity=-0.009722222222222224, subjectivity=0.6736111111111112)\n",
            "Sentiment(polarity=-0.1625, subjectivity=0.4875)\n",
            "Sentiment(polarity=0.15, subjectivity=0.42500000000000004)\n",
            "Sentiment(polarity=0.5, subjectivity=0.5)\n",
            "Sentiment(polarity=0.3125, subjectivity=0.75)\n",
            "Sentiment(polarity=0.0, subjectivity=0.0)\n",
            "Sentiment(polarity=-0.7, subjectivity=0.8)\n",
            "Sentiment(polarity=0.0, subjectivity=0.0)\n",
            "Sentiment(polarity=-0.20000000000000004, subjectivity=0.9666666666666667)\n",
            "Sentiment(polarity=-0.7999999999999999, subjectivity=1.0)\n",
            "Sentiment(polarity=0.3125, subjectivity=0.3333333333333333)\n",
            "Sentiment(polarity=0.625, subjectivity=0.6)\n",
            "Sentiment(polarity=0.5, subjectivity=0.5)\n",
            "Sentiment(polarity=0.0, subjectivity=0.0)\n",
            "Sentiment(polarity=0.43333333333333335, subjectivity=0.5)\n",
            "Sentiment(polarity=0.25, subjectivity=0.3)\n",
            "Sentiment(polarity=-0.45, subjectivity=1.0)\n",
            "Sentiment(polarity=-0.25, subjectivity=0.75)\n",
            "Sentiment(polarity=0.7, subjectivity=0.5)\n",
            "Sentiment(polarity=-0.08273809523809525, subjectivity=0.46726190476190477)\n",
            "Sentiment(polarity=-0.21666666666666667, subjectivity=0.8333333333333334)\n",
            "Sentiment(polarity=0.43333333333333335, subjectivity=0.8333333333333334)\n",
            "Sentiment(polarity=0.0, subjectivity=0.0)\n",
            "Sentiment(polarity=0.5, subjectivity=0.5)\n",
            "Sentiment(polarity=0.0, subjectivity=0.0)\n",
            "Sentiment(polarity=0.0, subjectivity=0.0)\n",
            "Sentiment(polarity=-0.21666666666666667, subjectivity=0.8333333333333334)\n",
            "Sentiment(polarity=-0.27083333333333337, subjectivity=0.8333333333333334)\n",
            "Sentiment(polarity=0.5, subjectivity=0.5)\n",
            "Sentiment(polarity=0.0, subjectivity=0.0)\n",
            "Sentiment(polarity=0.9, subjectivity=1.0)\n",
            "Sentiment(polarity=-0.3, subjectivity=0.5)\n",
            "Sentiment(polarity=0.5, subjectivity=0.5)\n",
            "Sentiment(polarity=-0.21666666666666667, subjectivity=0.8333333333333334)\n",
            "Sentiment(polarity=0.0, subjectivity=0.0)\n",
            "Sentiment(polarity=0.0, subjectivity=0.0)\n",
            "Sentiment(polarity=0.13958333333333334, subjectivity=0.6833333333333333)\n",
            "Sentiment(polarity=0.5, subjectivity=0.5)\n",
            "Sentiment(polarity=-0.10000000000000002, subjectivity=0.5083333333333333)\n",
            "Sentiment(polarity=0.6166666666666667, subjectivity=0.9166666666666667)\n",
            "Sentiment(polarity=0.5, subjectivity=0.5)\n",
            "Sentiment(polarity=0.0, subjectivity=0.0)\n",
            "Sentiment(polarity=0.0, subjectivity=0.1)\n",
            "Sentiment(polarity=-0.008333333333333331, subjectivity=0.5166666666666667)\n",
            "Sentiment(polarity=0.5, subjectivity=0.2125)\n",
            "Sentiment(polarity=0.16000000000000003, subjectivity=0.7133333333333333)\n",
            "Sentiment(polarity=0.0, subjectivity=0.0)\n",
            "Sentiment(polarity=0.0, subjectivity=0.0)\n",
            "Sentiment(polarity=-0.5, subjectivity=1.0)\n",
            "Sentiment(polarity=-1.0, subjectivity=1.0)\n",
            "Sentiment(polarity=0.5, subjectivity=0.5)\n",
            "Sentiment(polarity=-0.21666666666666667, subjectivity=0.6361111111111112)\n",
            "Sentiment(polarity=0.0, subjectivity=0.5)\n",
            "Sentiment(polarity=0.4, subjectivity=0.6)\n",
            "Sentiment(polarity=0.65, subjectivity=0.75)\n",
            "Sentiment(polarity=0.0, subjectivity=0.0)\n",
            "Sentiment(polarity=0.0, subjectivity=0.0)\n",
            "Sentiment(polarity=0.5, subjectivity=0.4916666666666667)\n",
            "Sentiment(polarity=0.0, subjectivity=0.0)\n",
            "Sentiment(polarity=0.0, subjectivity=0.0)\n",
            "Sentiment(polarity=0.7, subjectivity=0.9)\n",
            "Sentiment(polarity=-0.5, subjectivity=0.8333333333333334)\n",
            "Sentiment(polarity=-0.2833333333333333, subjectivity=0.9166666666666667)\n",
            "Sentiment(polarity=0.03452380952380951, subjectivity=0.6845238095238095)\n",
            "Sentiment(polarity=0.4464285714285714, subjectivity=0.5357142857142857)\n",
            "Sentiment(polarity=0.0, subjectivity=0.0)\n",
            "Sentiment(polarity=0.5, subjectivity=0.5)\n",
            "Sentiment(polarity=0.4791666666666667, subjectivity=0.4666666666666666)\n",
            "Sentiment(polarity=0.0, subjectivity=0.0)\n",
            "Sentiment(polarity=0.0, subjectivity=0.16666666666666666)\n",
            "Sentiment(polarity=0.0, subjectivity=0.0)\n",
            "Sentiment(polarity=0.5, subjectivity=0.6)\n",
            "Sentiment(polarity=2.7755575615628914e-17, subjectivity=0.575)\n",
            "Sentiment(polarity=0.1, subjectivity=0.3)\n",
            "Sentiment(polarity=0.7, subjectivity=0.7)\n",
            "Sentiment(polarity=-0.08750000000000001, subjectivity=0.5125)\n",
            "Sentiment(polarity=-0.1722222222222222, subjectivity=0.6111111111111112)\n",
            "Sentiment(polarity=0.5, subjectivity=0.5)\n",
            "Sentiment(polarity=-0.020833333333333332, subjectivity=0.5625)\n",
            "Sentiment(polarity=0.0, subjectivity=0.0)\n",
            "Sentiment(polarity=0.19166666666666665, subjectivity=0.9166666666666667)\n",
            "Sentiment(polarity=0.5, subjectivity=0.5)\n",
            "Sentiment(polarity=0.45714285714285713, subjectivity=0.6071428571428571)\n",
            "Sentiment(polarity=0.25, subjectivity=0.3333333333333333)\n",
            "Sentiment(polarity=0.0, subjectivity=0.0)\n",
            "Sentiment(polarity=-0.15, subjectivity=0.95)\n",
            "Sentiment(polarity=0.25, subjectivity=0.375)\n",
            "Sentiment(polarity=-0.08750000000000001, subjectivity=0.5125)\n",
            "Sentiment(polarity=0.7, subjectivity=0.9)\n",
            "Sentiment(polarity=0.25, subjectivity=0.9)\n",
            "Sentiment(polarity=0.03452380952380951, subjectivity=0.6845238095238095)\n",
            "Sentiment(polarity=0.0, subjectivity=0.0)\n",
            "Sentiment(polarity=0.2, subjectivity=0.2)\n",
            "Sentiment(polarity=0.0, subjectivity=0.0)\n",
            "59 32 49\n",
            "122980\n"
          ]
        },
        {
          "output_type": "display_data",
          "data": {
            "image/png": "[encoded data removed]",
            "text/plain": [
              "<Figure size 2520x216 with 141 Axes>"
            ]
          },
          "metadata": {}
        }
      ]
    },
    {
      "cell_type": "markdown",
      "metadata": {
        "id": "K5BELY0J6PF9"
      },
      "source": [
        "##4) xg_boost Algorithma \n"
      ]
    },
    {
      "cell_type": "code",
      "metadata": {
        "id": "Cu_1woJC6SHe",
        "colab": {
          "base_uri": "https://localhost:8080/"
        },
        "outputId": "6e3e8509-7c4b-4664-bc1d-f4ae0056d572"
      },
      "source": [
        "cm5 = Cm_base\n",
        "neg = 0\n",
        "pos = 0\n",
        "\n",
        "for tweet in cm5['Tweet']:\n",
        "  client = Algorithmia.client('sim0/CA0mCa6Xz3FAkyoHb45G5I1')\n",
        "  algo = client.algo('asli/xgboost_basic_sentiment_analysis/0.1.1')\n",
        "  print(algo.pipe(tweet).result)\n",
        "  var = algo.pipe(tweet).result\n",
        "  if var['sentiment'] == 0:\n",
        "    neg +=1\n",
        "  if var['sentiment'] == 1:\n",
        "    pos +=1\n",
        "\n",
        "print(pos , neg)\n",
        "Influence_CM = (( 140 * (pos-neg)) + (total_likes+Retweet)) \n",
        "\n",
        "print(Influence_CM)"
      ],
      "execution_count": null,
      "outputs": [
        {
          "output_type": "stream",
          "name": "stdout",
          "text": [
            "{'sentiment': 1}\n",
            "{'sentiment': 1}\n",
            "{'sentiment': 1}\n",
            "{'sentiment': 1}\n",
            "{'sentiment': 1}\n",
            "{'sentiment': 1}\n",
            "{'sentiment': 1}\n",
            "{'sentiment': 1}\n",
            "{'sentiment': 1}\n",
            "{'sentiment': 1}\n",
            "{'sentiment': 1}\n",
            "{'sentiment': 1}\n",
            "{'sentiment': 1}\n",
            "{'sentiment': 1}\n",
            "{'sentiment': 1}\n",
            "{'sentiment': 1}\n",
            "{'sentiment': 1}\n",
            "{'sentiment': 1}\n",
            "{'sentiment': 1}\n",
            "{'sentiment': 1}\n",
            "{'sentiment': 1}\n",
            "{'sentiment': 1}\n",
            "{'sentiment': 1}\n",
            "{'sentiment': 1}\n",
            "{'sentiment': 1}\n",
            "{'sentiment': 1}\n",
            "{'sentiment': 1}\n",
            "{'sentiment': 1}\n",
            "{'sentiment': 1}\n",
            "{'sentiment': 1}\n",
            "{'sentiment': 1}\n",
            "{'sentiment': 1}\n",
            "{'sentiment': 1}\n",
            "{'sentiment': 1}\n",
            "{'sentiment': 1}\n",
            "{'sentiment': 1}\n",
            "{'sentiment': 1}\n",
            "{'sentiment': 1}\n",
            "{'sentiment': 1}\n",
            "{'sentiment': 0}\n",
            "{'sentiment': 1}\n",
            "{'sentiment': 1}\n",
            "{'sentiment': 1}\n",
            "{'sentiment': 1}\n",
            "{'sentiment': 1}\n",
            "{'sentiment': 1}\n",
            "{'sentiment': 1}\n",
            "{'sentiment': 1}\n",
            "{'sentiment': 1}\n",
            "{'sentiment': 1}\n",
            "{'sentiment': 1}\n",
            "{'sentiment': 1}\n",
            "{'sentiment': 1}\n",
            "{'sentiment': 1}\n",
            "{'sentiment': 1}\n",
            "{'sentiment': 1}\n",
            "{'sentiment': 1}\n",
            "{'sentiment': 1}\n",
            "{'sentiment': 1}\n",
            "{'sentiment': 1}\n",
            "{'sentiment': 1}\n",
            "{'sentiment': 1}\n",
            "{'sentiment': 1}\n",
            "{'sentiment': 1}\n",
            "{'sentiment': 1}\n",
            "{'sentiment': 1}\n",
            "{'sentiment': 1}\n",
            "{'sentiment': 1}\n",
            "{'sentiment': 1}\n",
            "{'sentiment': 1}\n",
            "{'sentiment': 1}\n",
            "{'sentiment': 1}\n",
            "{'sentiment': 1}\n",
            "{'sentiment': 1}\n",
            "{'sentiment': 1}\n",
            "{'sentiment': 1}\n",
            "{'sentiment': 1}\n",
            "{'sentiment': 1}\n",
            "{'sentiment': 1}\n",
            "{'sentiment': 1}\n",
            "{'sentiment': 1}\n",
            "{'sentiment': 1}\n",
            "{'sentiment': 1}\n",
            "{'sentiment': 1}\n",
            "{'sentiment': 1}\n",
            "{'sentiment': 1}\n",
            "{'sentiment': 0}\n",
            "{'sentiment': 1}\n",
            "{'sentiment': 1}\n",
            "{'sentiment': 1}\n",
            "{'sentiment': 1}\n",
            "{'sentiment': 1}\n",
            "{'sentiment': 1}\n",
            "{'sentiment': 1}\n",
            "{'sentiment': 1}\n",
            "{'sentiment': 1}\n",
            "{'sentiment': 1}\n",
            "{'sentiment': 1}\n",
            "{'sentiment': 1}\n",
            "{'sentiment': 1}\n",
            "{'sentiment': 1}\n",
            "{'sentiment': 1}\n",
            "{'sentiment': 1}\n",
            "{'sentiment': 1}\n",
            "{'sentiment': 1}\n",
            "{'sentiment': 1}\n",
            "{'sentiment': 1}\n",
            "{'sentiment': 1}\n",
            "{'sentiment': 1}\n",
            "{'sentiment': 1}\n",
            "{'sentiment': 1}\n",
            "{'sentiment': 1}\n",
            "{'sentiment': 1}\n",
            "{'sentiment': 1}\n",
            "{'sentiment': 1}\n",
            "{'sentiment': 1}\n",
            "{'sentiment': 1}\n",
            "{'sentiment': 1}\n",
            "{'sentiment': 1}\n",
            "{'sentiment': 1}\n",
            "{'sentiment': 1}\n",
            "{'sentiment': 1}\n",
            "{'sentiment': 1}\n",
            "{'sentiment': 1}\n",
            "{'sentiment': 0}\n",
            "{'sentiment': 1}\n",
            "{'sentiment': 1}\n",
            "{'sentiment': 1}\n",
            "{'sentiment': 1}\n",
            "{'sentiment': 1}\n",
            "{'sentiment': 1}\n",
            "{'sentiment': 0}\n",
            "{'sentiment': 1}\n",
            "{'sentiment': 1}\n",
            "{'sentiment': 1}\n",
            "{'sentiment': 1}\n",
            "{'sentiment': 1}\n",
            "{'sentiment': 1}\n",
            "{'sentiment': 1}\n",
            "{'sentiment': 1}\n",
            "136 4\n",
            "137680\n"
          ]
        }
      ]
    },
    {
      "cell_type": "markdown",
      "metadata": {
        "id": "sDbvgTC9w6PM"
      },
      "source": [
        "#Jack Nicklaus"
      ]
    },
    {
      "cell_type": "code",
      "metadata": {
        "id": "fOKwPdXJBxpm"
      },
      "source": [
        "JN = pd.read_csv('/content/gdrive/MyDrive/Twitter_SA/JackNicklaus.csv')\n",
        "JN\n"
      ],
      "execution_count": null,
      "outputs": []
    },
    {
      "cell_type": "code",
      "metadata": {
        "id": "IlUFgy_hxGVk"
      },
      "source": [
        "jn1 = JN.dropna(subset=['Tweet'])\n",
        "nan_value = float(\"NaN\")\n",
        "# Convert NaN values to empty string\n",
        "jn1.replace(\"\", nan_value, inplace=True)\n",
        "jn1.dropna(subset = [\"Tweet\"], inplace=True)\n",
        "Jn_base = jn1\n",
        "Jn_base\n",
        "\n",
        "\n",
        "index = Jn_base.index\n",
        "number_of_rows = len(index)\n",
        "print(number_of_rows)"
      ],
      "execution_count": null,
      "outputs": []
    },
    {
      "cell_type": "markdown",
      "metadata": {
        "id": "7sg3ukK1xcm5"
      },
      "source": [
        "##1) flair"
      ]
    },
    {
      "cell_type": "code",
      "metadata": {
        "id": "0qDlyRlBxW2R"
      },
      "source": [
        "sentiment =[]\n",
        "confidence = []\n",
        "\n",
        "for tweet in jn1['Tweet']:\n",
        "  if tweet.strip() == '':\n",
        "    sentiment.append(\"\")\n",
        "    confidence.append(\"\")\n",
        "  else:\n",
        "    each_tweet = flair.data.Sentence(tweet)\n",
        "    sentiment_model.predict(each_tweet)\n",
        "\n",
        "    sentiment.append(each_tweet.labels[0].value)\n",
        "    confidence.append(each_tweet.labels[0].score)\n",
        "\n",
        "\n",
        "jn1['Sent'] = sentiment\n",
        "jn1['Score'] = confidence\n",
        "jn1"
      ],
      "execution_count": null,
      "outputs": []
    },
    {
      "cell_type": "code",
      "metadata": {
        "id": "Bukh0LMCxhRz"
      },
      "source": [
        "Positive = 0\n",
        "Negative = 0\n",
        "\n",
        "for c in jn1['Sent']:\n",
        "  if c == 'POSITIVE':\n",
        "    Positive += 1\n",
        "  if c == 'NEGATIVE':\n",
        "    Negative += 1\n",
        "\n",
        "Retweet = 21200\n",
        "\n",
        "total_likes = 95100\n",
        "\n",
        "print(Positive , Negative)\n",
        "\n",
        "Influence_JN = ((150 * (Positive-Negative)) + (total_likes+Retweet)) \n",
        "\n",
        "print(Influence_JN)"
      ],
      "execution_count": null,
      "outputs": []
    },
    {
      "cell_type": "markdown",
      "metadata": {
        "id": "zywupkdhyCKo"
      },
      "source": [
        "##2) NKTL"
      ]
    },
    {
      "cell_type": "code",
      "metadata": {
        "id": "EIu0RFjIx-Bz"
      },
      "source": [
        "\n",
        "jn3 = Jn_base\n",
        "negative = 0\n",
        "positive = 0\n",
        "neutral = 0\n",
        "\n",
        "for tweet in jn3['Tweet']:\n",
        "  lst = []\n",
        "  visualize_sentiments({\n",
        "    \"Sentence\":[\"SENTENCE\"] + tweet.split(),\n",
        "    \"Sentiment\":[sid.polarity_scores(tweet)[\"compound\"]] + [sid.polarity_scores(word)[\"compound\"] for word in tweet.split()]\n",
        "})\n",
        "  print(sid.polarity_scores(tweet))\n",
        "  name = sid.polarity_scores(tweet)\n",
        "  lst.append(name['neg'])\n",
        "  lst.append(name['neu'])\n",
        "  lst.append(name['pos'])\n",
        "  var = max(lst)\n",
        "  if(var == name['neu'] ):\n",
        "    neutral += 1\n",
        "  if(var == name['pos'] ):\n",
        "    positive += 1\n",
        "  if(var == name['neg'] ):\n",
        "    negative += 1\n",
        "\n",
        "\n",
        "print(positive , negative , neutral)\n",
        "\n",
        "Influence_JN = ((150 * (positive-negative)) + (total_likes+Retweet)) \n",
        "\n",
        "print(Influence_JN)"
      ],
      "execution_count": null,
      "outputs": []
    },
    {
      "cell_type": "markdown",
      "metadata": {
        "id": "rd9yvvXGyRFE"
      },
      "source": [
        "##3) Textblob"
      ]
    },
    {
      "cell_type": "code",
      "metadata": {
        "id": "YMEst_MqyPJu"
      },
      "source": [
        "jn4 = Jn_base\n",
        "negative1 = 0\n",
        "positive1 = 0\n",
        "neutral1 = 0\n",
        "\n",
        "\n",
        "for tweet in jn4['Tweet']:\n",
        "  visualise_sentiments({\n",
        "        \"Sentence\":[\"SENTENCE\"] + tweet.split(),\n",
        "        \"Sentiment\":[TextBlob(tweet).polarity] + [TextBlob(word).polarity for word in tweet.split()],\n",
        "        \"Subjectivity\":[TextBlob(tweet).subjectivity] + [TextBlob(word).subjectivity for word in tweet.split()],\n",
        "  })\n",
        "  \n",
        "  print(TextBlob(tweet).sentiment)\n",
        "  name1 = TextBlob(tweet).sentiment\n",
        "  if(name1.polarity > 0.0 ):\n",
        "    positive1 += 1\n",
        "  if(name1.polarity == 0.0 ):\n",
        "    neutral1 += 1\n",
        "  if(name1.polarity < 0.0):\n",
        "    negative1 += 1\n",
        "\n",
        "print(positive1 , negative1 , neutral1)\n",
        "\n",
        "Influence_JN = ((150 * (positive1-negative1)) + (total_likes+Retweet)) \n",
        "\n",
        "print(Influence_JN)"
      ],
      "execution_count": null,
      "outputs": []
    },
    {
      "cell_type": "markdown",
      "metadata": {
        "id": "HIvMAK5tygSa"
      },
      "source": [
        "##4) xg_boost algorithma"
      ]
    },
    {
      "cell_type": "code",
      "metadata": {
        "id": "prWcPAWGyfYD"
      },
      "source": [
        "jn5 = Jn_base\n",
        "neg = 0\n",
        "pos = 0\n",
        "\n",
        "for tweet in jn5['Tweet']:\n",
        "  client = Algorithmia.client('sim0/CA0mCa6Xz3FAkyoHb45G5I1')\n",
        "  algo = client.algo('asli/xgboost_basic_sentiment_analysis/0.1.1')\n",
        "  print(algo.pipe(tweet).result)\n",
        "  var = algo.pipe(tweet).result\n",
        "  if var['sentiment'] == 0:\n",
        "    neg +=1\n",
        "  if var['sentiment'] == 1:\n",
        "    pos +=1\n",
        "\n",
        "print(pos ,neg)\n",
        "Influence_JN = ((150 * (pos-neg)) + (total_likes+Retweet)) \n",
        "\n",
        "print(Influence_JN)"
      ],
      "execution_count": null,
      "outputs": []
    },
    {
      "cell_type": "markdown",
      "metadata": {
        "id": "Qz23TfS0yzXJ"
      },
      "source": [
        "#Kristie Alley"
      ]
    },
    {
      "cell_type": "code",
      "metadata": {
        "id": "LCxPdkhEyvKp"
      },
      "source": [
        "KA = pd.read_csv('/content/gdrive/MyDrive/Twitter_SA/KristieAlley.csv')\n",
        "KA"
      ],
      "execution_count": null,
      "outputs": []
    },
    {
      "cell_type": "code",
      "metadata": {
        "id": "l8uMfyuSy9AL"
      },
      "source": [
        "ka1 = KA.dropna(subset=['Tweet'])\n",
        "nan_value = float(\"NaN\")\n",
        "# Convert NaN values to empty string\n",
        "ka1.replace(\"\", nan_value, inplace=True)\n",
        "ka1.dropna(subset = [\"Tweet\"], inplace=True)\n",
        "Ka_base = ka1\n",
        "Ka_base\n",
        "\n",
        "\n",
        "index = Ka_base.index\n",
        "number_of_rows = len(index)\n",
        "print(number_of_rows)"
      ],
      "execution_count": null,
      "outputs": []
    },
    {
      "cell_type": "markdown",
      "metadata": {
        "id": "-PN6k22_zJf4"
      },
      "source": [
        "##1)flair"
      ]
    },
    {
      "cell_type": "code",
      "metadata": {
        "id": "zfn9UQ1gzF_8"
      },
      "source": [
        "sentiment =[]\n",
        "confidence = []\n",
        "\n",
        "for tweet in ka1['Tweet']:\n",
        "  if tweet.strip() == '':\n",
        "    sentiment.append(\"\")\n",
        "    confidence.append(\"\")\n",
        "  else:\n",
        "    each_tweet = flair.data.Sentence(tweet)\n",
        "    sentiment_model.predict(each_tweet)\n",
        "\n",
        "    sentiment.append(each_tweet.labels[0].value)\n",
        "    confidence.append(each_tweet.labels[0].score)\n",
        "\n",
        "\n",
        "ka1['Sent'] = sentiment\n",
        "ka1['Score'] = confidence\n",
        "ka1\n"
      ],
      "execution_count": null,
      "outputs": []
    },
    {
      "cell_type": "code",
      "metadata": {
        "id": "xga-X76mzQRM"
      },
      "source": [
        "Positive = 0\n",
        "Negative = 0\n",
        "\n",
        "for c in ka1['Sent']:\n",
        "  if c == 'POSITIVE':\n",
        "    Positive += 1\n",
        "  if c == 'NEGATIVE':\n",
        "    Negative += 1\n",
        "\n",
        "Retweet = 26258\n",
        "\n",
        "total_likes = 202600 \n",
        "\n",
        "print(Positive , Negative)\n",
        "\n",
        "Influence_KA = ((156 * (Positive-Negative)) + (total_likes+Retweet)) \n",
        "\n",
        "print(Influence_KA)"
      ],
      "execution_count": null,
      "outputs": []
    },
    {
      "cell_type": "markdown",
      "metadata": {
        "id": "lKB3HmUs0Eet"
      },
      "source": [
        "##2) NKTL"
      ]
    },
    {
      "cell_type": "code",
      "metadata": {
        "id": "iPaCsBw20Jd6"
      },
      "source": [
        "ka3 = Ka_base\n",
        "negative = 0\n",
        "positive = 0\n",
        "neutral = 0\n",
        "\n",
        "for tweet in ka3['Tweet']:\n",
        "  lst = []\n",
        "  visualize_sentiments({\n",
        "    \"Sentence\":[\"SENTENCE\"] + tweet.split(),\n",
        "    \"Sentiment\":[sid.polarity_scores(tweet)[\"compound\"]] + [sid.polarity_scores(word)[\"compound\"] for word in tweet.split()]\n",
        "})\n",
        "  print(sid.polarity_scores(tweet))\n",
        "  name = sid.polarity_scores(tweet)\n",
        "  lst.append(name['neg'])\n",
        "  lst.append(name['neu'])\n",
        "  lst.append(name['pos'])\n",
        "  var = max(lst)\n",
        "  if(var == name['neu'] ):\n",
        "    neutral += 1\n",
        "  if(var == name['pos'] ):\n",
        "    positive += 1\n",
        "  if(var == name['neg'] ):\n",
        "    negative += 1\n",
        "\n",
        "print(positive , negative , neutral)\n",
        "\n",
        "Influence_KA = (( 156* (positive-negative)) + (total_likes+Retweet)) \n",
        "\n",
        "print(Influence_KA)"
      ],
      "execution_count": null,
      "outputs": []
    },
    {
      "cell_type": "markdown",
      "metadata": {
        "id": "xFTJ0wfO0bo0"
      },
      "source": [
        "##3) Textblob"
      ]
    },
    {
      "cell_type": "code",
      "metadata": {
        "id": "_8l7GPy10dMZ"
      },
      "source": [
        "ka4 = Ka_base\n",
        "negative1 = 0\n",
        "positive1 = 0\n",
        "neutral1 = 0\n",
        "\n",
        "\n",
        "for tweet in ka4['Tweet']:\n",
        "  visualise_sentiments({\n",
        "        \"Sentence\":[\"SENTENCE\"] + tweet.split(),\n",
        "        \"Sentiment\":[TextBlob(tweet).polarity] + [TextBlob(word).polarity for word in tweet.split()],\n",
        "        \"Subjectivity\":[TextBlob(tweet).subjectivity] + [TextBlob(word).subjectivity for word in tweet.split()],\n",
        "  })\n",
        "  \n",
        "  print(TextBlob(tweet).sentiment)\n",
        "  name1 = TextBlob(tweet).sentiment\n",
        "  if(name1.polarity > 0.0 ):\n",
        "    positive1 += 1\n",
        "  if(name1.polarity == 0.0 ):\n",
        "    neutral1 += 1\n",
        "  if(name1.polarity < 0.0):\n",
        "    negative1 += 1\n",
        "\n",
        "\n",
        "print(positive1 , negative1 , neutral1)\n",
        "\n",
        "Influence_KA = (( 156* (positive1-negative1)) + (total_likes+Retweet)) \n",
        "\n",
        "print(Influence_KA)"
      ],
      "execution_count": null,
      "outputs": []
    },
    {
      "cell_type": "markdown",
      "metadata": {
        "id": "fmyMsPyZ0mpp"
      },
      "source": [
        "##4 ) xg_boost algorithma "
      ]
    },
    {
      "cell_type": "code",
      "metadata": {
        "id": "3zsa3TEB0mBm"
      },
      "source": [
        "ka5 = Ka_base\n",
        "neg = 0\n",
        "pos = 0\n",
        "\n",
        "for tweet in ka5['Tweet']:\n",
        "  client = Algorithmia.client('sim0/CA0mCa6Xz3FAkyoHb45G5I1')\n",
        "  algo = client.algo('asli/xgboost_basic_sentiment_analysis/0.1.1')\n",
        "  print(algo.pipe(tweet).result)\n",
        "  var = algo.pipe(tweet).result\n",
        "  if var['sentiment'] == 0:\n",
        "    neg +=1\n",
        "  if var['sentiment'] == 1:\n",
        "    pos +=1\n",
        "\n",
        "print(pos , neg)\n",
        "Influence_KA = (( 156 * (pos-neg)) + (total_likes+Retweet)) \n",
        "\n",
        "print(Influence_KA)"
      ],
      "execution_count": null,
      "outputs": []
    },
    {
      "cell_type": "markdown",
      "metadata": {
        "id": "R3liG9uG1GhR"
      },
      "source": [
        "#James Woods"
      ]
    },
    {
      "cell_type": "code",
      "metadata": {
        "id": "-KbV7_nm1JCW"
      },
      "source": [
        "JW = pd.read_csv('/content/gdrive/MyDrive/Twitter_SA/JamesWoods.csv')\n",
        "JW"
      ],
      "execution_count": null,
      "outputs": []
    },
    {
      "cell_type": "code",
      "metadata": {
        "id": "ScIxzhPi1S0t"
      },
      "source": [
        "jw1 = JW.dropna(subset=['Tweet'])\n",
        "nan_value = float(\"NaN\")\n",
        "# Convert NaN values to empty string\n",
        "jw1.replace(\"\", nan_value, inplace=True)\n",
        "jw1.dropna(subset = [\"Tweet\"], inplace=True)\n",
        "Jw_base = jw1\n",
        "Jw_base\n",
        "\n",
        "\n",
        "index = Jw_base.index\n",
        "number_of_rows = len(index)\n",
        "print(number_of_rows)"
      ],
      "execution_count": null,
      "outputs": []
    },
    {
      "cell_type": "markdown",
      "metadata": {
        "id": "R_wWwIs12FBH"
      },
      "source": [
        "##1) flair"
      ]
    },
    {
      "cell_type": "code",
      "metadata": {
        "id": "0dNY6y3q10Cc"
      },
      "source": [
        "sentiment =[]\n",
        "confidence = []\n",
        "\n",
        "for tweet in jw1['Tweet']:\n",
        "  if tweet.strip() == '':\n",
        "    sentiment.append(\"\")\n",
        "    confidence.append(\"\")\n",
        "  else:\n",
        "    each_tweet = flair.data.Sentence(tweet)\n",
        "    sentiment_model.predict(each_tweet)\n",
        "\n",
        "    sentiment.append(each_tweet.labels[0].value)\n",
        "    confidence.append(each_tweet.labels[0].score)\n",
        "\n",
        "\n",
        "jw1['Sent'] = sentiment\n",
        "jw1['Score'] = confidence\n",
        "jw1"
      ],
      "execution_count": null,
      "outputs": []
    },
    {
      "cell_type": "code",
      "metadata": {
        "id": "rs_IGHDc2PbW"
      },
      "source": [
        "Positive = 0\n",
        "Negative = 0\n",
        "\n",
        "for c in jw1['Sent']:\n",
        "  if c == 'POSITIVE':\n",
        "    Positive += 1\n",
        "  if c == 'NEGATIVE':\n",
        "    Negative += 1\n",
        "\n",
        "Retweet = 29300\n",
        "\n",
        "total_likes = 95100\n",
        "\n",
        "print(Positive , Negative)\n",
        "\n",
        "Influence_JW = ((135 * (Positive-Negative)) + (total_likes+Retweet)) \n",
        "\n",
        "print(Influence_JW)"
      ],
      "execution_count": null,
      "outputs": []
    },
    {
      "cell_type": "markdown",
      "metadata": {
        "id": "8ofTJaaC3WGL"
      },
      "source": [
        "##2) NKTL\n",
        "\n"
      ]
    },
    {
      "cell_type": "code",
      "metadata": {
        "id": "O5d5Ro0H3aoj"
      },
      "source": [
        "jw3 = Jw_base\n",
        "negative = 0\n",
        "positive = 0\n",
        "neutral = 0\n",
        "\n",
        "for tweet in jw3['Tweet']:\n",
        "  lst = []\n",
        "  visualize_sentiments({\n",
        "    \"Sentence\":[\"SENTENCE\"] + tweet.split(),\n",
        "    \"Sentiment\":[sid.polarity_scores(tweet)[\"compound\"]] + [sid.polarity_scores(word)[\"compound\"] for word in tweet.split()]\n",
        "})\n",
        "  print(sid.polarity_scores(tweet))\n",
        "  name = sid.polarity_scores(tweet)\n",
        "  lst.append(name['neg'])\n",
        "  lst.append(name['neu'])\n",
        "  lst.append(name['pos'])\n",
        "  var = max(lst)\n",
        "  if(var == name['neu'] ):\n",
        "    neutral += 1\n",
        "  if(var == name['pos'] ):\n",
        "    positive += 1\n",
        "  if(var == name['neg'] ):\n",
        "    negative += 1\n",
        "\n",
        "print(positive , negative , neutral)\n",
        "\n",
        "Influence_JW = ((135 * (positive-negative)) + (total_likes+Retweet)) \n",
        "\n",
        "print(Influence_JW)"
      ],
      "execution_count": null,
      "outputs": []
    },
    {
      "cell_type": "markdown",
      "metadata": {
        "id": "j8KBUy5x3uRj"
      },
      "source": [
        "##3) textblob\n"
      ]
    },
    {
      "cell_type": "code",
      "metadata": {
        "id": "w9zMlRLR3wXH"
      },
      "source": [
        "jw4 = Jw_base\n",
        "negative1 = 0\n",
        "positive1 = 0\n",
        "neutral1 = 0\n",
        "\n",
        "\n",
        "for tweet in jw4['Tweet']:\n",
        "  visualise_sentiments({\n",
        "        \"Sentence\":[\"SENTENCE\"] + tweet.split(),\n",
        "        \"Sentiment\":[TextBlob(tweet).polarity] + [TextBlob(word).polarity for word in tweet.split()],\n",
        "        \"Subjectivity\":[TextBlob(tweet).subjectivity] + [TextBlob(word).subjectivity for word in tweet.split()],\n",
        "  })\n",
        "  \n",
        "  print(TextBlob(tweet).sentiment)\n",
        "  name1 = TextBlob(tweet).sentiment\n",
        "  if(name1.polarity > 0.0 ):\n",
        "    positive1 += 1\n",
        "  if(name1.polarity == 0.0 ):\n",
        "    neutral1 += 1\n",
        "  if(name1.polarity < 0.0):\n",
        "    negative1 += 1\n",
        "\n",
        "print(positive1 , negative1 , neutral1)\n",
        "Influence_JW = (( 135* (positive1-negative1)) + (total_likes+Retweet)) \n",
        "\n",
        "print(Influence_JW)"
      ],
      "execution_count": null,
      "outputs": []
    },
    {
      "cell_type": "markdown",
      "metadata": {
        "id": "6RVWNnZi3_K7"
      },
      "source": [
        "## xg_boost alogorithma"
      ]
    },
    {
      "cell_type": "code",
      "metadata": {
        "id": "tgK8xaQ94Ekl"
      },
      "source": [
        "jw5 = Jw_base\n",
        "neg = 0\n",
        "pos = 0\n",
        "\n",
        "for tweet in jw5['Tweet']:\n",
        "  client = Algorithmia.client('sim0/CA0mCa6Xz3FAkyoHb45G5I1')\n",
        "  algo = client.algo('asli/xgboost_basic_sentiment_analysis/0.1.1')\n",
        "  print(algo.pipe(tweet).result)\n",
        "  var = algo.pipe(tweet).result\n",
        "  if var['sentiment'] == 0:\n",
        "    neg +=1\n",
        "  if var['sentiment'] == 1:\n",
        "    pos +=1\n",
        "\n",
        "print(pos , neg)\n",
        "Influence_JW = (( 135* (pos-neg)) + (total_likes+Retweet)) \n",
        "\n",
        "print(Influence_JW)"
      ],
      "execution_count": null,
      "outputs": []
    },
    {
      "cell_type": "markdown",
      "metadata": {
        "id": "vRND1TND4cDB"
      },
      "source": [
        "#Lil Wayne"
      ]
    },
    {
      "cell_type": "code",
      "metadata": {
        "id": "g0S71Jr64gTa",
        "colab": {
          "base_uri": "https://localhost:8080/",
          "height": 419
        },
        "outputId": "bd413b4c-bba2-44fc-b475-85e78cb75cfb"
      },
      "source": [
        "LW = pd.read_csv('/content/gdrive/MyDrive/Twitter_SA/LilWayne.csv')\n",
        "LW\n"
      ],
      "execution_count": null,
      "outputs": [
        {
          "output_type": "execute_result",
          "data": {
            "text/html": [
              "<div>\n",
              "<style scoped>\n",
              "    .dataframe tbody tr th:only-of-type {\n",
              "        vertical-align: middle;\n",
              "    }\n",
              "\n",
              "    .dataframe tbody tr th {\n",
              "        vertical-align: top;\n",
              "    }\n",
              "\n",
              "    .dataframe thead th {\n",
              "        text-align: right;\n",
              "    }\n",
              "</style>\n",
              "<table border=\"1\" class=\"dataframe\">\n",
              "  <thead>\n",
              "    <tr style=\"text-align: right;\">\n",
              "      <th></th>\n",
              "      <th>Name</th>\n",
              "      <th>Date</th>\n",
              "      <th>ReplyingTo</th>\n",
              "      <th>Tweet</th>\n",
              "      <th>Replies</th>\n",
              "      <th>Retweets</th>\n",
              "      <th>Likes</th>\n",
              "    </tr>\n",
              "  </thead>\n",
              "  <tbody>\n",
              "    <tr>\n",
              "      <th>0</th>\n",
              "      <td>Justin Jaws 44 (@)</td>\n",
              "      <td>Oct 30, 2020</td>\n",
              "      <td>trump has done zero for black folks for four y...</td>\n",
              "      <td>NaN</td>\n",
              "      <td>NaN</td>\n",
              "      <td>NaN</td>\n",
              "      <td>NaN</td>\n",
              "    </tr>\n",
              "    <tr>\n",
              "      <th>1</th>\n",
              "      <td>Host Body Rachelle</td>\n",
              "      <td>Oct 30, 2020</td>\n",
              "      <td>Don't be surprised. The Trump campaign recentl...</td>\n",
              "      <td>NaN</td>\n",
              "      <td>NaN</td>\n",
              "      <td>NaN</td>\n",
              "      <td>NaN</td>\n",
              "    </tr>\n",
              "    <tr>\n",
              "      <th>2</th>\n",
              "      <td>Levi. D</td>\n",
              "      <td>Oct 30, 2020</td>\n",
              "      <td>I’m a Trump fan and this made me laugh so loud</td>\n",
              "      <td>NaN</td>\n",
              "      <td>NaN</td>\n",
              "      <td>NaN</td>\n",
              "      <td>NaN</td>\n",
              "    </tr>\n",
              "    <tr>\n",
              "      <th>3</th>\n",
              "      <td>Levi. D</td>\n",
              "      <td>Oct 30, 2020</td>\n",
              "      <td>Replying to \\n@LilTunechi\\n \\n@realDonaldTrump...</td>\n",
              "      <td>Yeah trumps gonna win.</td>\n",
              "      <td>5.0</td>\n",
              "      <td>NaN</td>\n",
              "      <td>71</td>\n",
              "    </tr>\n",
              "    <tr>\n",
              "      <th>4</th>\n",
              "      <td>North™</td>\n",
              "      <td>Oct 30, 2020</td>\n",
              "      <td>Replying to \\n@LilTunechi\\n \\n@realDonaldTrump...</td>\n",
              "      <td>It’s hilarious how so many celebs will say som...</td>\n",
              "      <td>10.0</td>\n",
              "      <td>1.0</td>\n",
              "      <td>125</td>\n",
              "    </tr>\n",
              "    <tr>\n",
              "      <th>...</th>\n",
              "      <td>...</td>\n",
              "      <td>...</td>\n",
              "      <td>...</td>\n",
              "      <td>...</td>\n",
              "      <td>...</td>\n",
              "      <td>...</td>\n",
              "      <td>...</td>\n",
              "    </tr>\n",
              "    <tr>\n",
              "      <th>107</th>\n",
              "      <td>UnapologeticallyQueen</td>\n",
              "      <td>Nov 8, 2020</td>\n",
              "      <td>Replying to \\n@LilTunechi\\n \\n@realDonaldTrump...</td>\n",
              "      <td>Well, that worked out well.</td>\n",
              "      <td>NaN</td>\n",
              "      <td>NaN</td>\n",
              "      <td>9</td>\n",
              "    </tr>\n",
              "    <tr>\n",
              "      <th>108</th>\n",
              "      <td>yowanna</td>\n",
              "      <td>Nov 12, 2020</td>\n",
              "      <td>Replying to \\n@LilTunechi\\n \\n@realDonaldTrump...</td>\n",
              "      <td>thank you for this. now I have an excuse for w...</td>\n",
              "      <td>1.0</td>\n",
              "      <td>NaN</td>\n",
              "      <td>39</td>\n",
              "    </tr>\n",
              "    <tr>\n",
              "      <th>109</th>\n",
              "      <td>nerf</td>\n",
              "      <td>Nov 24, 2020</td>\n",
              "      <td>you might want to worry about your non existen...</td>\n",
              "      <td>NaN</td>\n",
              "      <td>NaN</td>\n",
              "      <td>NaN</td>\n",
              "      <td>NaN</td>\n",
              "    </tr>\n",
              "    <tr>\n",
              "      <th>110</th>\n",
              "      <td>Baby T</td>\n",
              "      <td>Nov 8, 2020</td>\n",
              "      <td>Replying to \\n@LilTunechi\\n \\n@realDonaldTrump...</td>\n",
              "      <td>L</td>\n",
              "      <td>NaN</td>\n",
              "      <td>NaN</td>\n",
              "      <td>1</td>\n",
              "    </tr>\n",
              "    <tr>\n",
              "      <th>111</th>\n",
              "      <td>Amy</td>\n",
              "      <td>Nov 8, 2020</td>\n",
              "      <td>Replying to \\n@LilTunechi\\n \\n@realDonaldTrump...</td>\n",
              "      <td>NaN</td>\n",
              "      <td>NaN</td>\n",
              "      <td>NaN</td>\n",
              "      <td>3</td>\n",
              "    </tr>\n",
              "  </tbody>\n",
              "</table>\n",
              "<p>112 rows × 7 columns</p>\n",
              "</div>"
            ],
            "text/plain": [
              "                      Name          Date  ... Retweets Likes\n",
              "0       Justin Jaws 44 (@)  Oct 30, 2020  ...      NaN   NaN\n",
              "1       Host Body Rachelle  Oct 30, 2020  ...      NaN   NaN\n",
              "2                  Levi. D  Oct 30, 2020  ...      NaN   NaN\n",
              "3                  Levi. D  Oct 30, 2020  ...      NaN    71\n",
              "4                   North™  Oct 30, 2020  ...      1.0   125\n",
              "..                     ...           ...  ...      ...   ...\n",
              "107  UnapologeticallyQueen   Nov 8, 2020  ...      NaN     9\n",
              "108                yowanna  Nov 12, 2020  ...      NaN    39\n",
              "109                   nerf  Nov 24, 2020  ...      NaN   NaN\n",
              "110                 Baby T   Nov 8, 2020  ...      NaN     1\n",
              "111                    Amy   Nov 8, 2020  ...      NaN     3\n",
              "\n",
              "[112 rows x 7 columns]"
            ]
          },
          "metadata": {},
          "execution_count": 14
        }
      ]
    },
    {
      "cell_type": "code",
      "metadata": {
        "id": "zoKEW3Rq4sIU",
        "colab": {
          "base_uri": "https://localhost:8080/"
        },
        "outputId": "abf06941-f4b8-462a-b38f-104e21f55d13"
      },
      "source": [
        "lw1 = LW.dropna(subset=['Tweet'])\n",
        "nan_value = float(\"NaN\")\n",
        "# Convert NaN values to empty string\n",
        "lw1.replace(\"\", nan_value, inplace=True)\n",
        "lw1.dropna(subset = [\"Tweet\"], inplace=True)\n",
        "Lw_base = lw1\n",
        "Lw_base\n",
        "\n",
        "\n",
        "index = Lw_base.index\n",
        "number_of_rows = len(index)\n",
        "print(number_of_rows)"
      ],
      "execution_count": null,
      "outputs": [
        {
          "output_type": "stream",
          "name": "stdout",
          "text": [
            "78\n"
          ]
        },
        {
          "output_type": "stream",
          "name": "stderr",
          "text": [
            "/usr/local/lib/python3.7/dist-packages/pandas/core/frame.py:4389: SettingWithCopyWarning: \n",
            "A value is trying to be set on a copy of a slice from a DataFrame\n",
            "\n",
            "See the caveats in the documentation: https://pandas.pydata.org/pandas-docs/stable/user_guide/indexing.html#returning-a-view-versus-a-copy\n",
            "  method=method,\n",
            "/usr/local/lib/python3.7/dist-packages/ipykernel_launcher.py:5: SettingWithCopyWarning: \n",
            "A value is trying to be set on a copy of a slice from a DataFrame\n",
            "\n",
            "See the caveats in the documentation: https://pandas.pydata.org/pandas-docs/stable/user_guide/indexing.html#returning-a-view-versus-a-copy\n",
            "  \"\"\"\n"
          ]
        }
      ]
    },
    {
      "cell_type": "markdown",
      "metadata": {
        "id": "5j1GeLEv5PEd"
      },
      "source": [
        "##1) flair"
      ]
    },
    {
      "cell_type": "code",
      "metadata": {
        "id": "IeEzN7DV5QE4",
        "colab": {
          "base_uri": "https://localhost:8080/",
          "height": 606
        },
        "outputId": "3a29d908-5a3d-4f02-96e2-a19733c8415b"
      },
      "source": [
        "sentiment =[]\n",
        "confidence = []\n",
        "\n",
        "for tweet in lw1['Tweet']:\n",
        "  if tweet.strip() == '':\n",
        "    sentiment.append(\"\")\n",
        "    confidence.append(\"\")\n",
        "  else:\n",
        "    each_tweet = flair.data.Sentence(tweet)\n",
        "    sentiment_model.predict(each_tweet)\n",
        "\n",
        "    sentiment.append(each_tweet.labels[0].value)\n",
        "    confidence.append(each_tweet.labels[0].score)\n",
        "\n",
        "\n",
        "lw1['Sent'] = sentiment\n",
        "lw1['Score'] = confidence\n",
        "lw1"
      ],
      "execution_count": null,
      "outputs": [
        {
          "output_type": "stream",
          "name": "stderr",
          "text": [
            "/usr/local/lib/python3.7/dist-packages/ipykernel_launcher.py:16: SettingWithCopyWarning: \n",
            "A value is trying to be set on a copy of a slice from a DataFrame.\n",
            "Try using .loc[row_indexer,col_indexer] = value instead\n",
            "\n",
            "See the caveats in the documentation: https://pandas.pydata.org/pandas-docs/stable/user_guide/indexing.html#returning-a-view-versus-a-copy\n",
            "  app.launch_new_instance()\n",
            "/usr/local/lib/python3.7/dist-packages/ipykernel_launcher.py:17: SettingWithCopyWarning: \n",
            "A value is trying to be set on a copy of a slice from a DataFrame.\n",
            "Try using .loc[row_indexer,col_indexer] = value instead\n",
            "\n",
            "See the caveats in the documentation: https://pandas.pydata.org/pandas-docs/stable/user_guide/indexing.html#returning-a-view-versus-a-copy\n"
          ]
        },
        {
          "output_type": "execute_result",
          "data": {
            "text/html": [
              "<div>\n",
              "<style scoped>\n",
              "    .dataframe tbody tr th:only-of-type {\n",
              "        vertical-align: middle;\n",
              "    }\n",
              "\n",
              "    .dataframe tbody tr th {\n",
              "        vertical-align: top;\n",
              "    }\n",
              "\n",
              "    .dataframe thead th {\n",
              "        text-align: right;\n",
              "    }\n",
              "</style>\n",
              "<table border=\"1\" class=\"dataframe\">\n",
              "  <thead>\n",
              "    <tr style=\"text-align: right;\">\n",
              "      <th></th>\n",
              "      <th>Name</th>\n",
              "      <th>Date</th>\n",
              "      <th>ReplyingTo</th>\n",
              "      <th>Tweet</th>\n",
              "      <th>Replies</th>\n",
              "      <th>Retweets</th>\n",
              "      <th>Likes</th>\n",
              "      <th>Sent</th>\n",
              "      <th>Score</th>\n",
              "    </tr>\n",
              "  </thead>\n",
              "  <tbody>\n",
              "    <tr>\n",
              "      <th>3</th>\n",
              "      <td>Levi. D</td>\n",
              "      <td>Oct 30, 2020</td>\n",
              "      <td>Replying to \\n@LilTunechi\\n \\n@realDonaldTrump...</td>\n",
              "      <td>Yeah trumps gonna win.</td>\n",
              "      <td>5.0</td>\n",
              "      <td>NaN</td>\n",
              "      <td>71</td>\n",
              "      <td>POSITIVE</td>\n",
              "      <td>0.817929</td>\n",
              "    </tr>\n",
              "    <tr>\n",
              "      <th>4</th>\n",
              "      <td>North™</td>\n",
              "      <td>Oct 30, 2020</td>\n",
              "      <td>Replying to \\n@LilTunechi\\n \\n@realDonaldTrump...</td>\n",
              "      <td>It’s hilarious how so many celebs will say som...</td>\n",
              "      <td>10.0</td>\n",
              "      <td>1.0</td>\n",
              "      <td>125</td>\n",
              "      <td>POSITIVE</td>\n",
              "      <td>0.822753</td>\n",
              "    </tr>\n",
              "    <tr>\n",
              "      <th>5</th>\n",
              "      <td>PRINCE</td>\n",
              "      <td>Oct 30, 2020</td>\n",
              "      <td>Replying to \\n@LilTunechi\\n \\n@realDonaldTrump...</td>\n",
              "      <td>Y’all he’s not speaking as a black man. He’s s...</td>\n",
              "      <td>155.0</td>\n",
              "      <td>139.0</td>\n",
              "      <td>3.7K</td>\n",
              "      <td>NEGATIVE</td>\n",
              "      <td>0.729618</td>\n",
              "    </tr>\n",
              "    <tr>\n",
              "      <th>7</th>\n",
              "      <td>Shay</td>\n",
              "      <td>Oct 30, 2020</td>\n",
              "      <td>Replying to \\n@LilTunechi\\n \\n@realDonaldTrump...</td>\n",
              "      <td>I have no words for the betrayal that is happe...</td>\n",
              "      <td>22.0</td>\n",
              "      <td>2.0</td>\n",
              "      <td>75</td>\n",
              "      <td>NEGATIVE</td>\n",
              "      <td>0.842894</td>\n",
              "    </tr>\n",
              "    <tr>\n",
              "      <th>10</th>\n",
              "      <td>Shamar English</td>\n",
              "      <td>Oct 30, 2020</td>\n",
              "      <td>Replying to \\n@LilTunechi\\n \\n@realDonaldTrump...</td>\n",
              "      <td>A lot of these rappers are sellouts. Rappers l...</td>\n",
              "      <td>45.0</td>\n",
              "      <td>25.0</td>\n",
              "      <td>189</td>\n",
              "      <td>NEGATIVE</td>\n",
              "      <td>0.875075</td>\n",
              "    </tr>\n",
              "    <tr>\n",
              "      <th>...</th>\n",
              "      <td>...</td>\n",
              "      <td>...</td>\n",
              "      <td>...</td>\n",
              "      <td>...</td>\n",
              "      <td>...</td>\n",
              "      <td>...</td>\n",
              "      <td>...</td>\n",
              "      <td>...</td>\n",
              "      <td>...</td>\n",
              "    </tr>\n",
              "    <tr>\n",
              "      <th>105</th>\n",
              "      <td>Luis Soto</td>\n",
              "      <td>Nov 5, 2020</td>\n",
              "      <td>Replying to \\n@LilTunechi\\n \\n@realDonaldTrump...</td>\n",
              "      <td>This sellout &amp; many other rich black men like ...</td>\n",
              "      <td>1.0</td>\n",
              "      <td>NaN</td>\n",
              "      <td>8</td>\n",
              "      <td>NEGATIVE</td>\n",
              "      <td>0.957369</td>\n",
              "    </tr>\n",
              "    <tr>\n",
              "      <th>106</th>\n",
              "      <td>Lukas Lütz</td>\n",
              "      <td>Nov 8, 2020</td>\n",
              "      <td>Replying to \\n@LilTunechi\\n \\n@realDonaldTrump...</td>\n",
              "      <td>My heart broke in this moment mr. Carter can’t...</td>\n",
              "      <td>NaN</td>\n",
              "      <td>NaN</td>\n",
              "      <td>5</td>\n",
              "      <td>NEGATIVE</td>\n",
              "      <td>0.948963</td>\n",
              "    </tr>\n",
              "    <tr>\n",
              "      <th>107</th>\n",
              "      <td>UnapologeticallyQueen</td>\n",
              "      <td>Nov 8, 2020</td>\n",
              "      <td>Replying to \\n@LilTunechi\\n \\n@realDonaldTrump...</td>\n",
              "      <td>Well, that worked out well.</td>\n",
              "      <td>NaN</td>\n",
              "      <td>NaN</td>\n",
              "      <td>9</td>\n",
              "      <td>POSITIVE</td>\n",
              "      <td>0.994980</td>\n",
              "    </tr>\n",
              "    <tr>\n",
              "      <th>108</th>\n",
              "      <td>yowanna</td>\n",
              "      <td>Nov 12, 2020</td>\n",
              "      <td>Replying to \\n@LilTunechi\\n \\n@realDonaldTrump...</td>\n",
              "      <td>thank you for this. now I have an excuse for w...</td>\n",
              "      <td>1.0</td>\n",
              "      <td>NaN</td>\n",
              "      <td>39</td>\n",
              "      <td>NEGATIVE</td>\n",
              "      <td>0.780206</td>\n",
              "    </tr>\n",
              "    <tr>\n",
              "      <th>110</th>\n",
              "      <td>Baby T</td>\n",
              "      <td>Nov 8, 2020</td>\n",
              "      <td>Replying to \\n@LilTunechi\\n \\n@realDonaldTrump...</td>\n",
              "      <td>L</td>\n",
              "      <td>NaN</td>\n",
              "      <td>NaN</td>\n",
              "      <td>1</td>\n",
              "      <td>POSITIVE</td>\n",
              "      <td>0.672152</td>\n",
              "    </tr>\n",
              "  </tbody>\n",
              "</table>\n",
              "<p>78 rows × 9 columns</p>\n",
              "</div>"
            ],
            "text/plain": [
              "                      Name          Date  ...      Sent     Score\n",
              "3                  Levi. D  Oct 30, 2020  ...  POSITIVE  0.817929\n",
              "4                   North™  Oct 30, 2020  ...  POSITIVE  0.822753\n",
              "5                   PRINCE  Oct 30, 2020  ...  NEGATIVE  0.729618\n",
              "7                     Shay  Oct 30, 2020  ...  NEGATIVE  0.842894\n",
              "10          Shamar English  Oct 30, 2020  ...  NEGATIVE  0.875075\n",
              "..                     ...           ...  ...       ...       ...\n",
              "105              Luis Soto   Nov 5, 2020  ...  NEGATIVE  0.957369\n",
              "106             Lukas Lütz   Nov 8, 2020  ...  NEGATIVE  0.948963\n",
              "107  UnapologeticallyQueen   Nov 8, 2020  ...  POSITIVE  0.994980\n",
              "108                yowanna  Nov 12, 2020  ...  NEGATIVE  0.780206\n",
              "110                 Baby T   Nov 8, 2020  ...  POSITIVE  0.672152\n",
              "\n",
              "[78 rows x 9 columns]"
            ]
          },
          "metadata": {},
          "execution_count": 16
        }
      ]
    },
    {
      "cell_type": "code",
      "metadata": {
        "id": "5UWsA80R511j",
        "colab": {
          "base_uri": "https://localhost:8080/"
        },
        "outputId": "9eac62f1-7e45-4752-fab9-572edd8b89ee"
      },
      "source": [
        "Positive = 0\n",
        "Negative = 0\n",
        "\n",
        "for c in lw1['Sent']:\n",
        "  if c == 'POSITIVE':\n",
        "    Positive += 1\n",
        "  if c == 'NEGATIVE':\n",
        "    Negative += 1\n",
        "\n",
        "Retweet = 235000\n",
        "\n",
        "total_likes = 4092000\n",
        "\n",
        "print(Positive , Negative )\n",
        "\n",
        "Influence_LW = ((78* (Positive-Negative)) + (total_likes+Retweet)) \n",
        "\n",
        "print(Influence_LW)"
      ],
      "execution_count": null,
      "outputs": [
        {
          "output_type": "stream",
          "name": "stdout",
          "text": [
            "39 39\n",
            "4327000\n"
          ]
        }
      ]
    },
    {
      "cell_type": "markdown",
      "metadata": {
        "id": "2U7n8j9U5zpA"
      },
      "source": [
        "##2) NKTL"
      ]
    },
    {
      "cell_type": "code",
      "metadata": {
        "id": "9MVifVxp6aPB",
        "colab": {
          "base_uri": "https://localhost:8080/",
          "height": 1000
        },
        "outputId": "ed1e8445-9681-42e2-8e35-dd95d5fa685c"
      },
      "source": [
        "lw3 = Lw_base\n",
        "negative = 0\n",
        "positive = 0\n",
        "neutral = 0\n",
        "\n",
        "for tweet in lw3['Tweet']:\n",
        "  lst = []\n",
        "  visualize_sentiments({\n",
        "    \"Sentence\":[\"SENTENCE\"] + tweet.split(),\n",
        "    \"Sentiment\":[sid.polarity_scores(tweet)[\"compound\"]] + [sid.polarity_scores(word)[\"compound\"] for word in tweet.split()]\n",
        "})\n",
        "  print(sid.polarity_scores(tweet))\n",
        "  name = sid.polarity_scores(tweet)\n",
        "  lst.append(name['neg'])\n",
        "  lst.append(name['neu'])\n",
        "  lst.append(name['pos'])\n",
        "  var = max(lst)\n",
        "  if(var == name['neu'] ):\n",
        "    neutral += 1\n",
        "  if(var == name['pos'] ):\n",
        "    positive += 1\n",
        "  if(var == name['neg'] ):\n",
        "    negative += 1\n",
        "\n",
        "print(positive , negative , neutral)\n",
        "Influence_LW = (( 78 * (positive-negative)) + (total_likes+Retweet)) \n",
        "\n",
        "print(Influence_LW)"
      ],
      "execution_count": null,
      "outputs": [
        {
          "output_type": "stream",
          "name": "stdout",
          "text": [
            "{'neg': 0.0, 'neu': 0.25, 'pos': 0.75, 'compound': 0.7184}\n",
            "{'neg': 0.084, 'neu': 0.797, 'pos': 0.118, 'compound': 0.128}\n",
            "{'neg': 0.0, 'neu': 0.753, 'pos': 0.247, 'compound': 0.5574}\n",
            "{'neg': 0.162, 'neu': 0.676, 'pos': 0.161, 'compound': -0.0108}\n",
            "{'neg': 0.071, 'neu': 0.842, 'pos': 0.087, 'compound': -0.0935}\n",
            "{'neg': 0.406, 'neu': 0.391, 'pos': 0.203, 'compound': -0.5574}\n",
            "{'neg': 0.0, 'neu': 1.0, 'pos': 0.0, 'compound': 0.0}\n",
            "{'neg': 0.0, 'neu': 1.0, 'pos': 0.0, 'compound': 0.0}\n",
            "{'neg': 0.0, 'neu': 0.844, 'pos': 0.156, 'compound': 0.1027}\n",
            "{'neg': 0.344, 'neu': 0.656, 'pos': 0.0, 'compound': -0.2732}\n",
            "{'neg': 0.0, 'neu': 1.0, 'pos': 0.0, 'compound': 0.0}\n",
            "{'neg': 0.385, 'neu': 0.385, 'pos': 0.231, 'compound': -0.25}\n",
            "{'neg': 0.267, 'neu': 0.733, 'pos': 0.0, 'compound': -0.9147}\n",
            "{'neg': 0.151, 'neu': 0.752, 'pos': 0.098, 'compound': -0.5593}\n",
            "{'neg': 0.672, 'neu': 0.0, 'pos': 0.328, 'compound': -0.5599}\n",
            "{'neg': 0.082, 'neu': 0.595, 'pos': 0.323, 'compound': 0.7579}\n",
            "{'neg': 0.102, 'neu': 0.898, 'pos': 0.0, 'compound': -0.6381}\n",
            "{'neg': 0.0, 'neu': 1.0, 'pos': 0.0, 'compound': 0.0}\n",
            "{'neg': 0.0, 'neu': 0.612, 'pos': 0.388, 'compound': 0.765}\n",
            "{'neg': 0.0, 'neu': 0.864, 'pos': 0.136, 'compound': 0.296}\n",
            "{'neg': 0.075, 'neu': 0.713, 'pos': 0.212, 'compound': 0.8338}\n",
            "{'neg': 0.0, 'neu': 1.0, 'pos': 0.0, 'compound': 0.0}\n",
            "{'neg': 0.211, 'neu': 0.547, 'pos': 0.242, 'compound': 0.1027}\n",
            "{'neg': 0.0, 'neu': 0.461, 'pos': 0.539, 'compound': 0.6892}\n",
            "{'neg': 0.0, 'neu': 1.0, 'pos': 0.0, 'compound': 0.0}\n",
            "{'neg': 0.038, 'neu': 0.81, 'pos': 0.153, 'compound': 0.7269}\n",
            "{'neg': 0.762, 'neu': 0.238, 'pos': 0.0, 'compound': -0.4939}\n",
            "{'neg': 0.0, 'neu': 0.829, 'pos': 0.171, 'compound': 0.7339}\n",
            "{'neg': 0.0, 'neu': 1.0, 'pos': 0.0, 'compound': 0.0}\n",
            "{'neg': 0.124, 'neu': 0.734, 'pos': 0.141, 'compound': 0.0772}\n",
            "{'neg': 0.274, 'neu': 0.659, 'pos': 0.067, 'compound': -0.953}\n",
            "{'neg': 0.0, 'neu': 0.754, 'pos': 0.246, 'compound': 0.8338}\n",
            "{'neg': 0.0, 'neu': 1.0, 'pos': 0.0, 'compound': 0.0}\n",
            "{'neg': 0.0, 'neu': 1.0, 'pos': 0.0, 'compound': 0.0}\n",
            "{'neg': 0.0, 'neu': 0.871, 'pos': 0.129, 'compound': 0.5256}\n",
            "{'neg': 0.168, 'neu': 0.748, 'pos': 0.084, 'compound': -0.2023}\n",
            "{'neg': 0.0, 'neu': 0.754, 'pos': 0.246, 'compound': 0.8338}\n",
            "{'neg': 0.0, 'neu': 1.0, 'pos': 0.0, 'compound': 0.0}\n",
            "{'neg': 0.112, 'neu': 0.603, 'pos': 0.285, 'compound': 0.4854}\n",
            "{'neg': 0.0, 'neu': 1.0, 'pos': 0.0, 'compound': 0.0}\n",
            "{'neg': 0.0, 'neu': 1.0, 'pos': 0.0, 'compound': 0.0}\n",
            "{'neg': 0.0, 'neu': 1.0, 'pos': 0.0, 'compound': 0.0}\n",
            "{'neg': 0.0, 'neu': 1.0, 'pos': 0.0, 'compound': 0.0}\n",
            "{'neg': 0.0, 'neu': 1.0, 'pos': 0.0, 'compound': 0.0}\n",
            "{'neg': 0.0, 'neu': 1.0, 'pos': 0.0, 'compound': 0.0}\n",
            "{'neg': 0.337, 'neu': 0.448, 'pos': 0.214, 'compound': -0.5917}\n",
            "{'neg': 0.0, 'neu': 0.0, 'pos': 0.0, 'compound': 0.0}\n",
            "{'neg': 0.0, 'neu': 1.0, 'pos': 0.0, 'compound': 0.0}\n",
            "{'neg': 0.0, 'neu': 0.741, 'pos': 0.259, 'compound': 0.7145}\n",
            "{'neg': 0.0, 'neu': 0.545, 'pos': 0.455, 'compound': 0.3612}\n",
            "{'neg': 0.0, 'neu': 0.734, 'pos': 0.266, 'compound': 0.4404}\n",
            "{'neg': 0.403, 'neu': 0.597, 'pos': 0.0, 'compound': -0.4019}\n",
            "{'neg': 0.0, 'neu': 0.734, 'pos': 0.266, 'compound': 0.4404}\n",
            "{'neg': 0.556, 'neu': 0.444, 'pos': 0.0, 'compound': -0.3612}\n",
            "{'neg': 0.0, 'neu': 1.0, 'pos': 0.0, 'compound': 0.0}\n",
            "{'neg': 0.337, 'neu': 0.663, 'pos': 0.0, 'compound': -0.6219}\n",
            "{'neg': 0.0, 'neu': 1.0, 'pos': 0.0, 'compound': 0.0}\n",
            "{'neg': 0.067, 'neu': 0.933, 'pos': 0.0, 'compound': -0.0772}\n",
            "{'neg': 0.0, 'neu': 0.556, 'pos': 0.444, 'compound': 0.34}\n",
            "{'neg': 0.0, 'neu': 0.545, 'pos': 0.455, 'compound': 0.3612}\n",
            "{'neg': 0.0, 'neu': 1.0, 'pos': 0.0, 'compound': 0.0}\n",
            "{'neg': 0.0, 'neu': 1.0, 'pos': 0.0, 'compound': 0.0}\n",
            "{'neg': 0.0, 'neu': 0.0, 'pos': 0.0, 'compound': 0.0}\n",
            "{'neg': 0.556, 'neu': 0.444, 'pos': 0.0, 'compound': -0.3612}\n",
            "{'neg': 0.151, 'neu': 0.752, 'pos': 0.098, 'compound': -0.5593}\n",
            "{'neg': 0.13, 'neu': 0.87, 'pos': 0.0, 'compound': -0.5574}\n",
            "{'neg': 0.184, 'neu': 0.816, 'pos': 0.0, 'compound': -0.7269}\n",
            "{'neg': 0.322, 'neu': 0.678, 'pos': 0.0, 'compound': -0.7371}\n",
            "{'neg': 0.126, 'neu': 0.816, 'pos': 0.058, 'compound': -0.7175}\n",
            "{'neg': 0.0, 'neu': 0.793, 'pos': 0.207, 'compound': 0.8739}\n",
            "{'neg': 0.0, 'neu': 0.862, 'pos': 0.138, 'compound': 0.5209}\n",
            "{'neg': 0.0, 'neu': 1.0, 'pos': 0.0, 'compound': 0.0}\n",
            "{'neg': 0.0, 'neu': 1.0, 'pos': 0.0, 'compound': 0.0}\n",
            "{'neg': 0.0, 'neu': 0.703, 'pos': 0.297, 'compound': 0.9129}\n",
            "{'neg': 0.072, 'neu': 0.928, 'pos': 0.0, 'compound': -0.4753}\n",
            "{'neg': 0.0, 'neu': 0.417, 'pos': 0.583, 'compound': 0.4939}\n",
            "{'neg': 0.0, 'neu': 0.826, 'pos': 0.174, 'compound': 0.4215}\n",
            "{'neg': 0.0, 'neu': 0.0, 'pos': 0.0, 'compound': 0.0}\n",
            "6 9 70\n",
            "4326766\n"
          ]
        },
        {
          "output_type": "display_data",
          "data": {
            "image/png": "[encoded data removed]",
            "text/plain": [
              "<Figure size 2520x216 with 79 Axes>"
            ]
          },
          "metadata": {}
        }
      ]
    },
    {
      "cell_type": "markdown",
      "metadata": {
        "id": "tVeyADyt6vIa"
      },
      "source": [
        "##3) textblob"
      ]
    },
    {
      "cell_type": "code",
      "metadata": {
        "id": "5I3PVfeg6rMC",
        "colab": {
          "base_uri": "https://localhost:8080/",
          "height": 1000
        },
        "outputId": "6d8cac8c-2666-48bd-b982-a0b2ee540593"
      },
      "source": [
        "lw4 = Lw_base\n",
        "negative1 = 0\n",
        "positive1 = 0\n",
        "neutral1 = 0\n",
        "\n",
        "\n",
        "for tweet in lw4['Tweet']:\n",
        "  visualise_sentiments({\n",
        "        \"Sentence\":[\"SENTENCE\"] + tweet.split(),\n",
        "        \"Sentiment\":[TextBlob(tweet).polarity] + [TextBlob(word).polarity for word in tweet.split()],\n",
        "        \"Subjectivity\":[TextBlob(tweet).subjectivity] + [TextBlob(word).subjectivity for word in tweet.split()],\n",
        "  })\n",
        "  \n",
        "  print(TextBlob(tweet).sentiment)\n",
        "  name1 = TextBlob(tweet).sentiment\n",
        "  if(name1.polarity > 0.0 ):\n",
        "    positive1 += 1\n",
        "  if(name1.polarity == 0.0 ):\n",
        "    neutral1 += 1\n",
        "  if(name1.polarity < 0.0):\n",
        "    negative1 += 1\n",
        "print(positive1 , negative1 , neutral1)\n",
        "Influence_LW = (( 78 * (positive1-negative1)) + (total_likes+Retweet)) \n",
        "\n",
        "print(Influence_LW)"
      ],
      "execution_count": null,
      "outputs": [
        {
          "output_type": "stream",
          "name": "stdout",
          "text": [
            "Sentiment(polarity=0.8, subjectivity=0.4)\n",
            "Sentiment(polarity=0.09714285714285713, subjectivity=0.7071428571428571)\n",
            "Sentiment(polarity=0.10416666666666667, subjectivity=0.5916666666666667)\n",
            "Sentiment(polarity=0.06666666666666667, subjectivity=0.31666666666666665)\n",
            "Sentiment(polarity=0.16190476190476188, subjectivity=0.7333333333333334)\n",
            "Sentiment(polarity=0.0, subjectivity=0.8)\n",
            "Sentiment(polarity=0.0, subjectivity=0.0)\n",
            "Sentiment(polarity=0.0, subjectivity=0.0)\n",
            "Sentiment(polarity=0.0, subjectivity=0.0)\n",
            "Sentiment(polarity=0.0, subjectivity=0.0)\n",
            "Sentiment(polarity=0.0, subjectivity=0.0)\n",
            "Sentiment(polarity=0.5, subjectivity=1.0)\n",
            "Sentiment(polarity=0.11249999999999999, subjectivity=0.6124999999999999)\n",
            "Sentiment(polarity=-0.23333333333333334, subjectivity=0.4666666666666667)\n",
            "Sentiment(polarity=-0.78125, subjectivity=1.0)\n",
            "Sentiment(polarity=0.0, subjectivity=0.0)\n",
            "Sentiment(polarity=-0.4, subjectivity=0.7)\n",
            "Sentiment(polarity=0.0, subjectivity=0.0)\n",
            "Sentiment(polarity=0.0, subjectivity=0.0)\n",
            "Sentiment(polarity=-0.08333333333333333, subjectivity=0.25)\n",
            "Sentiment(polarity=0.15333333333333335, subjectivity=0.5533333333333333)\n",
            "Sentiment(polarity=0.0, subjectivity=0.0)\n",
            "Sentiment(polarity=0.0, subjectivity=0.0)\n",
            "Sentiment(polarity=1.0, subjectivity=1.0)\n",
            "Sentiment(polarity=0.0, subjectivity=0.0)\n",
            "Sentiment(polarity=0.25, subjectivity=0.445)\n",
            "Sentiment(polarity=0.0, subjectivity=0.0)\n",
            "Sentiment(polarity=0.07440476190476189, subjectivity=0.4845238095238095)\n",
            "Sentiment(polarity=0.16, subjectivity=0.5399999999999999)\n",
            "Sentiment(polarity=0.0, subjectivity=0.0)\n",
            "Sentiment(polarity=-0.041666666666666664, subjectivity=0.15833333333333333)\n",
            "Sentiment(polarity=0.11111111111111112, subjectivity=0.28888888888888886)\n",
            "Sentiment(polarity=0.0, subjectivity=0.0)\n",
            "Sentiment(polarity=0.0, subjectivity=0.0)\n",
            "Sentiment(polarity=0.3333333333333333, subjectivity=0.7083333333333334)\n",
            "Sentiment(polarity=0.125, subjectivity=0.4666666666666667)\n",
            "Sentiment(polarity=0.11111111111111112, subjectivity=0.28888888888888886)\n",
            "Sentiment(polarity=0.0, subjectivity=0.0)\n",
            "Sentiment(polarity=-0.15555555555555556, subjectivity=0.45555555555555555)\n",
            "Sentiment(polarity=0.0, subjectivity=0.0)\n",
            "Sentiment(polarity=0.0, subjectivity=0.0)\n",
            "Sentiment(polarity=0.0, subjectivity=0.0)\n",
            "Sentiment(polarity=0.0, subjectivity=0.0)\n",
            "Sentiment(polarity=0.0, subjectivity=0.0)\n",
            "Sentiment(polarity=0.0, subjectivity=0.1)\n",
            "Sentiment(polarity=-0.12000000000000002, subjectivity=0.8400000000000001)\n",
            "Sentiment(polarity=0.0, subjectivity=0.0)\n",
            "Sentiment(polarity=0.0, subjectivity=0.1)\n",
            "Sentiment(polarity=0.04166666666666667, subjectivity=0.4666666666666667)\n",
            "Sentiment(polarity=-0.1, subjectivity=0.4)\n",
            "Sentiment(polarity=0.7, subjectivity=0.6000000000000001)\n",
            "Sentiment(polarity=0.2, subjectivity=0.2)\n",
            "Sentiment(polarity=0.7, subjectivity=0.6000000000000001)\n",
            "Sentiment(polarity=0.0, subjectivity=0.0)\n",
            "Sentiment(polarity=0.0, subjectivity=0.3333333333333333)\n",
            "Sentiment(polarity=0.0, subjectivity=0.0)\n",
            "Sentiment(polarity=0.0, subjectivity=0.0)\n",
            "Sentiment(polarity=-0.45, subjectivity=0.7)\n",
            "Sentiment(polarity=0.0, subjectivity=0.0)\n",
            "Sentiment(polarity=-0.1, subjectivity=0.4)\n",
            "Sentiment(polarity=0.0, subjectivity=0.0)\n",
            "Sentiment(polarity=0.0, subjectivity=0.0)\n",
            "Sentiment(polarity=0.0, subjectivity=0.0)\n",
            "Sentiment(polarity=0.0, subjectivity=0.0)\n",
            "Sentiment(polarity=-0.23333333333333334, subjectivity=0.4666666666666667)\n",
            "Sentiment(polarity=0.0, subjectivity=0.0)\n",
            "Sentiment(polarity=0.0, subjectivity=0.0)\n",
            "Sentiment(polarity=0.0, subjectivity=0.1)\n",
            "Sentiment(polarity=-0.040476190476190464, subjectivity=0.3984126984126984)\n",
            "Sentiment(polarity=-0.005555555555555554, subjectivity=0.37777777777777777)\n",
            "Sentiment(polarity=0.2, subjectivity=0.2)\n",
            "Sentiment(polarity=-0.16666666666666666, subjectivity=0.43333333333333335)\n",
            "Sentiment(polarity=0.0, subjectivity=0.0)\n",
            "Sentiment(polarity=0.1564814814814815, subjectivity=0.462037037037037)\n",
            "Sentiment(polarity=0.36818181818181817, subjectivity=0.75)\n",
            "Sentiment(polarity=0.0, subjectivity=0.0)\n",
            "Sentiment(polarity=-0.05, subjectivity=0.05)\n",
            "Sentiment(polarity=0.0, subjectivity=0.0)\n",
            "23 15 40\n",
            "4327624\n"
          ]
        },
        {
          "output_type": "display_data",
          "data": {
            "image/png": "[encoded data removed]",
            "text/plain": [
              "<Figure size 2520x216 with 79 Axes>"
            ]
          },
          "metadata": {}
        }
      ]
    },
    {
      "cell_type": "markdown",
      "metadata": {
        "id": "zWXQyBOb66Gd"
      },
      "source": [
        "##4)xg_boost algorithma"
      ]
    },
    {
      "cell_type": "code",
      "metadata": {
        "id": "2fVsmf9R68Wh",
        "colab": {
          "base_uri": "https://localhost:8080/"
        },
        "outputId": "7f38ed00-ce82-404f-a1b7-30d440bd5a84"
      },
      "source": [
        "lw5 = Lw_base\n",
        "neg = 0\n",
        "pos = 0\n",
        "\n",
        "for tweet in lw5['Tweet']:\n",
        "  client = Algorithmia.client('sim0/CA0mCa6Xz3FAkyoHb45G5I1')\n",
        "  algo = client.algo('asli/xgboost_basic_sentiment_analysis/0.1.1')\n",
        "  print(algo.pipe(tweet).result)\n",
        "  var = algo.pipe(tweet).result\n",
        "  if var['sentiment'] == 0:\n",
        "    neg +=1\n",
        "  if var['sentiment'] == 1:\n",
        "    pos +=1\n",
        "\n",
        "\n",
        "print(pos ,neg)\n",
        "Influence_LW = (( 78 * (pos-neg)) + (total_likes+Retweet)) \n",
        "\n",
        "print(Influence_LW)"
      ],
      "execution_count": null,
      "outputs": [
        {
          "output_type": "stream",
          "name": "stdout",
          "text": [
            "{'sentiment': 1}\n",
            "{'sentiment': 1}\n",
            "{'sentiment': 0}\n",
            "{'sentiment': 0}\n",
            "{'sentiment': 1}\n",
            "{'sentiment': 1}\n",
            "{'sentiment': 1}\n",
            "{'sentiment': 1}\n",
            "{'sentiment': 1}\n",
            "{'sentiment': 1}\n",
            "{'sentiment': 1}\n",
            "{'sentiment': 1}\n",
            "{'sentiment': 1}\n",
            "{'sentiment': 1}\n",
            "{'sentiment': 1}\n",
            "{'sentiment': 1}\n",
            "{'sentiment': 1}\n",
            "{'sentiment': 1}\n",
            "{'sentiment': 1}\n",
            "{'sentiment': 1}\n",
            "{'sentiment': 1}\n",
            "{'sentiment': 1}\n",
            "{'sentiment': 1}\n",
            "{'sentiment': 1}\n",
            "{'sentiment': 1}\n",
            "{'sentiment': 1}\n",
            "{'sentiment': 1}\n",
            "{'sentiment': 1}\n",
            "{'sentiment': 1}\n",
            "{'sentiment': 1}\n",
            "{'sentiment': 1}\n",
            "{'sentiment': 1}\n",
            "{'sentiment': 1}\n",
            "{'sentiment': 1}\n",
            "{'sentiment': 1}\n",
            "{'sentiment': 1}\n",
            "{'sentiment': 1}\n",
            "{'sentiment': 1}\n",
            "{'sentiment': 1}\n",
            "{'sentiment': 1}\n",
            "{'sentiment': 1}\n",
            "{'sentiment': 1}\n",
            "{'sentiment': 1}\n",
            "{'sentiment': 1}\n",
            "{'sentiment': 1}\n",
            "{'sentiment': 1}\n",
            "{'sentiment': 1}\n",
            "{'sentiment': 1}\n",
            "{'sentiment': 1}\n",
            "{'sentiment': 1}\n",
            "{'sentiment': 1}\n",
            "{'sentiment': 1}\n",
            "{'sentiment': 1}\n",
            "{'sentiment': 1}\n",
            "{'sentiment': 1}\n",
            "{'sentiment': 1}\n",
            "{'sentiment': 1}\n",
            "{'sentiment': 1}\n",
            "{'sentiment': 1}\n",
            "{'sentiment': 1}\n",
            "{'sentiment': 1}\n",
            "{'sentiment': 1}\n",
            "{'sentiment': 1}\n",
            "{'sentiment': 1}\n",
            "{'sentiment': 1}\n",
            "{'sentiment': 1}\n",
            "{'sentiment': 1}\n",
            "{'sentiment': 1}\n",
            "{'sentiment': 1}\n",
            "{'sentiment': 1}\n",
            "{'sentiment': 1}\n",
            "{'sentiment': 1}\n",
            "{'sentiment': 1}\n",
            "{'sentiment': 1}\n",
            "{'sentiment': 1}\n",
            "{'sentiment': 1}\n",
            "{'sentiment': 1}\n",
            "{'sentiment': 1}\n",
            "76 2\n",
            "4332772\n"
          ]
        }
      ]
    },
    {
      "cell_type": "code",
      "metadata": {
        "id": "bMH7lGCf9PqX",
        "colab": {
          "base_uri": "https://localhost:8080/"
        },
        "outputId": "38a67aef-79b7-45aa-b3af-dd73a718dafb"
      },
      "source": [
        "from prettytable import PrettyTable\n",
        "\n",
        "x = PrettyTable()\n",
        "print(\"BIDEN SUPPORTERS\")\n",
        "print(\" \")\n",
        "x.field_names = [\"Celebrity Name\", \"Flair\", \"NLTK\", \"TextBlob\",\"XGboost\",\"Number of Tweets\"]\n",
        "\n",
        "x.add_row([\"Dwayne Jonson\",  451881, 449466, 455423,470235 ,161])\n",
        "x.add_row([\"Taylor Swift\", 467480, 460428,467808,481584,164])\n",
        "x.add_row([\"Mark Cuban\", 9799,11299,13549,26299,125])\n",
        "x.add_row([\"John Legend \", 15202,13283,14798,21464,101])\n",
        "x.add_row([\"Jennifer Hudson\", 2974,12004,12139,12598,27])\n",
        "print(x)\n",
        "\n",
        "y = PrettyTable()\n",
        "print(\"TRUMP SUPPORTERS\")\n",
        "print(\" \")\n",
        "y.field_names = [\"Celebrity Name\", \"Flair\", \"NLTK\", \"TextBlob\",\"XGboost\",\"Number of Tweets\"]\n",
        "y.add_row([\"Conor Mcgregor\",115000,119900,122980,137680,140])\n",
        "y.add_row([\"Jack Nicklaus\", 113600,116150,119000,137000,150])\n",
        "y.add_row([\"Kristie Alley\", 222930,229638,235098,249762,156])\n",
        "y.add_row([\"James Woods\", 122915,229668,233583,246273,135])\n",
        "y.add_row([\"Lil Wayne\", 4327000,4326766,4327624,4332772,78])\n",
        "print(y)"
      ],
      "execution_count": 1,
      "outputs": [
        {
          "output_type": "stream",
          "name": "stdout",
          "text": [
            "BIDEN SUPPORTERS\n",
            " \n",
            "+-----------------+--------+--------+----------+---------+------------------+\n",
            "|  Celebrity Name | Flair  |  NLTK  | TextBlob | XGboost | Number of Tweets |\n",
            "+-----------------+--------+--------+----------+---------+------------------+\n",
            "|  Dwayne Jonson  | 451881 | 449466 |  455423  |  470235 |       161        |\n",
            "|   Taylor Swift  | 467480 | 460428 |  467808  |  481584 |       164        |\n",
            "|    Mark Cuban   |  9799  | 11299  |  13549   |  26299  |       125        |\n",
            "|   John Legend   | 15202  | 13283  |  14798   |  21464  |       101        |\n",
            "| Jennifer Hudson |  2974  | 12004  |  12139   |  12598  |        27        |\n",
            "+-----------------+--------+--------+----------+---------+------------------+\n",
            "TRUMP SUPPORTERS\n",
            " \n",
            "+----------------+---------+---------+----------+---------+------------------+\n",
            "| Celebrity Name |  Flair  |   NLTK  | TextBlob | XGboost | Number of Tweets |\n",
            "+----------------+---------+---------+----------+---------+------------------+\n",
            "| Conor Mcgregor |  115000 |  119900 |  122980  |  137680 |       140        |\n",
            "| Jack Nicklaus  |  113600 |  116150 |  119000  |  137000 |       150        |\n",
            "| Kristie Alley  |  222930 |  229638 |  235098  |  249762 |       156        |\n",
            "|  James Woods   |  122915 |  229668 |  233583  |  246273 |       135        |\n",
            "|   Lil Wayne    | 4327000 | 4326766 | 4327624  | 4332772 |        78        |\n",
            "+----------------+---------+---------+----------+---------+------------------+\n"
          ]
        }
      ]
    },
    {
      "cell_type": "code",
      "metadata": {
        "id": "J3mVtTI4ZQgN",
        "colab": {
          "base_uri": "https://localhost:8080/"
        },
        "outputId": "e659b3b7-679f-451a-a636-97b12be7bba3"
      },
      "source": [
        "print(\"Celebrities Influence : Biden\")\n",
        "print(\" \")\n",
        "print(\"Flair Model    :  Taylor Swift > Dwayne Jonson > John Legend > Mark Cuban > Jennifer Hudson\")\n",
        "print(\"NLTK Model     :  Taylor Swift > Dwayne Jonson > John Legend > Jennifer Hudson > Mark Cuban\")\n",
        "print(\"Textblob Model :  Taylor Swift > Dwayne Jonson > John Legend > Mark Cuban > Jennifer Hudson\")\n",
        "print(\"Xgboost Model  :  Taylor Swift > Dwayne Jonson > John Legend > Mark Cuban > Jennifer Hudson\")"
      ],
      "execution_count": 4,
      "outputs": [
        {
          "output_type": "stream",
          "name": "stdout",
          "text": [
            "Celebrities Influence : Biden\n",
            " \n",
            "Flair Model    :  Taylor Swift > Dwayne Jonson > John Legend > Mark Cuban > Jennifer Hudson\n",
            "NLTK Model     :  Taylor Swift > Dwayne Jonson > John Legend > Jennifer Hudson > Mark Cuban\n",
            "Textblob Model :  Taylor Swift > Dwayne Jonson > John Legend > Mark Cuban > Jennifer Hudson\n",
            "Xgboost Model  :  Taylor Swift > Dwayne Jonson > John Legend > Mark Cuban > Jennifer Hudson\n"
          ]
        }
      ]
    },
    {
      "cell_type": "code",
      "metadata": {
        "id": "he70AlcF19fU",
        "colab": {
          "base_uri": "https://localhost:8080/"
        },
        "outputId": "322821c3-c00d-4433-e1e4-abd08a8fe949"
      },
      "source": [
        "print(\"Celebrities Influence : Trump\")\n",
        "print(\" \")\n",
        "print(\"Flair Model    :  Lil Wayne > Kristie Alley > James Woods > Conor Mcgregor > Jack Nicklaus\")\n",
        "print(\"NLTK Model     :  Lil Wayne > James Woods > Kristie Alley > Conor Mcgregor > Jack Nicklaus\")\n",
        "print(\"Textblob Model :  Lil Wayne > Kristie Alley > James Woods > Conor Mcgregor > Jack Nicklaus\")\n",
        "print(\"Xgboost Model  :  Lil Wayne > Kristie Alley > James Woods > Conor Mcgregor > Jack Nicklaus\")"
      ],
      "execution_count": 5,
      "outputs": [
        {
          "output_type": "stream",
          "name": "stdout",
          "text": [
            "Celebrities Influence : Trump\n",
            " \n",
            "Flair Model    :  Lil Wayne > Kristie Alley > James Woods > Conor Mcgregor > Jack Nicklaus\n",
            "NLTK Model     :  Lil Wayne > James Woods > Kristie Alley > Conor Mcgregor > Jack Nicklaus\n",
            "Textblob Model :  Lil Wayne > Kristie Alley > James Woods > Conor Mcgregor > Jack Nicklaus\n",
            "Xgboost Model  :  Lil Wayne > Kristie Alley > James Woods > Conor Mcgregor > Jack Nicklaus\n"
          ]
        }
      ]
    },
    {
      "cell_type": "code",
      "metadata": {
        "id": "DwKE_xM7dSc5"
      },
      "source": [
        ""
      ],
      "execution_count": null,
      "outputs": []
    }
  ]
}